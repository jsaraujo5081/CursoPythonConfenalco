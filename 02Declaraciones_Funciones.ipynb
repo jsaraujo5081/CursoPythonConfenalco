{
  "nbformat": 4,
  "nbformat_minor": 0,
  "metadata": {
    "colab": {
      "name": "02Declaraciones_Funciones.ipynb",
      "provenance": [],
      "collapsed_sections": [
        "RAbNdsgW9RqY",
        "KRc7yB3kQnqy",
        "z5wStgB4bJ70",
        "muxU5L1k6DGD",
        "SoFkxpJeLKH7"
      ],
      "authorship_tag": "ABX9TyNYIUiKpAM+DiRQ6cEyilqj",
      "include_colab_link": true
    },
    "kernelspec": {
      "name": "python3",
      "display_name": "Python 3"
    },
    "language_info": {
      "name": "python"
    }
  },
  "cells": [
    {
      "cell_type": "markdown",
      "metadata": {
        "id": "view-in-github",
        "colab_type": "text"
      },
      "source": [
        "<a href=\"https://colab.research.google.com/github/jsaraujo5081/CursoPythonConfenalco/blob/notebooks/02Declaraciones_Funciones.ipynb\" target=\"_parent\"><img src=\"https://colab.research.google.com/assets/colab-badge.svg\" alt=\"Open In Colab\"/></a>"
      ]
    },
    {
      "cell_type": "markdown",
      "source": [
        "# DECLARACIONES Y FUNCIONES"
      ],
      "metadata": {
        "id": "GBA6klrm8mci"
      }
    },
    {
      "cell_type": "markdown",
      "source": [
        "## Contenido\n",
        "\n",
        "* Lazos\n",
        "* Condicionales\n",
        "* Funciones\n",
        "* Librerias\n",
        "* Ejercicios"
      ],
      "metadata": {
        "id": "gdeDrzAd8xQP"
      }
    },
    {
      "cell_type": "markdown",
      "source": [
        "## Lazos"
      ],
      "metadata": {
        "id": "RAbNdsgW9RqY"
      }
    },
    {
      "cell_type": "markdown",
      "source": [
        "Los lazos son declaraciones que permiten la repetición (o iteración) de fragmentos de código, de forma que por un lado se optimice las líneas utilizadas para programación, y por otro se automaticen procesos de análisis sin depender de ciertas características de los objetos de entrada.\n",
        "\n",
        "Existen dos tipos importantes de lazos:"
      ],
      "metadata": {
        "id": "KUXfEbFNbQQo"
      }
    },
    {
      "cell_type": "markdown",
      "source": [
        "### Lazos \"for\"\n",
        "\n",
        "Los lazos for siguen la lógica siguiente:\n",
        "\n",
        "PARA cierto evento: \n",
        "\n",
        "> EJECUTAR otro evento\n",
        "\n",
        "> REPETIR\n",
        "\n",
        "Veamos a continuación un par de ejemplos de cómo programar un lazo for en Python:"
      ],
      "metadata": {
        "id": "R1_qaVf798L2"
      }
    },
    {
      "cell_type": "code",
      "execution_count": 2,
      "metadata": {
        "id": "iTP1RyhQ8lgH",
        "outputId": "14be1b2d-be62-4ef4-f99b-6df387adee26",
        "colab": {
          "base_uri": "https://localhost:8080/"
        }
      },
      "outputs": [
        {
          "output_type": "stream",
          "name": "stdout",
          "text": [
            "Una Nueva Esperanza\n",
            "El Imperio Contraataca\n",
            "El Retorno del Jedi\n",
            "La Amenaza Fantasma\n",
            "La Guerra de los Clones\n",
            "La Venganza de los Sith\n",
            "El Despertar de la Fuerza\n",
            "Los Ultimos Jedis\n",
            "El Ascenso de Skywalker\n"
          ]
        }
      ],
      "source": [
        "#Lista con las 9 películas principales de la saga de Star Wars\n",
        "star_wars = [\"Una Nueva Esperanza\",\"El Imperio Contraataca\",\"El Retorno del Jedi\",\"La Amenaza Fantasma\",\"La Guerra de los Clones\",\"La Venganza de los Sith\",\n",
        "             \"El Despertar de la Fuerza\",\"Los Ultimos Jedis\",\"El Ascenso de Skywalker\"]\n",
        "\n",
        "#Imprimir cada elemento de la lista\n",
        "print(star_wars[0])\n",
        "print(star_wars[1])\n",
        "print(star_wars[2])\n",
        "print(star_wars[3])\n",
        "print(star_wars[4])\n",
        "print(star_wars[5])\n",
        "print(star_wars[6])\n",
        "print(star_wars[7])\n",
        "print(star_wars[8])\n",
        "\n",
        "#Llene cada uno su código "
      ]
    },
    {
      "cell_type": "code",
      "source": [
        "#Imprimir cada elemento de la lista pero ahora con un lazo for\n",
        "for pelicula in star_wars:\n",
        "  print(pelicula)"
      ],
      "metadata": {
        "id": "Knjq0viw_vcg",
        "outputId": "2b474e0f-5833-470f-f059-a07bb7527cc7",
        "colab": {
          "base_uri": "https://localhost:8080/"
        }
      },
      "execution_count": 11,
      "outputs": [
        {
          "output_type": "stream",
          "name": "stdout",
          "text": [
            "Una Nueva Esperanza\n",
            "El Imperio Contraataca\n",
            "El Retorno del Jedi\n",
            "La Amenaza Fantasma\n",
            "La Guerra de los Clones\n",
            "La Venganza de los Sith\n",
            "El Despertar de la Fuerza\n",
            "Los Ultimos Jedis\n",
            "El Ascenso de Skywalker\n"
          ]
        }
      ]
    },
    {
      "cell_type": "code",
      "source": [
        "print(pelicula)"
      ],
      "metadata": {
        "id": "naMVCJgzucIk",
        "outputId": "5e8fb8b5-3639-49c1-9129-d9f53bb6812c",
        "colab": {
          "base_uri": "https://localhost:8080/"
        }
      },
      "execution_count": 12,
      "outputs": [
        {
          "output_type": "stream",
          "name": "stdout",
          "text": [
            "El Ascenso de Skywalker\n"
          ]
        }
      ]
    },
    {
      "cell_type": "markdown",
      "source": [
        "Nótese entonces que un lazo for en Python tiene la siguiente notación:\n",
        "\n",
        "```\n",
        "for VARIABLE in COLECCION:\n",
        "  OPERACION\n",
        "```\n",
        "\n",
        "Otro ejemplo:"
      ],
      "metadata": {
        "id": "E3-qWFQ7AJRF"
      }
    },
    {
      "cell_type": "code",
      "source": [
        "#Crear una lista con los primeros 100 números enteros al cuadrado usando for\n",
        "\n",
        "#Crear una lista vacia\n",
        "num_cuadrados = []\n",
        "\n",
        "for i in range(1,101):\n",
        "  num_cuadrados.append(i**2)\n",
        "\n",
        "print(num_cuadrados)"
      ],
      "metadata": {
        "id": "0b-FUK09_00A",
        "outputId": "ba7d65db-a517-4abd-b9c9-59e78187f6ee",
        "colab": {
          "base_uri": "https://localhost:8080/"
        }
      },
      "execution_count": 13,
      "outputs": [
        {
          "output_type": "stream",
          "name": "stdout",
          "text": [
            "[1, 4, 9, 16, 25, 36, 49, 64, 81, 100, 121, 144, 169, 196, 225, 256, 289, 324, 361, 400, 441, 484, 529, 576, 625, 676, 729, 784, 841, 900, 961, 1024, 1089, 1156, 1225, 1296, 1369, 1444, 1521, 1600, 1681, 1764, 1849, 1936, 2025, 2116, 2209, 2304, 2401, 2500, 2601, 2704, 2809, 2916, 3025, 3136, 3249, 3364, 3481, 3600, 3721, 3844, 3969, 4096, 4225, 4356, 4489, 4624, 4761, 4900, 5041, 5184, 5329, 5476, 5625, 5776, 5929, 6084, 6241, 6400, 6561, 6724, 6889, 7056, 7225, 7396, 7569, 7744, 7921, 8100, 8281, 8464, 8649, 8836, 9025, 9216, 9409, 9604, 9801, 10000]\n"
          ]
        }
      ]
    },
    {
      "cell_type": "markdown",
      "source": [
        "Los lazos pueden utilizarse también con secuencias *zip* o con diccionarios de la siguiente forma: "
      ],
      "metadata": {
        "id": "KVa95g7zBHEp"
      }
    },
    {
      "cell_type": "code",
      "source": [
        "#Crear listas con los nombres y la edad de una familia\n",
        "nombre = [\"Juan\",\"Nicole\",\"Cayetana\"]\n",
        "edad = [35,33,8]\n",
        "\n",
        "#Utilizar zip para combinar las listas en una secuencia\n",
        "familia = zip(nombre,edad)\n",
        "\n",
        "#Imprimir de forma ordenada cada componente del diccionario\n",
        "for nombre,edad in familia:\n",
        "  print(\"Nombre: \" + nombre + \",\" + \"\\t\" + \"Edad: \" + str(edad)) #La expresión \"\\t\" representa un tabulado"
      ],
      "metadata": {
        "id": "vufJPd2cA4OO"
      },
      "execution_count": null,
      "outputs": []
    },
    {
      "cell_type": "code",
      "source": [
        "#Crear un diccionario de clientes\n",
        "clientes = {\"ID\": [\"0001\",\"0002\",\"0003\"], \"Nombre\": [\"Empresa A\",\"Empresa B\",\"Empresa C\"], \"Tipo\": [1,2,1]}\n",
        "\n",
        "#Obtener el tamaño de los valores inscritos en el diccionario\n",
        "contador = len(clientes.values())\n",
        "\n",
        "#Imprimir de forma ordenada cada componente del diccionario\n",
        "for i in range(0,contador):\n",
        "  for clave,valor in clientes.items():\n",
        "    print(clave)\n",
        "    print(valor[i])\n",
        "  print(\"\\n\")"
      ],
      "metadata": {
        "id": "4LCx7-4qCKei"
      },
      "execution_count": null,
      "outputs": []
    },
    {
      "cell_type": "markdown",
      "source": [
        "### Lazos \"while\"\n",
        "\n",
        "Los lazos while siguen la lógica siguiente:\n",
        "\n",
        "MIENTRAS SUCEDE cierto evento: \n",
        "\n",
        "> EJECUTAR otro evento\n",
        "\n",
        "Veamos a continuación un par de ejemplos de cómo programar un lazo while en Python:"
      ],
      "metadata": {
        "id": "6-wyefOlF3bM"
      }
    },
    {
      "cell_type": "code",
      "source": [
        "#Años de estreno de películas de star wars\n",
        "year_sw = [1977,1980,1983,1999,2002,2005,2015,2017,2019]\n",
        "\n",
        "#Imprimir solamente años de estreno en el sigo 20\n",
        "i = 0\n",
        "while year_sw[i] <= 2000:\n",
        "  print(year_sw[i])\n",
        "  i = i + 1"
      ],
      "metadata": {
        "id": "QpIKgxpAItOW"
      },
      "execution_count": null,
      "outputs": []
    },
    {
      "cell_type": "markdown",
      "source": [
        "Nótese entonces algunas particularidades de un lazo while:\n",
        "\n",
        "* Se requiere de una inicialización específica.\n",
        "\n",
        "```\n",
        "i = 0\n",
        "```\n",
        "\n",
        "* Se requiere dentro del lazo especificar un cambio del indicador inicializado\n",
        "\n",
        "```\n",
        "i = i + 1\n",
        "```\n",
        "\n",
        "* Por consiguiente la notación es de la forma\n",
        "\n",
        "```\n",
        "INICIALIZACION\n",
        "while COMPARACION LOGICA:\n",
        "  OPERACION\n",
        "  CAMBIO DE LA INICIALIZACION\n",
        "```"
      ],
      "metadata": {
        "id": "hKs__bfJKNAG"
      }
    },
    {
      "cell_type": "markdown",
      "source": [
        "Al igual que en el caso anterior, es posible trabajar con colecciones tipo *zip* o diccionarios: "
      ],
      "metadata": {
        "id": "x6rrRvLKNk5R"
      }
    },
    {
      "cell_type": "code",
      "source": [
        "#Construir un diccionario que relacine los años con las peliculas\n",
        "seq_sw = zip(star_wars,year_sw)\n",
        "dic_sw = dict(seq_sw)\n",
        "\n",
        "#Imprimir las peliculas que se estrenaron el siglo 20\n",
        "contador = 0\n",
        "while year_sw[contador] <= 2000:\n",
        "  print(list(dic_sw.keys())[contador])\n",
        "  contador = contador + 1 "
      ],
      "metadata": {
        "id": "quWSSCrDNyUY"
      },
      "execution_count": null,
      "outputs": []
    },
    {
      "cell_type": "markdown",
      "source": [
        "## Condicionales"
      ],
      "metadata": {
        "id": "KRc7yB3kQnqy"
      }
    },
    {
      "cell_type": "markdown",
      "source": [
        "Los condicionales son declaraciones que permiten ejecutar operaciones basadas en una regla de decisión lógica, tal que:\n",
        "\n",
        "SI SUCEDE UN evento: \n",
        "\n",
        "> EJECUTAR evento 1\n",
        "\n",
        "CASO CONTRARIO:\n",
        "\n",
        "> EJECUTAR evento 2\n",
        "\n"
      ],
      "metadata": {
        "id": "FnyYbd51bWhV"
      }
    },
    {
      "cell_type": "code",
      "source": [
        "#Definir un valor al azar\n",
        "valor = -1\n",
        "\n",
        "#Verificar si el valor es positivo o negativo\n",
        "if valor > 0:\n",
        "  print(\"Valor positivo\")\n",
        "else:\n",
        "  print(\"Valor negativo\")"
      ],
      "metadata": {
        "colab": {
          "base_uri": "https://localhost:8080/"
        },
        "id": "MbVZOlDTUqxc",
        "outputId": "3b07ced9-c61a-4b66-f5dd-7c6a9787a20f"
      },
      "execution_count": null,
      "outputs": [
        {
          "output_type": "stream",
          "name": "stdout",
          "text": [
            "Valor negativo\n"
          ]
        }
      ]
    },
    {
      "cell_type": "markdown",
      "source": [
        "La notación en este caso viene dada por:\n",
        "\n",
        "```\n",
        "if COMPARACION LOGICA:\n",
        "  OPERACION 1\n",
        "else:\n",
        "  OPERACION 2\n",
        "```\n",
        "\n",
        "De igual forma es posible concatenar adicionar comparaciones mediante la expresión *elif* "
      ],
      "metadata": {
        "id": "AbYm2PXkVcG9"
      }
    },
    {
      "cell_type": "code",
      "source": [
        "#Imprimir \"Valor es 0\" cuando corresponda\n",
        "if valor > 0:\n",
        "  print(\"Valor positivo\")\n",
        "elif valor == 0:\n",
        "  print(\"Valor es 0\")\n",
        "else:\n",
        "  print(\"Valor negativo\")"
      ],
      "metadata": {
        "id": "kEwFKr4uWDSM"
      },
      "execution_count": null,
      "outputs": []
    },
    {
      "cell_type": "markdown",
      "source": [
        "Otro ejemplo:"
      ],
      "metadata": {
        "id": "o6DFVznUWb8q"
      }
    },
    {
      "cell_type": "code",
      "source": [
        "#Otener el valor absoluto de un número al azar\n",
        "if valor > 0:\n",
        "  print(valor)\n",
        "else:\n",
        "  print(valor*-1)\n"
      ],
      "metadata": {
        "id": "VRNx-QgnDT2H"
      },
      "execution_count": null,
      "outputs": []
    },
    {
      "cell_type": "markdown",
      "source": [
        "Se pueden concatenar comparaciones un una misma expresión usando criterios lógicos como:\n",
        "\n",
        "* *and*: true si ambos son verdaderos\n",
        "* *or*: true si al menos uno es verdadero\n",
        "* *not*: true si la expresión es falsa, y viseversa"
      ],
      "metadata": {
        "id": "hhrpbfx6WrQ1"
      }
    },
    {
      "cell_type": "code",
      "source": [
        "#Definir las caracteristicas de una pelicula\n",
        "genero = \"Accion\"\n",
        "release_date = 2010\n",
        "\n",
        "#Evaluar la pelicula\n",
        "if genero == \"Comedia\" or genero == \"Drama\":\n",
        "    print(\"Peliculon!\")\n",
        "elif release_date < 1978:\n",
        "    print(\"Vieja y Aburrida...\")\n",
        "else:\n",
        "    print(\"Meh\")"
      ],
      "metadata": {
        "id": "_Wura8WxWrzI"
      },
      "execution_count": null,
      "outputs": []
    },
    {
      "cell_type": "markdown",
      "source": [
        "Asimismo, es posible combinar lazos con condicionales de forma directa:"
      ],
      "metadata": {
        "id": "AQz1OYSZXhWg"
      }
    },
    {
      "cell_type": "code",
      "source": [
        "#Crear diccionario de peliculas de star wars con su rating\n",
        "rating = [3.9,4.5,4.7,3.2,3.8,4.3,2.9,2.1,1.5]\n",
        "dic_sw = dict(zip(star_wars,rating))\n",
        "\n",
        "#Mostrar las películas que tienen un rating mayor a 3.5/5\n",
        "for nombre,valor in dic_sw.items():\n",
        "  if valor > 3.5:\n",
        "    print(nombre)\n",
        "  else:\n",
        "    continue"
      ],
      "metadata": {
        "id": "aZVAb1IGXtYp"
      },
      "execution_count": null,
      "outputs": []
    },
    {
      "cell_type": "markdown",
      "source": [
        "Nótese que el comando *continue* le indica al lazo for que no haga nada y siga a la siguiente iteración."
      ],
      "metadata": {
        "id": "MB_KrEPFZ40e"
      }
    },
    {
      "cell_type": "markdown",
      "source": [
        "## Funciones"
      ],
      "metadata": {
        "id": "z5wStgB4bJ70"
      }
    },
    {
      "cell_type": "markdown",
      "source": [
        "Las funciones son constructos de código que pueden ser reutilizados de forma consistente, y se guardan en la memoria. \n",
        "\n",
        "Para crear una función en Python se sigue la siguiente notación:\n",
        "\n",
        "\n",
        "```\n",
        "def NOMBRE_FUNCION(ARGUMENTOS...):\n",
        "  COMANDOS A EJECUTAR\n",
        "  return RESULTADOS\n",
        "```\n",
        "\n"
      ],
      "metadata": {
        "id": "aHv_SHJ8bNnz"
      }
    },
    {
      "cell_type": "code",
      "source": [
        "#Definir una funcion que construya un diccionario diccionario cualquiera a partir de dos listas\n",
        "def crear_diccionario(clave,valor):\n",
        "  seq = zip(clave,valor)\n",
        "  return dict(seq)"
      ],
      "metadata": {
        "id": "H4WZ-bAbb6_-"
      },
      "execution_count": null,
      "outputs": []
    },
    {
      "cell_type": "code",
      "source": [
        "nombre = [\"Juan\",\"Nicole\",\"Cayetana\"]\n",
        "edad = [35,33,8]\n",
        "\n",
        "#Usar funcion creada\n",
        "diccionario_familia = crear_diccionario(nombre,edad)\n",
        "print(diccionario_familia)"
      ],
      "metadata": {
        "id": "4oJJPiiecRk_"
      },
      "execution_count": null,
      "outputs": []
    },
    {
      "cell_type": "code",
      "source": [
        "#Usar la funcion creada con las listas de star wars\n",
        "diccionario_starwars = crear_diccionario(star_wars,year_sw)\n",
        "diccionario_starwars"
      ],
      "metadata": {
        "id": "NOyC_35zXtE-"
      },
      "execution_count": null,
      "outputs": []
    },
    {
      "cell_type": "markdown",
      "source": [
        "Creemos ahora una función que tome una lista de números y calcule su promedio aritmético:"
      ],
      "metadata": {
        "id": "t0S0VKeLdZbC"
      }
    },
    {
      "cell_type": "code",
      "source": [
        "#Definir funcion\n",
        "def promedio(lista):\n",
        "  suma = 0\n",
        "  n = len(lista)\n",
        "  for val in lista:\n",
        "    suma = suma + val\n",
        "  resultado = suma/n\n",
        "  return resultado "
      ],
      "metadata": {
        "id": "Fy5FVcQbdoP7"
      },
      "execution_count": null,
      "outputs": []
    },
    {
      "cell_type": "code",
      "source": [
        "#Calcular el promedio de la edad\n",
        "promedio(edad)"
      ],
      "metadata": {
        "id": "roAvBMaleLyp"
      },
      "execution_count": null,
      "outputs": []
    },
    {
      "cell_type": "code",
      "source": [
        "#Calcular el promedio del rating\n",
        "promedio(rating)"
      ],
      "metadata": {
        "id": "Untbg9vBdovM"
      },
      "execution_count": null,
      "outputs": []
    },
    {
      "cell_type": "markdown",
      "source": [
        "Esta función puede perfeccionarse puesto que si se ingresa una lista vacia se genera un error de división por cero. "
      ],
      "metadata": {
        "id": "147f8Bc4exn6"
      }
    },
    {
      "cell_type": "code",
      "source": [
        "#Definir una lista vacia\n",
        "lista_vacia = []\n",
        "promedio(lista_vacia)"
      ],
      "metadata": {
        "id": "Y4eW5OXTewxS"
      },
      "execution_count": null,
      "outputs": []
    },
    {
      "cell_type": "markdown",
      "source": [
        "Usemos para esto un condicional:"
      ],
      "metadata": {
        "id": "glanX-hGfkHs"
      }
    },
    {
      "cell_type": "code",
      "source": [
        "#Funcion de promedio corregida\n",
        "def promedio(lista):\n",
        "  if len(lista) == 0:\n",
        "    print(\"ADVERTENCIA: Lista esta vacía\")\n",
        "    resultado = 0\n",
        "  else:\n",
        "    suma = 0\n",
        "    n = len(lista)\n",
        "    for val in lista:\n",
        "      suma = suma + val\n",
        "    resultado = suma/n\n",
        "  return resultado "
      ],
      "metadata": {
        "id": "M80Jb1cbfKWF"
      },
      "execution_count": null,
      "outputs": []
    },
    {
      "cell_type": "code",
      "source": [
        "#Definir una lista vacia\n",
        "lista_vacia = []\n",
        "promedio(lista_vacia)"
      ],
      "metadata": {
        "id": "J2nN_QXEfXr-"
      },
      "execution_count": null,
      "outputs": []
    },
    {
      "cell_type": "markdown",
      "source": [
        "Probemos ahora una función que devuelva una lista con el número de caracteres de una lista de strings, pero que alerte si el elemento evaluado no es un texto:\n",
        "\n"
      ],
      "metadata": {
        "id": "plfdbkG-f0YU"
      }
    },
    {
      "cell_type": "code",
      "source": [
        "def caracteres(lista):\n",
        "  resultado = []\n",
        "  for i in range(0,len(lista)):\n",
        "    if type(lista[i]) != str:\n",
        "      resultado.append(\"No es un texto\")\n",
        "    else:\n",
        "      resultado.append(len(lista[i]))\n",
        "  return resultado"
      ],
      "metadata": {
        "id": "cwNiXVKRgt-R"
      },
      "execution_count": null,
      "outputs": []
    },
    {
      "cell_type": "code",
      "source": [
        "#Contador de caracteres de nombre\n",
        "caracteres(nombre)"
      ],
      "metadata": {
        "id": "MBmsN7Kxg2E2"
      },
      "execution_count": null,
      "outputs": []
    },
    {
      "cell_type": "code",
      "source": [
        "#Contador de caracteres de star wars\n",
        "caracteres(star_wars)"
      ],
      "metadata": {
        "id": "pL8OGLIjy7oK"
      },
      "execution_count": null,
      "outputs": []
    },
    {
      "cell_type": "code",
      "source": [
        "#Contador de lista con números y textos\n",
        "nombre_edad = nombre\n",
        "nombre_edad.extend(edad)\n",
        "caracteres(nombre_edad)"
      ],
      "metadata": {
        "id": "8osGkffFzZqO"
      },
      "execution_count": null,
      "outputs": []
    },
    {
      "cell_type": "markdown",
      "source": [
        "### Funciones Lambda\n",
        "\n",
        "Las funciones lambda son un tipo de funciones de naturaleza anonima, esto es, no tienen un nombre específico y pueden ejecutarse de forma directa.\n",
        "\n",
        "Son de mucha utilidad cuando se desea usar una función como argumento de otra."
      ],
      "metadata": {
        "id": "Cu034Xk21sUn"
      }
    },
    {
      "cell_type": "code",
      "source": [
        "#Definir una funcion lambda que devuelva la raiz enésima de un número t\n",
        "f = lambda t,n: t**(1/n)\n",
        "f(88,5)"
      ],
      "metadata": {
        "id": "4lSzOjbG2HfU"
      },
      "execution_count": null,
      "outputs": []
    },
    {
      "cell_type": "markdown",
      "source": [
        "Como se puede ver, la notación de una función lambda es de la siguiente forma\n",
        "\n",
        "```\n",
        "lambda ARGUMENTOS...: OPERACION\n",
        "```\n",
        "\n",
        "A continuación entonces, se muestra cómo se puede usar este tipo de funciones como un argumento de otra."
      ],
      "metadata": {
        "id": "WpACe9vq2yqs"
      }
    },
    {
      "cell_type": "code",
      "source": [
        "#Usar la función anterior para calcular el valor presente de una cuota mensual, teniendo un interes anual\n",
        "vpn = lambda cuota,t,n: cuota/f(t,n)\n",
        "\n",
        "vpn(1000000,1.0764,12)"
      ],
      "metadata": {
        "id": "UmgMTSWv2nnc"
      },
      "execution_count": null,
      "outputs": []
    },
    {
      "cell_type": "markdown",
      "source": [
        "En este sentido tambien es posible utilizar estas funciones como argumento de alguna función o método ya existente."
      ],
      "metadata": {
        "id": "bU240GaD5Ala"
      }
    },
    {
      "cell_type": "code",
      "source": [
        "#Ordenar la lista star wars por el número de caracteres en cada titulo\n",
        "star_wars.sort(key = lambda x: len(x))\n",
        "star_wars"
      ],
      "metadata": {
        "id": "RIzU6BEK5Puk"
      },
      "execution_count": null,
      "outputs": []
    },
    {
      "cell_type": "code",
      "source": [
        "#Ordenar una lista de números poniendo los impares primero\n",
        "numeros = list(range(1,11))\n",
        "print(numeros)\n",
        "numeros.sort(key = lambda x: x%2, reverse = True)\n",
        "print(numeros)"
      ],
      "metadata": {
        "id": "xWk9_m4rz1w1"
      },
      "execution_count": null,
      "outputs": []
    },
    {
      "cell_type": "markdown",
      "source": [
        "## Librerías"
      ],
      "metadata": {
        "id": "muxU5L1k6DGD"
      }
    },
    {
      "cell_type": "markdown",
      "source": [
        "\n",
        "Las librerias (o paquetes) son colecciones de funciones, métodos y objetos desarrollados por terceras personas, pero que pueden ser utilizadas por cualquier persona que posea Python, y que buscan atacar una necesidad de análisis específica.\n",
        "\n",
        "Como se mencionó, este aspecto constituye una importante fortaleza de los lenguajes open source.\n",
        "\n",
        "En este curso, se utilizarán distintas librerias, entre las que se destacan\n",
        "\n",
        "* *numpy*: análisis numérico \n",
        "* *pandas*: manipulacion de tablas de datos\n",
        "* *matplotlib*: visualización\n",
        "* *sklearn*: machine learning\n",
        "\n",
        "Empecemos conociendo un poco de numpy, y aprovechemos para saber como importar (o cargar) una libreria en Python:\n"
      ],
      "metadata": {
        "id": "WSqwA_rD6eJW"
      }
    },
    {
      "cell_type": "code",
      "source": [
        "#Importar (o cargar) una libreria como numpy\n",
        "import numpy as np"
      ],
      "metadata": {
        "id": "w7y1qoBC7q_N"
      },
      "execution_count": null,
      "outputs": []
    },
    {
      "cell_type": "markdown",
      "source": [
        "*NumPy* es una librería basada en lenguaje C que permite el uso de diversas funciones estadísticas y de álgebra lineal, además de facilitar el procesamiento de datos.\n",
        "\n",
        "En este sentido presenta al objeto *ndarray* el cual se puede entender como una lista multidimensional (o en términos matemáticos una matriz)"
      ],
      "metadata": {
        "id": "fZ6ynd2V761b"
      }
    },
    {
      "cell_type": "markdown",
      "source": [
        "### Objeto ndarray"
      ],
      "metadata": {
        "id": "QBNgmOdx8q8U"
      }
    },
    {
      "cell_type": "code",
      "source": [
        "#Crear una lista de listas\n",
        "compras = [[\"Cebolla\",\"Zanahoria\",\"Col\"],[\"Manzana\",\"Naranja\",\"Pera\"],[\"Aceite\",\"Sal\",\"Pimienta\"],[\"Detergente\",\"Jabon\",\"Escoba\"]]\n",
        "print(compras)\n",
        "print(type(compras))"
      ],
      "metadata": {
        "id": "_oG3k5Os82NT"
      },
      "execution_count": null,
      "outputs": []
    },
    {
      "cell_type": "code",
      "source": [
        "#Transformar en ndarray\n",
        "compras_array = np.array(compras)\n",
        "print(compras_array)\n",
        "type(compras_array)"
      ],
      "metadata": {
        "id": "yQd1YAT070m9"
      },
      "execution_count": null,
      "outputs": []
    },
    {
      "cell_type": "markdown",
      "source": [
        "A continuación se muestran unos métodos interesantes con *ndarrays*."
      ],
      "metadata": {
        "id": "TP2kqaQ7-XJt"
      }
    },
    {
      "cell_type": "code",
      "source": [
        "#Ver las dimensiones de un array\n",
        "compras_array.ndim"
      ],
      "metadata": {
        "id": "Ig-SlE-X9gyp"
      },
      "execution_count": null,
      "outputs": []
    },
    {
      "cell_type": "code",
      "source": [
        "#Ver las dimensiones de un array\n",
        "compras_array.shape"
      ],
      "metadata": {
        "id": "rYzzJUvH9uKF"
      },
      "execution_count": null,
      "outputs": []
    },
    {
      "cell_type": "code",
      "source": [
        "#Cambiar las dimensiones de un array\n",
        "compras_array.reshape(6,2)"
      ],
      "metadata": {
        "id": "kwIgixbw95Lk"
      },
      "execution_count": null,
      "outputs": []
    },
    {
      "cell_type": "code",
      "source": [
        "#Cambiar dimensiones a una sola fila\n",
        "compras_array.flatten()"
      ],
      "metadata": {
        "id": "5pEe52d--c_o"
      },
      "execution_count": null,
      "outputs": []
    },
    {
      "cell_type": "code",
      "source": [
        "#Ordenamiento de un array\n",
        "array1 = np.array([10,2,9,17])\n",
        "array1.sort()\n",
        "print(array1)"
      ],
      "metadata": {
        "id": "BlaQRZfJ_e9J"
      },
      "execution_count": null,
      "outputs": []
    },
    {
      "cell_type": "code",
      "source": [
        "#Tamaño o norma de un array\n",
        "array1.size\n",
        "#Igualmente se puede usar len(array1)"
      ],
      "metadata": {
        "id": "cz1xA4-hBMDF"
      },
      "execution_count": null,
      "outputs": []
    },
    {
      "cell_type": "markdown",
      "source": [
        "Además, es posible generar ndarrays con las siguientes funciones de *numpy*"
      ],
      "metadata": {
        "id": "A98LsP5vAktX"
      }
    },
    {
      "cell_type": "code",
      "source": [
        "# Generar arrays con valores fijos\n",
        "print(np.zeros(5))\n",
        "print(np.ones(10))\n",
        "print(np.full(5,-3))"
      ],
      "metadata": {
        "id": "PNP3x3rZ_rOX"
      },
      "execution_count": null,
      "outputs": []
    },
    {
      "cell_type": "code",
      "source": [
        "#Generar un array a partir de una secuencia y dimensionarlo en cuatro filas\n",
        "np.arange(0.,10.,0.25).reshape(4,10) "
      ],
      "metadata": {
        "id": "klFDFzfmAgKi"
      },
      "execution_count": null,
      "outputs": []
    },
    {
      "cell_type": "markdown",
      "source": [
        "Por otra parte la indexación de *ndarrays* es similar a las listas:"
      ],
      "metadata": {
        "id": "iC_SZwcCBgOQ"
      }
    },
    {
      "cell_type": "code",
      "source": [
        "#Construir un array cualquiera\n",
        "arr_num = np.arange(0,16,2)\n",
        "arr_num"
      ],
      "metadata": {
        "id": "bP91EkfCBoLy"
      },
      "execution_count": null,
      "outputs": []
    },
    {
      "cell_type": "code",
      "source": [
        "#Obtener un elemento\n",
        "arr_num[5]"
      ],
      "metadata": {
        "id": "r9WQUJNEB90f"
      },
      "execution_count": null,
      "outputs": []
    },
    {
      "cell_type": "code",
      "source": [
        "#Obtener los primeros 5 elementos\n",
        "arr_num[:5]"
      ],
      "metadata": {
        "id": "kTpPGA36CEe-"
      },
      "execution_count": null,
      "outputs": []
    },
    {
      "cell_type": "code",
      "source": [
        "#Obtener elementos de un arreglo en forma de matriz\n",
        "arr_num2 = arr_num.reshape(4,2)\n",
        "print(arr_num2)\n",
        "print(arr_num2[2,1])"
      ],
      "metadata": {
        "id": "T4bs_88pCMzG"
      },
      "execution_count": null,
      "outputs": []
    },
    {
      "cell_type": "code",
      "source": [
        "#Otro caso\n",
        "arr_num2[:,1]"
      ],
      "metadata": {
        "id": "605u3MkICn7z"
      },
      "execution_count": null,
      "outputs": []
    },
    {
      "cell_type": "markdown",
      "source": [
        "### Funciones matemáticas en numpy\n",
        "\n"
      ],
      "metadata": {
        "id": "4NFCnqzgDCie"
      }
    },
    {
      "cell_type": "code",
      "source": [
        "#Crear dos arreglos numericos\n",
        "a1 = np.array([5,4,-1,8,-3,2,0,1]).reshape(4,2)\n",
        "a2 = arr_num2"
      ],
      "metadata": {
        "id": "NxaCwY8oC3eZ"
      },
      "execution_count": null,
      "outputs": []
    },
    {
      "cell_type": "code",
      "source": [
        "#Multiplicar un array\n",
        "a2 * 2"
      ],
      "metadata": {
        "id": "JcI0z5exD7aU"
      },
      "execution_count": null,
      "outputs": []
    },
    {
      "cell_type": "code",
      "source": [
        "#Multiplicar 2 arrays\n",
        "a1 * a2\n",
        "#Cuidado con que los arrays tengan las mismas dimensiones"
      ],
      "metadata": {
        "id": "-VvM3UsxEBu8"
      },
      "execution_count": null,
      "outputs": []
    },
    {
      "cell_type": "code",
      "source": [
        "#Raiz cuadrada\n",
        "np.sqrt(a1)"
      ],
      "metadata": {
        "id": "ItY7Ymw4ESy7"
      },
      "execution_count": null,
      "outputs": []
    },
    {
      "cell_type": "code",
      "source": [
        "#Comparacion de magnitudes de valores\n",
        "np.greater(a1,a2)"
      ],
      "metadata": {
        "id": "rhfIu3I4EbEf"
      },
      "execution_count": null,
      "outputs": []
    },
    {
      "cell_type": "markdown",
      "source": [
        "### Funciones estadísticas en numpy"
      ],
      "metadata": {
        "id": "hb17St2wErHY"
      }
    },
    {
      "cell_type": "code",
      "source": [
        "#Suma\n",
        "np.sum(a1)\n",
        "#a1.sum()"
      ],
      "metadata": {
        "id": "11lOvDSZE6Kh"
      },
      "execution_count": null,
      "outputs": []
    },
    {
      "cell_type": "code",
      "source": [
        "#Suma acumulada\n",
        "np.cumsum(a1)\n",
        "#a1.cumsum()"
      ],
      "metadata": {
        "id": "gp7pqc-ZFICz"
      },
      "execution_count": null,
      "outputs": []
    },
    {
      "cell_type": "code",
      "source": [
        "#Promedio de un arreglo\n",
        "np.mean(a1)\n",
        "#a1.mean()"
      ],
      "metadata": {
        "id": "Z-jw84TbEqWZ"
      },
      "execution_count": null,
      "outputs": []
    },
    {
      "cell_type": "code",
      "source": [
        "#Mediana\n",
        "np.median(a1)"
      ],
      "metadata": {
        "id": "DUA0BwlYFNmy"
      },
      "execution_count": null,
      "outputs": []
    },
    {
      "cell_type": "code",
      "source": [
        "#Desviacion Estandar\n",
        "np.std(a1)"
      ],
      "metadata": {
        "id": "6J7xTnVIFkre"
      },
      "execution_count": null,
      "outputs": []
    },
    {
      "cell_type": "markdown",
      "source": [
        "*Numpy* igualmente permite crear números aleatorios a partir de distribuciones estadísticas. "
      ],
      "metadata": {
        "id": "PBQ-9RlFHfp8"
      }
    },
    {
      "cell_type": "code",
      "source": [
        "#Numeros aleatorios desde una distribucion uniforme (0,1)\n",
        "np.random.rand(5)"
      ],
      "metadata": {
        "id": "IWTd80U6HfHG"
      },
      "execution_count": null,
      "outputs": []
    },
    {
      "cell_type": "code",
      "source": [
        "#Numeros aleatorios desde una distribución normal estandar\n",
        "np.random.randn(3)"
      ],
      "metadata": {
        "id": "fXdGrMpWHz1f"
      },
      "execution_count": null,
      "outputs": []
    },
    {
      "cell_type": "code",
      "source": [
        "#Numeros aleatorios desde una distribucion binomial (n,p)\n",
        "np.random.binomial(n = 5, p = 0.3, size = 2)"
      ],
      "metadata": {
        "id": "N6WIrOB_ID46"
      },
      "execution_count": null,
      "outputs": []
    },
    {
      "cell_type": "code",
      "source": [
        "#Numeros aleatorios desde una distribucion de poisson (lam)\n",
        "np.random.poisson(lam = 2,size = 5)"
      ],
      "metadata": {
        "id": "ZPuW788dIftl"
      },
      "execution_count": null,
      "outputs": []
    },
    {
      "cell_type": "markdown",
      "source": [
        "### Filtrado y enmascarado de datos\n",
        "\n",
        "Numpy permite filtrar o enmascarar datos de un arreglo mediante el uso de la funcion *where*."
      ],
      "metadata": {
        "id": "0q5HTS4qGT9z"
      }
    },
    {
      "cell_type": "code",
      "source": [
        "prices = np.array([0.99, 14.49, 19.99, 20.99, 0.49])\n",
        "#Enmascarar precios menores a 1\n",
        "np.where(prices < 1,True,False)"
      ],
      "metadata": {
        "id": "X3D-6VJ4GbvN"
      },
      "execution_count": null,
      "outputs": []
    },
    {
      "cell_type": "code",
      "source": [
        "#Filtrar datos de precios menores a 1\n",
        "precios_bajos = prices[np.where(prices < 1,True,False)]\n",
        "precios_bajos"
      ],
      "metadata": {
        "id": "JJ5zbluiGseM"
      },
      "execution_count": null,
      "outputs": []
    },
    {
      "cell_type": "markdown",
      "source": [
        "Esto permite además dar un tratamiento a un conjunto de datos. Veamos el siguiente ejemplo:"
      ],
      "metadata": {
        "id": "Ibv1QCxcJsgZ"
      }
    },
    {
      "cell_type": "code",
      "source": [
        "#Modificar valores erroneos con una mascara\n",
        "edades = np.array([45,-5,30,28,np.nan,50,24])\n",
        "print(edades)\n",
        "\n",
        "#Poner como \"nan\" (not a number) valores ilógicos\n",
        "edades_limpio1 = np.where(edades < 0,np.nan,edades)\n",
        "print(edades_limpio1)\n",
        "\n",
        "#Sustituir los \"nan\" por el promedio\n",
        "prom_edades = np.mean(edades_limpio1[np.where(np.isnan(edades_limpio1),False,True)])\n",
        "edades_limpio2 = np.where(np.isnan(edades_limpio1),prom_edades,edades)\n",
        "print(edades_limpio2)"
      ],
      "metadata": {
        "id": "tycxvV9NI3pB"
      },
      "execution_count": null,
      "outputs": []
    },
    {
      "cell_type": "markdown",
      "source": [
        "## Ejercicios"
      ],
      "metadata": {
        "id": "SoFkxpJeLKH7"
      }
    },
    {
      "cell_type": "markdown",
      "source": [
        "\n",
        "1. Escriba una funcion que responda \"Hola, cómo estas?\" cuando reciba como entrada \"Hola\", y que se despida con cualquier mensaje cuando reciba como entrada \"Adios\"."
      ],
      "metadata": {
        "id": "SelWr9vBLoey"
      }
    },
    {
      "cell_type": "code",
      "source": [
        ""
      ],
      "metadata": {
        "id": "vWJalkrLLqmb"
      },
      "execution_count": null,
      "outputs": []
    },
    {
      "cell_type": "markdown",
      "source": [
        "2. Corrija la sintaxis de los siguientes códigos"
      ],
      "metadata": {
        "id": "lsVLR69ILrRQ"
      }
    },
    {
      "cell_type": "code",
      "source": [
        "threshold = 5\n",
        "values = list(range(10))\n",
        "for v in values:\n",
        "    if v > threshold print(v)"
      ],
      "metadata": {
        "id": "btcBmIZLND5K"
      },
      "execution_count": null,
      "outputs": []
    },
    {
      "cell_type": "code",
      "source": [
        "for i : range(5) {\n",
        "    print(i)\n",
        "}"
      ],
      "metadata": {
        "id": "W2ubvkdyNR2G"
      },
      "execution_count": null,
      "outputs": []
    },
    {
      "cell_type": "code",
      "source": [
        "counter = 0\n",
        "while counter < 10:\n",
        "print(counter)\n",
        "counter = counter + 1"
      ],
      "metadata": {
        "id": "CdBj4_EmNUfY"
      },
      "execution_count": null,
      "outputs": []
    },
    {
      "cell_type": "markdown",
      "source": [
        "3. Cree una lista de texto cualquiera y genere un código que imprima todos los elementos que poseen más de 3 caracteres"
      ],
      "metadata": {
        "id": "ggJ8rxp_NfOu"
      }
    },
    {
      "cell_type": "code",
      "source": [
        ""
      ],
      "metadata": {
        "id": "zYppyP-qNYwG"
      },
      "execution_count": null,
      "outputs": []
    },
    {
      "cell_type": "markdown",
      "source": [
        "4. Separar la siguiente lista de tuplas en dos, de forma que todos los números estén en una y los testos en otra"
      ],
      "metadata": {
        "id": "SZtWWXf-Nxqu"
      }
    },
    {
      "cell_type": "code",
      "source": [
        "data = [(1,'banana'),(2,'pear'),(3,'sweet potato'),(4,'melon')]"
      ],
      "metadata": {
        "id": "i2jn5FOgNsGn"
      },
      "execution_count": null,
      "outputs": []
    }
  ]
}