{
  "nbformat": 4,
  "nbformat_minor": 0,
  "metadata": {
    "colab": {
      "name": "02Declaraciones_Funciones.ipynb",
      "provenance": [],
      "collapsed_sections": [
        "RAbNdsgW9RqY",
        "KRc7yB3kQnqy",
        "z5wStgB4bJ70",
        "muxU5L1k6DGD",
        "SoFkxpJeLKH7"
      ],
      "authorship_tag": "ABX9TyMXve72tZD74npeZpy1eCSL",
      "include_colab_link": true
    },
    "kernelspec": {
      "name": "python3",
      "display_name": "Python 3"
    },
    "language_info": {
      "name": "python"
    }
  },
  "cells": [
    {
      "cell_type": "markdown",
      "metadata": {
        "id": "view-in-github",
        "colab_type": "text"
      },
      "source": [
        "<a href=\"https://colab.research.google.com/github/jsaraujo5081/CursoPythonConfenalco/blob/notebooks/02Declaraciones_Funciones.ipynb\" target=\"_parent\"><img src=\"https://colab.research.google.com/assets/colab-badge.svg\" alt=\"Open In Colab\"/></a>"
      ]
    },
    {
      "cell_type": "markdown",
      "source": [
        "# DECLARACIONES Y FUNCIONES"
      ],
      "metadata": {
        "id": "GBA6klrm8mci"
      }
    },
    {
      "cell_type": "markdown",
      "source": [
        "## Contenido\n",
        "\n",
        "* Lazos\n",
        "* Condicionales\n",
        "* Funciones\n",
        "* Librerias\n",
        "* Ejercicios"
      ],
      "metadata": {
        "id": "gdeDrzAd8xQP"
      }
    },
    {
      "cell_type": "markdown",
      "source": [
        "## Lazos"
      ],
      "metadata": {
        "id": "RAbNdsgW9RqY"
      }
    },
    {
      "cell_type": "markdown",
      "source": [
        "Los lazos son declaraciones que permiten la repetición (o iteración) de fragmentos de código, de forma que por un lado se optimice las líneas utilizadas para programación, y por otro se automaticen procesos de análisis sin depender de ciertas características de los objetos de entrada.\n",
        "\n",
        "Existen dos tipos importantes de lazos:"
      ],
      "metadata": {
        "id": "KUXfEbFNbQQo"
      }
    },
    {
      "cell_type": "markdown",
      "source": [
        "### Lazos \"for\" (for Loops)\n",
        "\n",
        "Los lazos for siguen la lógica siguiente:\n",
        "\n",
        "PARA cierto evento: \n",
        "\n",
        "> EJECUTAR otro evento\n",
        "\n",
        "> REPETIR\n",
        "\n",
        "Veamos a continuación un par de ejemplos de cómo programar un lazo for en Python:"
      ],
      "metadata": {
        "id": "R1_qaVf798L2"
      }
    },
    {
      "cell_type": "code",
      "execution_count": 15,
      "metadata": {
        "id": "iTP1RyhQ8lgH",
        "outputId": "6db0566b-bee5-4226-9281-7642851bb2e0",
        "colab": {
          "base_uri": "https://localhost:8080/"
        }
      },
      "outputs": [
        {
          "output_type": "stream",
          "name": "stdout",
          "text": [
            "Una Nueva Esperanza\n",
            "El Imperio Contraataca\n",
            "El Retorno del Jedi\n",
            "La Amenaza Fantasma\n",
            "La Guerra de los Clones\n",
            "La Venganza de los Sith\n",
            "El Despertar de la Fuerza\n",
            "Los Ultimos Jedis\n",
            "El Ascenso de Skywalker\n"
          ]
        }
      ],
      "source": [
        "#Lista con las 9 películas principales de la saga de Star Wars\n",
        "star_wars = [\"Una Nueva Esperanza\",\"El Imperio Contraataca\",\"El Retorno del Jedi\",\"La Amenaza Fantasma\",\"La Guerra de los Clones\",\"La Venganza de los Sith\",\n",
        "             \"El Despertar de la Fuerza\",\"Los Ultimos Jedis\",\"El Ascenso de Skywalker\"]\n",
        "\n",
        "#Imprimir cada elemento de la lista\n",
        "print(star_wars[0])\n",
        "print(star_wars[1])\n",
        "print(star_wars[2])\n",
        "print(star_wars[3])\n",
        "print(star_wars[4])\n",
        "print(star_wars[5])\n",
        "print(star_wars[6])\n",
        "print(star_wars[7])\n",
        "print(star_wars[8])\n",
        "\n",
        "#Llene cada uno su código "
      ]
    },
    {
      "cell_type": "code",
      "source": [
        "#Imprimir cada elemento de la lista pero ahora con un lazo for\n",
        "for pelicula in star_wars:\n",
        "  print(pelicula)"
      ],
      "metadata": {
        "id": "Knjq0viw_vcg",
        "outputId": "2b474e0f-5833-470f-f059-a07bb7527cc7",
        "colab": {
          "base_uri": "https://localhost:8080/"
        }
      },
      "execution_count": null,
      "outputs": [
        {
          "output_type": "stream",
          "name": "stdout",
          "text": [
            "Una Nueva Esperanza\n",
            "El Imperio Contraataca\n",
            "El Retorno del Jedi\n",
            "La Amenaza Fantasma\n",
            "La Guerra de los Clones\n",
            "La Venganza de los Sith\n",
            "El Despertar de la Fuerza\n",
            "Los Ultimos Jedis\n",
            "El Ascenso de Skywalker\n"
          ]
        }
      ]
    },
    {
      "cell_type": "code",
      "source": [
        "print(pelicula)"
      ],
      "metadata": {
        "id": "naMVCJgzucIk",
        "outputId": "5e8fb8b5-3639-49c1-9129-d9f53bb6812c",
        "colab": {
          "base_uri": "https://localhost:8080/"
        }
      },
      "execution_count": null,
      "outputs": [
        {
          "output_type": "stream",
          "name": "stdout",
          "text": [
            "El Ascenso de Skywalker\n"
          ]
        }
      ]
    },
    {
      "cell_type": "markdown",
      "source": [
        "Nótese entonces que un lazo for en Python tiene la siguiente notación:\n",
        "\n",
        "```\n",
        "for VARIABLE in COLECCION:\n",
        "  OPERACION\n",
        "```\n",
        "\n",
        "Otro ejemplo:"
      ],
      "metadata": {
        "id": "E3-qWFQ7AJRF"
      }
    },
    {
      "cell_type": "code",
      "source": [
        "#Crear una lista con los primeros 100 números enteros al cuadrado usando for\n",
        "\n",
        "#Crear una lista vacia\n",
        "num_cuadrados = []\n",
        "\n",
        "for i in range(1,101):\n",
        "  num_cuadrados.append(i**2)\n",
        "\n",
        "print(num_cuadrados)"
      ],
      "metadata": {
        "id": "0b-FUK09_00A",
        "outputId": "ba7d65db-a517-4abd-b9c9-59e78187f6ee",
        "colab": {
          "base_uri": "https://localhost:8080/"
        }
      },
      "execution_count": null,
      "outputs": [
        {
          "output_type": "stream",
          "name": "stdout",
          "text": [
            "[1, 4, 9, 16, 25, 36, 49, 64, 81, 100, 121, 144, 169, 196, 225, 256, 289, 324, 361, 400, 441, 484, 529, 576, 625, 676, 729, 784, 841, 900, 961, 1024, 1089, 1156, 1225, 1296, 1369, 1444, 1521, 1600, 1681, 1764, 1849, 1936, 2025, 2116, 2209, 2304, 2401, 2500, 2601, 2704, 2809, 2916, 3025, 3136, 3249, 3364, 3481, 3600, 3721, 3844, 3969, 4096, 4225, 4356, 4489, 4624, 4761, 4900, 5041, 5184, 5329, 5476, 5625, 5776, 5929, 6084, 6241, 6400, 6561, 6724, 6889, 7056, 7225, 7396, 7569, 7744, 7921, 8100, 8281, 8464, 8649, 8836, 9025, 9216, 9409, 9604, 9801, 10000]\n"
          ]
        }
      ]
    },
    {
      "cell_type": "markdown",
      "source": [
        "Los lazos pueden utilizarse también con secuencias *zip* o con diccionarios de la siguiente forma: "
      ],
      "metadata": {
        "id": "KVa95g7zBHEp"
      }
    },
    {
      "cell_type": "code",
      "source": [
        "#Crear listas con los nombres y la edad de una familia\n",
        "nombre = [\"Juan\",\"Nicole\",\"Cayetana\"]\n",
        "edad = [35,33,8]\n",
        "\n",
        "#Utilizar zip para combinar las listas en una secuencia\n",
        "familia = zip(nombre,edad)\n",
        "\n",
        "#Imprimir de forma ordenada cada componente del diccionario\n",
        "for n,e in familia:\n",
        "  print(\"Nombre: \" + n + \",\" + \"\\t\" + \"Edad: \" + str(e)) #La expresión \"\\t\" representa un tabulado"
      ],
      "metadata": {
        "id": "vufJPd2cA4OO",
        "outputId": "491b6f14-8adc-49bc-ca64-6874abb62847",
        "colab": {
          "base_uri": "https://localhost:8080/"
        }
      },
      "execution_count": 1,
      "outputs": [
        {
          "output_type": "stream",
          "name": "stdout",
          "text": [
            "Nombre: Juan,\tEdad: 35\n",
            "Nombre: Nicole,\tEdad: 33\n",
            "Nombre: Cayetana,\tEdad: 8\n"
          ]
        }
      ]
    },
    {
      "cell_type": "code",
      "source": [
        "f = edad[len(edad)-1] + 1\n",
        "f"
      ],
      "metadata": {
        "id": "tTbyK_oTiYA_",
        "outputId": "be6460b7-4af5-45e7-e8f7-4e501d854c37",
        "colab": {
          "base_uri": "https://localhost:8080/"
        }
      },
      "execution_count": 4,
      "outputs": [
        {
          "output_type": "execute_result",
          "data": {
            "text/plain": [
              "9"
            ]
          },
          "metadata": {},
          "execution_count": 4
        }
      ]
    },
    {
      "cell_type": "code",
      "source": [
        "#Crear un diccionario de clientes\n",
        "clientes = {\"ID\": [\"0001\",\"0002\",\"0003\"], \"Nombre\": [\"Empresa A\",\"Empresa B\",\"Empresa C\"], \"Tipo\": [1,2,1]}\n",
        "\n",
        "#Obtener el tamaño de los valores inscritos en el diccionario\n",
        "contador = len(clientes.values())"
      ],
      "metadata": {
        "id": "4LCx7-4qCKei"
      },
      "execution_count": 5,
      "outputs": []
    },
    {
      "cell_type": "code",
      "source": [
        "contador"
      ],
      "metadata": {
        "id": "h5zStaypjZIY",
        "outputId": "5a74a36e-a90a-40d5-ef1f-35958983a633",
        "colab": {
          "base_uri": "https://localhost:8080/"
        }
      },
      "execution_count": 8,
      "outputs": [
        {
          "output_type": "execute_result",
          "data": {
            "text/plain": [
              "3"
            ]
          },
          "metadata": {},
          "execution_count": 8
        }
      ]
    },
    {
      "cell_type": "code",
      "source": [
        "#Imprimir de forma ordenada cada componente del diccionario\n",
        "for i in range(0,contador):\n",
        "  for clave,valor in clientes.items():\n",
        "    print(clave)\n",
        "    print(valor[i])\n",
        "  print(\"\\n\")"
      ],
      "metadata": {
        "id": "hw2q5Ja7jWQt",
        "outputId": "9a944288-953a-4fc2-d11a-aef7e72aa64e",
        "colab": {
          "base_uri": "https://localhost:8080/"
        }
      },
      "execution_count": 10,
      "outputs": [
        {
          "output_type": "stream",
          "name": "stdout",
          "text": [
            "ID\n",
            "0001\n",
            "Nombre\n",
            "Empresa A\n",
            "Tipo\n",
            "1\n",
            "\n",
            "\n",
            "ID\n",
            "0002\n",
            "Nombre\n",
            "Empresa B\n",
            "Tipo\n",
            "2\n",
            "\n",
            "\n",
            "ID\n",
            "0003\n",
            "Nombre\n",
            "Empresa C\n",
            "Tipo\n",
            "1\n",
            "\n",
            "\n"
          ]
        }
      ]
    },
    {
      "cell_type": "code",
      "source": [
        "#for (i in 1:10) {\n",
        "#print(i)\n",
        "#}"
      ],
      "metadata": {
        "id": "BCnlZyAJkw-O",
        "outputId": "e7326049-fd13-4ea3-95be-b38952dc9f03",
        "colab": {
          "base_uri": "https://localhost:8080/",
          "height": 131
        }
      },
      "execution_count": 11,
      "outputs": [
        {
          "output_type": "error",
          "ename": "SyntaxError",
          "evalue": "ignored",
          "traceback": [
            "\u001b[0;36m  File \u001b[0;32m\"<ipython-input-11-cc4680ae1530>\"\u001b[0;36m, line \u001b[0;32m1\u001b[0m\n\u001b[0;31m    for (i in 1:10) {\u001b[0m\n\u001b[0m               ^\u001b[0m\n\u001b[0;31mSyntaxError\u001b[0m\u001b[0;31m:\u001b[0m invalid syntax\n"
          ]
        }
      ]
    },
    {
      "cell_type": "markdown",
      "source": [
        "### Lazos \"while\" (While Loops)\n",
        "\n",
        "Los lazos while siguen la lógica siguiente:\n",
        "\n",
        "MIENTRAS SUCEDE cierto evento: \n",
        "\n",
        "> EJECUTAR otro evento\n",
        "\n",
        "Veamos a continuación un par de ejemplos de cómo programar un lazo while en Python:"
      ],
      "metadata": {
        "id": "6-wyefOlF3bM"
      }
    },
    {
      "cell_type": "code",
      "source": [
        "#Años de estreno de películas de star wars\n",
        "year_sw = [1977,1980,1983,1999,2002,2005,2015,2017,2019]\n",
        "\n",
        "#Imprimir solamente años de estreno en el sigo 20\n",
        "i = 0 #Inicializacion de la variable auxiliar\n",
        "while year_sw[i] <= 2000:\n",
        "  print(year_sw[i])\n",
        "  i = i + 1 # == i += 1"
      ],
      "metadata": {
        "id": "QpIKgxpAItOW",
        "outputId": "cb1c0463-8d31-42f8-daf4-742e7759872d",
        "colab": {
          "base_uri": "https://localhost:8080/"
        }
      },
      "execution_count": 12,
      "outputs": [
        {
          "output_type": "stream",
          "name": "stdout",
          "text": [
            "1977\n",
            "1980\n",
            "1983\n",
            "1999\n"
          ]
        }
      ]
    },
    {
      "cell_type": "code",
      "source": [
        "i = 0 #Inicializacion de la variable auxiliar\n",
        "while year_sw[i] <= 2000:\n",
        "  print(year_sw[i])\n",
        "  i += 1"
      ],
      "metadata": {
        "id": "aQ-h71mKnOpU",
        "outputId": "8b235715-e317-4712-cbd9-ece2a1110aad",
        "colab": {
          "base_uri": "https://localhost:8080/"
        }
      },
      "execution_count": 13,
      "outputs": [
        {
          "output_type": "stream",
          "name": "stdout",
          "text": [
            "1977\n",
            "1980\n",
            "1983\n",
            "1999\n"
          ]
        }
      ]
    },
    {
      "cell_type": "markdown",
      "source": [
        "Nótese entonces algunas particularidades de un lazo while:\n",
        "\n",
        "* Se requiere de una inicialización específica.\n",
        "\n",
        "```\n",
        "i = 0\n",
        "```\n",
        "\n",
        "* Se requiere dentro del lazo especificar un cambio del indicador inicializado\n",
        "\n",
        "```\n",
        "i = i + 1\n",
        "```\n",
        "\n",
        "* Por consiguiente la notación es de la forma\n",
        "\n",
        "```\n",
        "INICIALIZACION\n",
        "while COMPARACION LOGICA:\n",
        "  OPERACION\n",
        "  CAMBIO DE LA VARIABLE AUX\n",
        "```"
      ],
      "metadata": {
        "id": "hKs__bfJKNAG"
      }
    },
    {
      "cell_type": "markdown",
      "source": [
        "Al igual que en el caso anterior, es posible trabajar con colecciones tipo *zip* o diccionarios: "
      ],
      "metadata": {
        "id": "x6rrRvLKNk5R"
      }
    },
    {
      "cell_type": "code",
      "source": [
        "#Construir un diccionario que relacine los años con las peliculas\n",
        "seq_sw = zip(star_wars,year_sw)\n",
        "dic_sw = dict(seq_sw)\n",
        "dic_sw"
      ],
      "metadata": {
        "id": "quWSSCrDNyUY",
        "outputId": "01536627-6ee9-4a38-ef0b-40543c4be476",
        "colab": {
          "base_uri": "https://localhost:8080/"
        }
      },
      "execution_count": 16,
      "outputs": [
        {
          "output_type": "execute_result",
          "data": {
            "text/plain": [
              "{'El Ascenso de Skywalker': 2019,\n",
              " 'El Despertar de la Fuerza': 2015,\n",
              " 'El Imperio Contraataca': 1980,\n",
              " 'El Retorno del Jedi': 1983,\n",
              " 'La Amenaza Fantasma': 1999,\n",
              " 'La Guerra de los Clones': 2002,\n",
              " 'La Venganza de los Sith': 2005,\n",
              " 'Los Ultimos Jedis': 2017,\n",
              " 'Una Nueva Esperanza': 1977}"
            ]
          },
          "metadata": {},
          "execution_count": 16
        }
      ]
    },
    {
      "cell_type": "code",
      "source": [
        "#Imprimir las peliculas que se estrenaron el siglo 20\n",
        "contador = 0\n",
        "while year_sw[contador] <= 2000:\n",
        "  print(list(dic_sw.keys())[contador])\n",
        "  contador = contador + 1 "
      ],
      "metadata": {
        "id": "W2NVfgdfnxHR",
        "outputId": "d3886704-dd4b-4a75-92d3-bf8322b6839c",
        "colab": {
          "base_uri": "https://localhost:8080/"
        }
      },
      "execution_count": 17,
      "outputs": [
        {
          "output_type": "stream",
          "name": "stdout",
          "text": [
            "Una Nueva Esperanza\n",
            "El Imperio Contraataca\n",
            "El Retorno del Jedi\n",
            "La Amenaza Fantasma\n"
          ]
        }
      ]
    },
    {
      "cell_type": "code",
      "source": [
        "#Lazo infinito\n",
        "i = 0\n",
        "while i >= 0:\n",
        "  print(i)\n",
        "  if i == 200:\n",
        "    break #Forma de evitar que el lazo se extienda al infinito\n",
        "  i = i + 1"
      ],
      "metadata": {
        "id": "Fc3aFBXRosH3"
      },
      "execution_count": null,
      "outputs": []
    },
    {
      "cell_type": "markdown",
      "source": [
        "## Condicionales"
      ],
      "metadata": {
        "id": "KRc7yB3kQnqy"
      }
    },
    {
      "cell_type": "markdown",
      "source": [
        "Los condicionales son declaraciones que permiten ejecutar operaciones basadas en una regla de decisión lógica, tal que:\n",
        "\n",
        "SI SUCEDE UN evento: \n",
        "\n",
        "> EJECUTAR evento 1\n",
        "\n",
        "CASO CONTRARIO:\n",
        "\n",
        "> EJECUTAR evento 2\n",
        "\n"
      ],
      "metadata": {
        "id": "FnyYbd51bWhV"
      }
    },
    {
      "cell_type": "code",
      "source": [
        "#Definir un valor al azar\n",
        "valor = 0\n",
        "\n",
        "#Verificar si el valor es positivo o negativo\n",
        "if valor > 0:\n",
        "  print(\"Valor positivo\")\n",
        "else:\n",
        "  print(\"Valor negativo\")"
      ],
      "metadata": {
        "colab": {
          "base_uri": "https://localhost:8080/"
        },
        "id": "MbVZOlDTUqxc",
        "outputId": "0d85b557-855d-411a-a3ab-9202a5177392"
      },
      "execution_count": 26,
      "outputs": [
        {
          "output_type": "stream",
          "name": "stdout",
          "text": [
            "Valor negativo\n"
          ]
        }
      ]
    },
    {
      "cell_type": "markdown",
      "source": [
        "La notación en este caso viene dada por:\n",
        "\n",
        "```\n",
        "if COMPARACION LOGICA:\n",
        "  OPERACION 1\n",
        "else:\n",
        "  OPERACION 2\n",
        "```\n",
        "\n",
        "De igual forma es posible concatenar adicionar comparaciones mediante la expresión *elif* "
      ],
      "metadata": {
        "id": "AbYm2PXkVcG9"
      }
    },
    {
      "cell_type": "code",
      "source": [
        "if valor > 0:\n",
        "  print(\"Valor positivo\")\n",
        "else:\n",
        "  if valor == 0:\n",
        "    print(\"Valor es 0\")\n",
        "  else:\n",
        "    print(\"Valor negativo\")"
      ],
      "metadata": {
        "id": "8IqDWkVXrHwI",
        "outputId": "b469482e-a752-4e0d-9918-12563af674af",
        "colab": {
          "base_uri": "https://localhost:8080/"
        }
      },
      "execution_count": 27,
      "outputs": [
        {
          "output_type": "stream",
          "name": "stdout",
          "text": [
            "Valor es 0\n"
          ]
        }
      ]
    },
    {
      "cell_type": "code",
      "source": [
        "#Imprimir \"Valor es 0\" cuando corresponda\n",
        "valor = -1\n",
        "\n",
        "if valor > 0:\n",
        "  print(\"Valor positivo\")\n",
        "elif valor == 0:\n",
        "  print(\"Valor es 0\")\n",
        "elif valor == -1:\n",
        "  print(\"Cuadrado del imaginario\")\n",
        "else:\n",
        "  print(\"Valor negativo\")"
      ],
      "metadata": {
        "id": "kEwFKr4uWDSM",
        "outputId": "d350f265-b621-4047-d3e7-83a360d5b8b1",
        "colab": {
          "base_uri": "https://localhost:8080/"
        }
      },
      "execution_count": 29,
      "outputs": [
        {
          "output_type": "stream",
          "name": "stdout",
          "text": [
            "Cuadrado del imaginario\n"
          ]
        }
      ]
    },
    {
      "cell_type": "markdown",
      "source": [
        "Otro ejemplo:"
      ],
      "metadata": {
        "id": "o6DFVznUWb8q"
      }
    },
    {
      "cell_type": "markdown",
      "source": [
        "$$ |x| = x si x >= 0; -x si x<0 $$"
      ],
      "metadata": {
        "id": "GBf4Ehgesaf3"
      }
    },
    {
      "cell_type": "code",
      "source": [
        "#Otener el valor absoluto de un número al azar\n",
        "valor = -1453000\n",
        "\n",
        "if valor > 0:\n",
        "  print(valor)\n",
        "else:\n",
        "  print(valor*-1)"
      ],
      "metadata": {
        "id": "VRNx-QgnDT2H",
        "outputId": "657fd4c6-5a3a-422b-bd12-5646ddc6d0a5",
        "colab": {
          "base_uri": "https://localhost:8080/"
        }
      },
      "execution_count": 30,
      "outputs": [
        {
          "output_type": "stream",
          "name": "stdout",
          "text": [
            "1453000\n"
          ]
        }
      ]
    },
    {
      "cell_type": "markdown",
      "source": [
        "Se pueden concatenar comparaciones un una misma expresión usando criterios lógicos como:\n",
        "\n",
        "* *and*: true si ambos son verdaderos\n",
        "* *or*: true si al menos uno es verdadero\n",
        "* *not*: true si la expresión es falsa, y viseversa"
      ],
      "metadata": {
        "id": "hhrpbfx6WrQ1"
      }
    },
    {
      "cell_type": "code",
      "source": [
        "#Definir las caracteristicas de una pelicula\n",
        "genero = \"Accion\"\n",
        "release_date = 2010\n",
        "\n",
        "if genero == \"Comedia\":\n",
        "  print(\"Peliculon!\")\n",
        "else:\n",
        "  if genero == \"Drama\":\n",
        "    print(\"Peliculon!\")\n",
        "  else:\n",
        "    if release_date < 1978:\n",
        "      print(\"Vieja y Aburrida...\")\n",
        "    else:\n",
        "      print(\"Meh\")"
      ],
      "metadata": {
        "id": "_Wura8WxWrzI",
        "outputId": "c9eacf82-63c6-4f48-a869-72efb78c69f1",
        "colab": {
          "base_uri": "https://localhost:8080/"
        }
      },
      "execution_count": 31,
      "outputs": [
        {
          "output_type": "stream",
          "name": "stdout",
          "text": [
            "Meh\n"
          ]
        }
      ]
    },
    {
      "cell_type": "code",
      "source": [
        "#Evaluar la pelicula\n",
        "if genero == \"Comedia\" or genero == \"Drama\":\n",
        "    print(\"Peliculon!\")\n",
        "elif release_date < 1978:\n",
        "    print(\"Vieja y Aburrida...\")\n",
        "else:\n",
        "    print(\"Meh\")"
      ],
      "metadata": {
        "id": "VjPlAx4xu6IA",
        "outputId": "5214875e-4baf-4a41-a838-f561473aaf73",
        "colab": {
          "base_uri": "https://localhost:8080/"
        }
      },
      "execution_count": 32,
      "outputs": [
        {
          "output_type": "stream",
          "name": "stdout",
          "text": [
            "Meh\n"
          ]
        }
      ]
    },
    {
      "cell_type": "markdown",
      "source": [
        "Asimismo, es posible combinar lazos con condicionales de forma directa:"
      ],
      "metadata": {
        "id": "AQz1OYSZXhWg"
      }
    },
    {
      "cell_type": "code",
      "source": [
        "#Crear diccionario de peliculas de star wars con su rating\n",
        "rating = [3.9,4.5,4.7,3.2,3.8,4.3,2.9,2.1,1.5]\n",
        "dic_sw = dict(zip(star_wars,rating))\n",
        "\n",
        "#Mostrar las películas que tienen un rating mayor a 3.5/5\n",
        "for nombre,valor in dic_sw.items():\n",
        "  if valor > 3.5:\n",
        "    print(nombre)\n",
        "  else:\n",
        "    continue #No haga nada más y pase a la siguiente iteración"
      ],
      "metadata": {
        "id": "aZVAb1IGXtYp",
        "outputId": "dc0ab80c-01d1-4337-a89e-c6efb5d2b570",
        "colab": {
          "base_uri": "https://localhost:8080/"
        }
      },
      "execution_count": 33,
      "outputs": [
        {
          "output_type": "stream",
          "name": "stdout",
          "text": [
            "Una Nueva Esperanza\n",
            "El Imperio Contraataca\n",
            "El Retorno del Jedi\n",
            "La Guerra de los Clones\n",
            "La Venganza de los Sith\n"
          ]
        }
      ]
    },
    {
      "cell_type": "markdown",
      "source": [
        "Nótese que el comando *continue* le indica al lazo for que no haga nada y siga a la siguiente iteración."
      ],
      "metadata": {
        "id": "MB_KrEPFZ40e"
      }
    },
    {
      "cell_type": "markdown",
      "source": [
        "## Funciones"
      ],
      "metadata": {
        "id": "z5wStgB4bJ70"
      }
    },
    {
      "cell_type": "markdown",
      "source": [
        "Las funciones son constructos de código que pueden ser reutilizados de forma consistente, y se guardan en la memoria. \n",
        "\n",
        "Para crear una función en Python se sigue la siguiente notación:\n",
        "\n",
        "\n",
        "```\n",
        "def NOMBRE_FUNCION(ARGUMENTOS...):\n",
        "  COMANDOS A EJECUTAR\n",
        "  return RESULTADOS\n",
        "```\n",
        "\n"
      ],
      "metadata": {
        "id": "aHv_SHJ8bNnz"
      }
    },
    {
      "cell_type": "markdown",
      "source": [
        "$$ y = f(x) $$\n",
        "$$ f(x) = x^2 + 1 $$\n",
        "$$ f(4) = 17 $$"
      ],
      "metadata": {
        "id": "Ncumld_sxOVT"
      }
    },
    {
      "cell_type": "markdown",
      "source": [
        "$$ f(x,y) = x^2 + y^2 $$\n",
        "$$ f(1,2) = 5 $$"
      ],
      "metadata": {
        "id": "w_Rk32BqxqQz"
      }
    },
    {
      "cell_type": "code",
      "source": [
        "#Definir una funcion que construya un diccionario cualquiera a partir de dos listas\n",
        "def crear_diccionario(clave,valor):\n",
        "  seq = zip(clave,valor)\n",
        "  diccionario = dict(seq)\n",
        "  return diccionario"
      ],
      "metadata": {
        "id": "H4WZ-bAbb6_-"
      },
      "execution_count": 34,
      "outputs": []
    },
    {
      "cell_type": "code",
      "source": [
        "crear_diccionario"
      ],
      "metadata": {
        "id": "QpjX5NUDyWGh",
        "outputId": "7947b45a-ca03-404b-8cce-e30e562ce6ab",
        "colab": {
          "base_uri": "https://localhost:8080/"
        }
      },
      "execution_count": 35,
      "outputs": [
        {
          "output_type": "execute_result",
          "data": {
            "text/plain": [
              "<function __main__.crear_diccionario>"
            ]
          },
          "metadata": {},
          "execution_count": 35
        }
      ]
    },
    {
      "cell_type": "code",
      "source": [
        "nombre = [\"Juan\",\"Nicole\",\"Cayetana\"]\n",
        "edad = [35,33,8]\n",
        "\n",
        "#Usar funcion creada\n",
        "diccionario_familia = crear_diccionario(nombre,edad)\n",
        "print(diccionario_familia)"
      ],
      "metadata": {
        "id": "4oJJPiiecRk_",
        "outputId": "cf23d4aa-e76a-496e-f6f2-62ff15700d55",
        "colab": {
          "base_uri": "https://localhost:8080/"
        }
      },
      "execution_count": 36,
      "outputs": [
        {
          "output_type": "stream",
          "name": "stdout",
          "text": [
            "{'Juan': 35, 'Nicole': 33, 'Cayetana': 8}\n"
          ]
        }
      ]
    },
    {
      "cell_type": "code",
      "source": [
        "#Usar la funcion creada con las listas de star wars\n",
        "diccionario_starwars = crear_diccionario(star_wars,year_sw)\n",
        "diccionario_starwars"
      ],
      "metadata": {
        "id": "NOyC_35zXtE-",
        "outputId": "fe75d598-3aa0-44dd-be6b-6330d4762ae0",
        "colab": {
          "base_uri": "https://localhost:8080/"
        }
      },
      "execution_count": 37,
      "outputs": [
        {
          "output_type": "execute_result",
          "data": {
            "text/plain": [
              "{'El Ascenso de Skywalker': 2019,\n",
              " 'El Despertar de la Fuerza': 2015,\n",
              " 'El Imperio Contraataca': 1980,\n",
              " 'El Retorno del Jedi': 1983,\n",
              " 'La Amenaza Fantasma': 1999,\n",
              " 'La Guerra de los Clones': 2002,\n",
              " 'La Venganza de los Sith': 2005,\n",
              " 'Los Ultimos Jedis': 2017,\n",
              " 'Una Nueva Esperanza': 1977}"
            ]
          },
          "metadata": {},
          "execution_count": 37
        }
      ]
    },
    {
      "cell_type": "code",
      "source": [
        "lista1 = [1,2,3,4]\n",
        "lista2 = [\"a\",\"b\",\"c\",\"d\"]\n",
        "\n",
        "diccionario_nuevo = crear_diccionario(lista1,lista2)\n",
        "print(diccionario_nuevo)"
      ],
      "metadata": {
        "id": "BkjsbIY6ywxR",
        "outputId": "e88be878-6175-4d4a-bd70-ea495a695881",
        "colab": {
          "base_uri": "https://localhost:8080/"
        }
      },
      "execution_count": 38,
      "outputs": [
        {
          "output_type": "stream",
          "name": "stdout",
          "text": [
            "{1: 'a', 2: 'b', 3: 'c', 4: 'd'}\n"
          ]
        }
      ]
    },
    {
      "cell_type": "markdown",
      "source": [
        "Creemos ahora una función que tome una lista de números y calcule su promedio aritmético:"
      ],
      "metadata": {
        "id": "t0S0VKeLdZbC"
      }
    },
    {
      "cell_type": "code",
      "source": [
        "#Definir funcion\n",
        "def promedio(lista):\n",
        "  suma = 0\n",
        "  n = len(lista)\n",
        "  for val in lista:\n",
        "    suma = suma + val\n",
        "  resultado = suma/n\n",
        "  return resultado "
      ],
      "metadata": {
        "id": "Fy5FVcQbdoP7"
      },
      "execution_count": 39,
      "outputs": []
    },
    {
      "cell_type": "code",
      "source": [
        "edad"
      ],
      "metadata": {
        "id": "qpOiDLzBzh7P",
        "outputId": "71f5519d-fb48-4e2c-90bb-2f8025949f68",
        "colab": {
          "base_uri": "https://localhost:8080/"
        }
      },
      "execution_count": 40,
      "outputs": [
        {
          "output_type": "execute_result",
          "data": {
            "text/plain": [
              "[35, 33, 8]"
            ]
          },
          "metadata": {},
          "execution_count": 40
        }
      ]
    },
    {
      "cell_type": "code",
      "source": [
        "#Calcular el promedio de la edad\n",
        "promedio(edad)"
      ],
      "metadata": {
        "id": "roAvBMaleLyp",
        "outputId": "8341f807-e1a5-4121-e8a8-9018f898d1b2",
        "colab": {
          "base_uri": "https://localhost:8080/"
        }
      },
      "execution_count": 41,
      "outputs": [
        {
          "output_type": "execute_result",
          "data": {
            "text/plain": [
              "25.333333333333332"
            ]
          },
          "metadata": {},
          "execution_count": 41
        }
      ]
    },
    {
      "cell_type": "code",
      "source": [
        "rating"
      ],
      "metadata": {
        "id": "8HCyRdnJzn5K",
        "outputId": "595b357b-db05-4ad5-ec7a-f641e8712d84",
        "colab": {
          "base_uri": "https://localhost:8080/"
        }
      },
      "execution_count": 42,
      "outputs": [
        {
          "output_type": "execute_result",
          "data": {
            "text/plain": [
              "[3.9, 4.5, 4.7, 3.2, 3.8, 4.3, 2.9, 2.1, 1.5]"
            ]
          },
          "metadata": {},
          "execution_count": 42
        }
      ]
    },
    {
      "cell_type": "code",
      "source": [
        "#Calcular el promedio del rating\n",
        "promedio(rating)"
      ],
      "metadata": {
        "id": "Untbg9vBdovM",
        "outputId": "ed423247-804a-4c02-dd6b-7eba9d46ccd4",
        "colab": {
          "base_uri": "https://localhost:8080/"
        }
      },
      "execution_count": 43,
      "outputs": [
        {
          "output_type": "execute_result",
          "data": {
            "text/plain": [
              "3.4333333333333336"
            ]
          },
          "metadata": {},
          "execution_count": 43
        }
      ]
    },
    {
      "cell_type": "markdown",
      "source": [
        "Esta función puede perfeccionarse puesto que si se ingresa una lista vacia se genera un error de división por cero. "
      ],
      "metadata": {
        "id": "147f8Bc4exn6"
      }
    },
    {
      "cell_type": "code",
      "source": [
        "#Definir una lista vacia\n",
        "lista_vacia = []\n",
        "promedio(lista_vacia)"
      ],
      "metadata": {
        "id": "Y4eW5OXTewxS",
        "outputId": "ae63198c-058b-4c58-d365-3a6569212a66",
        "colab": {
          "base_uri": "https://localhost:8080/",
          "height": 305
        }
      },
      "execution_count": 44,
      "outputs": [
        {
          "output_type": "error",
          "ename": "ZeroDivisionError",
          "evalue": "ignored",
          "traceback": [
            "\u001b[0;31m---------------------------------------------------------------------------\u001b[0m",
            "\u001b[0;31mZeroDivisionError\u001b[0m                         Traceback (most recent call last)",
            "\u001b[0;32m<ipython-input-44-4a82f81b8802>\u001b[0m in \u001b[0;36m<module>\u001b[0;34m()\u001b[0m\n\u001b[1;32m      1\u001b[0m \u001b[0;31m#Definir una lista vacia\u001b[0m\u001b[0;34m\u001b[0m\u001b[0;34m\u001b[0m\u001b[0;34m\u001b[0m\u001b[0m\n\u001b[1;32m      2\u001b[0m \u001b[0mlista_vacia\u001b[0m \u001b[0;34m=\u001b[0m \u001b[0;34m[\u001b[0m\u001b[0;34m]\u001b[0m\u001b[0;34m\u001b[0m\u001b[0;34m\u001b[0m\u001b[0m\n\u001b[0;32m----> 3\u001b[0;31m \u001b[0mpromedio\u001b[0m\u001b[0;34m(\u001b[0m\u001b[0mlista_vacia\u001b[0m\u001b[0;34m)\u001b[0m\u001b[0;34m\u001b[0m\u001b[0;34m\u001b[0m\u001b[0m\n\u001b[0m",
            "\u001b[0;32m<ipython-input-39-3eee54385e19>\u001b[0m in \u001b[0;36mpromedio\u001b[0;34m(lista)\u001b[0m\n\u001b[1;32m      5\u001b[0m   \u001b[0;32mfor\u001b[0m \u001b[0mval\u001b[0m \u001b[0;32min\u001b[0m \u001b[0mlista\u001b[0m\u001b[0;34m:\u001b[0m\u001b[0;34m\u001b[0m\u001b[0;34m\u001b[0m\u001b[0m\n\u001b[1;32m      6\u001b[0m     \u001b[0msuma\u001b[0m \u001b[0;34m=\u001b[0m \u001b[0msuma\u001b[0m \u001b[0;34m+\u001b[0m \u001b[0mval\u001b[0m\u001b[0;34m\u001b[0m\u001b[0;34m\u001b[0m\u001b[0m\n\u001b[0;32m----> 7\u001b[0;31m   \u001b[0mresultado\u001b[0m \u001b[0;34m=\u001b[0m \u001b[0msuma\u001b[0m\u001b[0;34m/\u001b[0m\u001b[0mn\u001b[0m\u001b[0;34m\u001b[0m\u001b[0;34m\u001b[0m\u001b[0m\n\u001b[0m\u001b[1;32m      8\u001b[0m   \u001b[0;32mreturn\u001b[0m \u001b[0mresultado\u001b[0m\u001b[0;34m\u001b[0m\u001b[0;34m\u001b[0m\u001b[0m\n",
            "\u001b[0;31mZeroDivisionError\u001b[0m: division by zero"
          ]
        }
      ]
    },
    {
      "cell_type": "markdown",
      "source": [
        "Usemos para esto un condicional:"
      ],
      "metadata": {
        "id": "glanX-hGfkHs"
      }
    },
    {
      "cell_type": "code",
      "source": [
        "#Funcion de promedio corregida\n",
        "def promedio(lista):\n",
        "  if len(lista) == 0:\n",
        "    print(\"ADVERTENCIA: Lista esta vacía\")\n",
        "    resultado = 0\n",
        "  else:\n",
        "    suma = 0\n",
        "    n = len(lista)\n",
        "    for val in lista:\n",
        "      suma = suma + val\n",
        "    resultado = suma/n\n",
        "  return resultado "
      ],
      "metadata": {
        "id": "M80Jb1cbfKWF"
      },
      "execution_count": 45,
      "outputs": []
    },
    {
      "cell_type": "code",
      "source": [
        "#Definir una lista vacia\n",
        "lista_vacia = []\n",
        "promedio(lista_vacia)"
      ],
      "metadata": {
        "id": "J2nN_QXEfXr-",
        "outputId": "0720e8f6-6332-4b9b-e469-c5acc4aec913",
        "colab": {
          "base_uri": "https://localhost:8080/"
        }
      },
      "execution_count": 46,
      "outputs": [
        {
          "output_type": "stream",
          "name": "stdout",
          "text": [
            "ADVERTENCIA: Lista esta vacía\n"
          ]
        },
        {
          "output_type": "execute_result",
          "data": {
            "text/plain": [
              "0"
            ]
          },
          "metadata": {},
          "execution_count": 46
        }
      ]
    },
    {
      "cell_type": "code",
      "source": [
        "lista2"
      ],
      "metadata": {
        "id": "en5g6e120lld",
        "outputId": "62eb372a-6573-4007-9743-604e6fb08a55",
        "colab": {
          "base_uri": "https://localhost:8080/"
        }
      },
      "execution_count": 47,
      "outputs": [
        {
          "output_type": "execute_result",
          "data": {
            "text/plain": [
              "['a', 'b', 'c', 'd']"
            ]
          },
          "metadata": {},
          "execution_count": 47
        }
      ]
    },
    {
      "cell_type": "code",
      "source": [
        "promedio(lista2)"
      ],
      "metadata": {
        "id": "HIYiA3k00pYG",
        "outputId": "9d89e9c5-2a20-4501-ec7b-0a4baa020bcb",
        "colab": {
          "base_uri": "https://localhost:8080/",
          "height": 287
        }
      },
      "execution_count": 48,
      "outputs": [
        {
          "output_type": "error",
          "ename": "TypeError",
          "evalue": "ignored",
          "traceback": [
            "\u001b[0;31m---------------------------------------------------------------------------\u001b[0m",
            "\u001b[0;31mTypeError\u001b[0m                                 Traceback (most recent call last)",
            "\u001b[0;32m<ipython-input-48-fd17701b27fc>\u001b[0m in \u001b[0;36m<module>\u001b[0;34m()\u001b[0m\n\u001b[0;32m----> 1\u001b[0;31m \u001b[0mpromedio\u001b[0m\u001b[0;34m(\u001b[0m\u001b[0mlista2\u001b[0m\u001b[0;34m)\u001b[0m\u001b[0;34m\u001b[0m\u001b[0;34m\u001b[0m\u001b[0m\n\u001b[0m",
            "\u001b[0;32m<ipython-input-45-c705fd054708>\u001b[0m in \u001b[0;36mpromedio\u001b[0;34m(lista)\u001b[0m\n\u001b[1;32m      8\u001b[0m     \u001b[0mn\u001b[0m \u001b[0;34m=\u001b[0m \u001b[0mlen\u001b[0m\u001b[0;34m(\u001b[0m\u001b[0mlista\u001b[0m\u001b[0;34m)\u001b[0m\u001b[0;34m\u001b[0m\u001b[0;34m\u001b[0m\u001b[0m\n\u001b[1;32m      9\u001b[0m     \u001b[0;32mfor\u001b[0m \u001b[0mval\u001b[0m \u001b[0;32min\u001b[0m \u001b[0mlista\u001b[0m\u001b[0;34m:\u001b[0m\u001b[0;34m\u001b[0m\u001b[0;34m\u001b[0m\u001b[0m\n\u001b[0;32m---> 10\u001b[0;31m       \u001b[0msuma\u001b[0m \u001b[0;34m=\u001b[0m \u001b[0msuma\u001b[0m \u001b[0;34m+\u001b[0m \u001b[0mval\u001b[0m\u001b[0;34m\u001b[0m\u001b[0;34m\u001b[0m\u001b[0m\n\u001b[0m\u001b[1;32m     11\u001b[0m     \u001b[0mresultado\u001b[0m \u001b[0;34m=\u001b[0m \u001b[0msuma\u001b[0m\u001b[0;34m/\u001b[0m\u001b[0mn\u001b[0m\u001b[0;34m\u001b[0m\u001b[0;34m\u001b[0m\u001b[0m\n\u001b[1;32m     12\u001b[0m   \u001b[0;32mreturn\u001b[0m \u001b[0mresultado\u001b[0m\u001b[0;34m\u001b[0m\u001b[0;34m\u001b[0m\u001b[0m\n",
            "\u001b[0;31mTypeError\u001b[0m: unsupported operand type(s) for +: 'int' and 'str'"
          ]
        }
      ]
    },
    {
      "cell_type": "markdown",
      "source": [
        "TAREA: Perfeccionar la funcion promedio de forma que si recibe una lista con elementos no numericos no arroje error"
      ],
      "metadata": {
        "id": "BsRz470L0uMz"
      }
    },
    {
      "cell_type": "markdown",
      "source": [
        "Probemos ahora una función que devuelva una lista con el número de caracteres de una lista de strings, pero que alerte si el elemento evaluado no es un texto:\n",
        "\n"
      ],
      "metadata": {
        "id": "plfdbkG-f0YU"
      }
    },
    {
      "cell_type": "code",
      "source": [
        "def caracteres(lista):\n",
        "  resultado = []\n",
        "  for i in range(0,len(lista)):\n",
        "    if type(lista[i]) != str:\n",
        "      resultado.append(\"No es un texto\")\n",
        "    else:\n",
        "      resultado.append(len(lista[i]))\n",
        "  return resultado"
      ],
      "metadata": {
        "id": "cwNiXVKRgt-R"
      },
      "execution_count": 49,
      "outputs": []
    },
    {
      "cell_type": "code",
      "source": [
        "nombre"
      ],
      "metadata": {
        "id": "CA9S9_eN1eTP",
        "outputId": "c7c4a110-35f7-4ca1-ad80-8b4fa9638a11",
        "colab": {
          "base_uri": "https://localhost:8080/"
        }
      },
      "execution_count": 50,
      "outputs": [
        {
          "output_type": "execute_result",
          "data": {
            "text/plain": [
              "['Juan', 'Nicole', 'Cayetana']"
            ]
          },
          "metadata": {},
          "execution_count": 50
        }
      ]
    },
    {
      "cell_type": "code",
      "source": [
        "#Contador de caracteres de nombre\n",
        "caracteres(nombre)"
      ],
      "metadata": {
        "id": "MBmsN7Kxg2E2",
        "outputId": "14b52b76-fb05-40aa-c4fb-9860034900ff",
        "colab": {
          "base_uri": "https://localhost:8080/"
        }
      },
      "execution_count": 51,
      "outputs": [
        {
          "output_type": "execute_result",
          "data": {
            "text/plain": [
              "[4, 6, 8]"
            ]
          },
          "metadata": {},
          "execution_count": 51
        }
      ]
    },
    {
      "cell_type": "code",
      "source": [
        "#Contador de caracteres de star wars\n",
        "caracteres(star_wars)"
      ],
      "metadata": {
        "id": "pL8OGLIjy7oK",
        "outputId": "84b07453-1df3-4dc9-f30d-7d5e0a22eabf",
        "colab": {
          "base_uri": "https://localhost:8080/"
        }
      },
      "execution_count": 52,
      "outputs": [
        {
          "output_type": "execute_result",
          "data": {
            "text/plain": [
              "[19, 22, 19, 19, 23, 23, 25, 17, 23]"
            ]
          },
          "metadata": {},
          "execution_count": 52
        }
      ]
    },
    {
      "cell_type": "code",
      "source": [
        "#Contador de lista con números y textos\n",
        "nombre_edad = nombre\n",
        "nombre_edad.extend(edad)\n",
        "nombre_edad"
      ],
      "metadata": {
        "id": "8osGkffFzZqO",
        "outputId": "c02f73b9-35f9-45e7-ba06-c8fdb65e2297",
        "colab": {
          "base_uri": "https://localhost:8080/"
        }
      },
      "execution_count": 53,
      "outputs": [
        {
          "output_type": "execute_result",
          "data": {
            "text/plain": [
              "['Juan', 'Nicole', 'Cayetana', 35, 33, 8]"
            ]
          },
          "metadata": {},
          "execution_count": 53
        }
      ]
    },
    {
      "cell_type": "code",
      "source": [
        "caracteres(nombre_edad)"
      ],
      "metadata": {
        "id": "54sj9MFi1oaL",
        "outputId": "95a95304-ec0a-4161-883a-ac51ca73d543",
        "colab": {
          "base_uri": "https://localhost:8080/"
        }
      },
      "execution_count": 54,
      "outputs": [
        {
          "output_type": "execute_result",
          "data": {
            "text/plain": [
              "[4, 6, 8, 'No es un texto', 'No es un texto', 'No es un texto']"
            ]
          },
          "metadata": {},
          "execution_count": 54
        }
      ]
    },
    {
      "cell_type": "markdown",
      "source": [
        "### Funciones Lambda\n",
        "\n",
        "Las funciones lambda son un tipo de funciones de naturaleza anonima, esto es, no tienen un nombre específico y pueden ejecutarse de forma directa.\n",
        "\n",
        "Son de mucha utilidad cuando se desea usar una función como argumento de otra."
      ],
      "metadata": {
        "id": "Cu034Xk21sUn"
      }
    },
    {
      "cell_type": "code",
      "source": [
        "#Definir una funcion lambda que devuelva la raiz enésima de un número t\n",
        "f = lambda t,n: t**(1/n)\n",
        "f(88,5)"
      ],
      "metadata": {
        "id": "4lSzOjbG2HfU",
        "outputId": "8aed4b8d-a7d1-4d3a-ef24-3222820588ab",
        "colab": {
          "base_uri": "https://localhost:8080/"
        }
      },
      "execution_count": 55,
      "outputs": [
        {
          "output_type": "execute_result",
          "data": {
            "text/plain": [
              "2.4484798507285492"
            ]
          },
          "metadata": {},
          "execution_count": 55
        }
      ]
    },
    {
      "cell_type": "code",
      "source": [
        "f(1543.44,8)"
      ],
      "metadata": {
        "id": "zz5oYVvP2ssT",
        "outputId": "4822e96f-6119-4a0a-817b-6ee67025538e",
        "colab": {
          "base_uri": "https://localhost:8080/"
        }
      },
      "execution_count": 56,
      "outputs": [
        {
          "output_type": "execute_result",
          "data": {
            "text/plain": [
              "2.5035785323314923"
            ]
          },
          "metadata": {},
          "execution_count": 56
        }
      ]
    },
    {
      "cell_type": "markdown",
      "source": [
        "Como se puede ver, la notación de una función lambda es de la siguiente forma\n",
        "\n",
        "```\n",
        "lambda ARGUMENTOS...: OPERACION\n",
        "```\n",
        "\n",
        "A continuación entonces, se muestra cómo se puede usar este tipo de funciones como un argumento de otra."
      ],
      "metadata": {
        "id": "WpACe9vq2yqs"
      }
    },
    {
      "cell_type": "code",
      "source": [
        "#Usar la función anterior para calcular el valor presente de una cuota mensual, teniendo un interes anualizado t\n",
        "vpn = lambda cuota,t,n: cuota/f(t,n)\n",
        "\n",
        "vpn(1000000,1.0764,12)"
      ],
      "metadata": {
        "id": "UmgMTSWv2nnc",
        "outputId": "eb50a0f5-f352-4f72-d83f-0bd5b8a103a2",
        "colab": {
          "base_uri": "https://localhost:8080/"
        }
      },
      "execution_count": 57,
      "outputs": [
        {
          "output_type": "execute_result",
          "data": {
            "text/plain": [
              "993883.6034544935"
            ]
          },
          "metadata": {},
          "execution_count": 57
        }
      ]
    },
    {
      "cell_type": "markdown",
      "source": [
        "En este sentido tambien es posible utilizar estas funciones como argumento de alguna función o método ya existente."
      ],
      "metadata": {
        "id": "bU240GaD5Ala"
      }
    },
    {
      "cell_type": "code",
      "source": [
        "star_wars.sort(reverse = False)\n",
        "star_wars"
      ],
      "metadata": {
        "id": "F-4VlfLG3llC",
        "outputId": "1c7d46dc-454a-4772-e079-af4074f73ca7",
        "colab": {
          "base_uri": "https://localhost:8080/"
        }
      },
      "execution_count": 59,
      "outputs": [
        {
          "output_type": "execute_result",
          "data": {
            "text/plain": [
              "['El Ascenso de Skywalker',\n",
              " 'El Despertar de la Fuerza',\n",
              " 'El Imperio Contraataca',\n",
              " 'El Retorno del Jedi',\n",
              " 'La Amenaza Fantasma',\n",
              " 'La Guerra de los Clones',\n",
              " 'La Venganza de los Sith',\n",
              " 'Los Ultimos Jedis',\n",
              " 'Una Nueva Esperanza']"
            ]
          },
          "metadata": {},
          "execution_count": 59
        }
      ]
    },
    {
      "cell_type": "code",
      "source": [
        "#Ordenar la lista star wars por el número de caracteres en cada titulo\n",
        "star_wars.sort(key = lambda x: len(x))\n",
        "star_wars"
      ],
      "metadata": {
        "id": "RIzU6BEK5Puk",
        "outputId": "e41a9443-c100-42bf-be60-6cdcf8fd02f3",
        "colab": {
          "base_uri": "https://localhost:8080/"
        }
      },
      "execution_count": 60,
      "outputs": [
        {
          "output_type": "execute_result",
          "data": {
            "text/plain": [
              "['Los Ultimos Jedis',\n",
              " 'El Retorno del Jedi',\n",
              " 'La Amenaza Fantasma',\n",
              " 'Una Nueva Esperanza',\n",
              " 'El Imperio Contraataca',\n",
              " 'El Ascenso de Skywalker',\n",
              " 'La Guerra de los Clones',\n",
              " 'La Venganza de los Sith',\n",
              " 'El Despertar de la Fuerza']"
            ]
          },
          "metadata": {},
          "execution_count": 60
        }
      ]
    },
    {
      "cell_type": "code",
      "source": [
        "#Ordenar una lista de números poniendo los impares primero\n",
        "numeros = list(range(1,11))\n",
        "print(numeros)\n",
        "numeros.sort(key = lambda x: x%2, reverse = True)\n",
        "print(numeros)"
      ],
      "metadata": {
        "id": "xWk9_m4rz1w1",
        "outputId": "b486cb21-3f1c-4253-9a6e-618cd57fe2c3",
        "colab": {
          "base_uri": "https://localhost:8080/"
        }
      },
      "execution_count": 61,
      "outputs": [
        {
          "output_type": "stream",
          "name": "stdout",
          "text": [
            "[1, 2, 3, 4, 5, 6, 7, 8, 9, 10]\n",
            "[1, 3, 5, 7, 9, 2, 4, 6, 8, 10]\n"
          ]
        }
      ]
    },
    {
      "cell_type": "markdown",
      "source": [
        "## Librerías"
      ],
      "metadata": {
        "id": "muxU5L1k6DGD"
      }
    },
    {
      "cell_type": "markdown",
      "source": [
        "\n",
        "Las librerias (o paquetes) son colecciones de funciones, métodos y objetos desarrollados por terceras personas, pero que pueden ser utilizadas por cualquier persona que posea Python, y que buscan atacar una necesidad de análisis específica.\n",
        "\n",
        "Como se mencionó, este aspecto constituye una importante fortaleza de los lenguajes open source.\n",
        "\n",
        "En este curso, se utilizarán distintas librerias, entre las que se destacan\n",
        "\n",
        "* *numpy*: análisis numérico \n",
        "* *pandas*: manipulacion de tablas de datos\n",
        "* *matplotlib*: visualización\n",
        "* *sklearn*: machine learning\n",
        "\n",
        "Empecemos conociendo un poco de numpy, y aprovechemos para saber como importar (o cargar) una libreria en Python:\n"
      ],
      "metadata": {
        "id": "WSqwA_rD6eJW"
      }
    },
    {
      "cell_type": "code",
      "source": [
        "#Importar (o cargar) una libreria como numpy\n",
        "import numpy as np"
      ],
      "metadata": {
        "id": "w7y1qoBC7q_N"
      },
      "execution_count": null,
      "outputs": []
    },
    {
      "cell_type": "markdown",
      "source": [
        "*NumPy* es una librería basada en lenguaje C que permite el uso de diversas funciones estadísticas y de álgebra lineal, además de facilitar el procesamiento de datos.\n",
        "\n",
        "En este sentido presenta al objeto *ndarray* el cual se puede entender como una lista multidimensional (o en términos matemáticos una matriz)"
      ],
      "metadata": {
        "id": "fZ6ynd2V761b"
      }
    },
    {
      "cell_type": "markdown",
      "source": [
        "### Objeto ndarray"
      ],
      "metadata": {
        "id": "QBNgmOdx8q8U"
      }
    },
    {
      "cell_type": "code",
      "source": [
        "#Crear una lista de listas\n",
        "compras = [[\"Cebolla\",\"Zanahoria\",\"Col\"],[\"Manzana\",\"Naranja\",\"Pera\"],[\"Aceite\",\"Sal\",\"Pimienta\"],[\"Detergente\",\"Jabon\",\"Escoba\"]]\n",
        "print(compras)\n",
        "print(type(compras))"
      ],
      "metadata": {
        "id": "_oG3k5Os82NT"
      },
      "execution_count": null,
      "outputs": []
    },
    {
      "cell_type": "code",
      "source": [
        "#Transformar en ndarray\n",
        "compras_array = np.array(compras)\n",
        "print(compras_array)\n",
        "type(compras_array)"
      ],
      "metadata": {
        "id": "yQd1YAT070m9"
      },
      "execution_count": null,
      "outputs": []
    },
    {
      "cell_type": "markdown",
      "source": [
        "A continuación se muestran unos métodos interesantes con *ndarrays*."
      ],
      "metadata": {
        "id": "TP2kqaQ7-XJt"
      }
    },
    {
      "cell_type": "code",
      "source": [
        "#Ver las dimensiones de un array\n",
        "compras_array.ndim"
      ],
      "metadata": {
        "id": "Ig-SlE-X9gyp"
      },
      "execution_count": null,
      "outputs": []
    },
    {
      "cell_type": "code",
      "source": [
        "#Ver las dimensiones de un array\n",
        "compras_array.shape"
      ],
      "metadata": {
        "id": "rYzzJUvH9uKF"
      },
      "execution_count": null,
      "outputs": []
    },
    {
      "cell_type": "code",
      "source": [
        "#Cambiar las dimensiones de un array\n",
        "compras_array.reshape(6,2)"
      ],
      "metadata": {
        "id": "kwIgixbw95Lk"
      },
      "execution_count": null,
      "outputs": []
    },
    {
      "cell_type": "code",
      "source": [
        "#Cambiar dimensiones a una sola fila\n",
        "compras_array.flatten()"
      ],
      "metadata": {
        "id": "5pEe52d--c_o"
      },
      "execution_count": null,
      "outputs": []
    },
    {
      "cell_type": "code",
      "source": [
        "#Ordenamiento de un array\n",
        "array1 = np.array([10,2,9,17])\n",
        "array1.sort()\n",
        "print(array1)"
      ],
      "metadata": {
        "id": "BlaQRZfJ_e9J"
      },
      "execution_count": null,
      "outputs": []
    },
    {
      "cell_type": "code",
      "source": [
        "#Tamaño o norma de un array\n",
        "array1.size\n",
        "#Igualmente se puede usar len(array1)"
      ],
      "metadata": {
        "id": "cz1xA4-hBMDF"
      },
      "execution_count": null,
      "outputs": []
    },
    {
      "cell_type": "markdown",
      "source": [
        "Además, es posible generar ndarrays con las siguientes funciones de *numpy*"
      ],
      "metadata": {
        "id": "A98LsP5vAktX"
      }
    },
    {
      "cell_type": "code",
      "source": [
        "# Generar arrays con valores fijos\n",
        "print(np.zeros(5))\n",
        "print(np.ones(10))\n",
        "print(np.full(5,-3))"
      ],
      "metadata": {
        "id": "PNP3x3rZ_rOX"
      },
      "execution_count": null,
      "outputs": []
    },
    {
      "cell_type": "code",
      "source": [
        "#Generar un array a partir de una secuencia y dimensionarlo en cuatro filas\n",
        "np.arange(0.,10.,0.25).reshape(4,10) "
      ],
      "metadata": {
        "id": "klFDFzfmAgKi"
      },
      "execution_count": null,
      "outputs": []
    },
    {
      "cell_type": "markdown",
      "source": [
        "Por otra parte la indexación de *ndarrays* es similar a las listas:"
      ],
      "metadata": {
        "id": "iC_SZwcCBgOQ"
      }
    },
    {
      "cell_type": "code",
      "source": [
        "#Construir un array cualquiera\n",
        "arr_num = np.arange(0,16,2)\n",
        "arr_num"
      ],
      "metadata": {
        "id": "bP91EkfCBoLy"
      },
      "execution_count": null,
      "outputs": []
    },
    {
      "cell_type": "code",
      "source": [
        "#Obtener un elemento\n",
        "arr_num[5]"
      ],
      "metadata": {
        "id": "r9WQUJNEB90f"
      },
      "execution_count": null,
      "outputs": []
    },
    {
      "cell_type": "code",
      "source": [
        "#Obtener los primeros 5 elementos\n",
        "arr_num[:5]"
      ],
      "metadata": {
        "id": "kTpPGA36CEe-"
      },
      "execution_count": null,
      "outputs": []
    },
    {
      "cell_type": "code",
      "source": [
        "#Obtener elementos de un arreglo en forma de matriz\n",
        "arr_num2 = arr_num.reshape(4,2)\n",
        "print(arr_num2)\n",
        "print(arr_num2[2,1])"
      ],
      "metadata": {
        "id": "T4bs_88pCMzG"
      },
      "execution_count": null,
      "outputs": []
    },
    {
      "cell_type": "code",
      "source": [
        "#Otro caso\n",
        "arr_num2[:,1]"
      ],
      "metadata": {
        "id": "605u3MkICn7z"
      },
      "execution_count": null,
      "outputs": []
    },
    {
      "cell_type": "markdown",
      "source": [
        "### Funciones matemáticas en numpy\n",
        "\n"
      ],
      "metadata": {
        "id": "4NFCnqzgDCie"
      }
    },
    {
      "cell_type": "code",
      "source": [
        "#Crear dos arreglos numericos\n",
        "a1 = np.array([5,4,-1,8,-3,2,0,1]).reshape(4,2)\n",
        "a2 = arr_num2"
      ],
      "metadata": {
        "id": "NxaCwY8oC3eZ"
      },
      "execution_count": null,
      "outputs": []
    },
    {
      "cell_type": "code",
      "source": [
        "#Multiplicar un array\n",
        "a2 * 2"
      ],
      "metadata": {
        "id": "JcI0z5exD7aU"
      },
      "execution_count": null,
      "outputs": []
    },
    {
      "cell_type": "code",
      "source": [
        "#Multiplicar 2 arrays\n",
        "a1 * a2\n",
        "#Cuidado con que los arrays tengan las mismas dimensiones"
      ],
      "metadata": {
        "id": "-VvM3UsxEBu8"
      },
      "execution_count": null,
      "outputs": []
    },
    {
      "cell_type": "code",
      "source": [
        "#Raiz cuadrada\n",
        "np.sqrt(a1)"
      ],
      "metadata": {
        "id": "ItY7Ymw4ESy7"
      },
      "execution_count": null,
      "outputs": []
    },
    {
      "cell_type": "code",
      "source": [
        "#Comparacion de magnitudes de valores\n",
        "np.greater(a1,a2)"
      ],
      "metadata": {
        "id": "rhfIu3I4EbEf"
      },
      "execution_count": null,
      "outputs": []
    },
    {
      "cell_type": "markdown",
      "source": [
        "### Funciones estadísticas en numpy"
      ],
      "metadata": {
        "id": "hb17St2wErHY"
      }
    },
    {
      "cell_type": "code",
      "source": [
        "#Suma\n",
        "np.sum(a1)\n",
        "#a1.sum()"
      ],
      "metadata": {
        "id": "11lOvDSZE6Kh"
      },
      "execution_count": null,
      "outputs": []
    },
    {
      "cell_type": "code",
      "source": [
        "#Suma acumulada\n",
        "np.cumsum(a1)\n",
        "#a1.cumsum()"
      ],
      "metadata": {
        "id": "gp7pqc-ZFICz"
      },
      "execution_count": null,
      "outputs": []
    },
    {
      "cell_type": "code",
      "source": [
        "#Promedio de un arreglo\n",
        "np.mean(a1)\n",
        "#a1.mean()"
      ],
      "metadata": {
        "id": "Z-jw84TbEqWZ"
      },
      "execution_count": null,
      "outputs": []
    },
    {
      "cell_type": "code",
      "source": [
        "#Mediana\n",
        "np.median(a1)"
      ],
      "metadata": {
        "id": "DUA0BwlYFNmy"
      },
      "execution_count": null,
      "outputs": []
    },
    {
      "cell_type": "code",
      "source": [
        "#Desviacion Estandar\n",
        "np.std(a1)"
      ],
      "metadata": {
        "id": "6J7xTnVIFkre"
      },
      "execution_count": null,
      "outputs": []
    },
    {
      "cell_type": "markdown",
      "source": [
        "*Numpy* igualmente permite crear números aleatorios a partir de distribuciones estadísticas. "
      ],
      "metadata": {
        "id": "PBQ-9RlFHfp8"
      }
    },
    {
      "cell_type": "code",
      "source": [
        "#Numeros aleatorios desde una distribucion uniforme (0,1)\n",
        "np.random.rand(5)"
      ],
      "metadata": {
        "id": "IWTd80U6HfHG"
      },
      "execution_count": null,
      "outputs": []
    },
    {
      "cell_type": "code",
      "source": [
        "#Numeros aleatorios desde una distribución normal estandar\n",
        "np.random.randn(3)"
      ],
      "metadata": {
        "id": "fXdGrMpWHz1f"
      },
      "execution_count": null,
      "outputs": []
    },
    {
      "cell_type": "code",
      "source": [
        "#Numeros aleatorios desde una distribucion binomial (n,p)\n",
        "np.random.binomial(n = 5, p = 0.3, size = 2)"
      ],
      "metadata": {
        "id": "N6WIrOB_ID46"
      },
      "execution_count": null,
      "outputs": []
    },
    {
      "cell_type": "code",
      "source": [
        "#Numeros aleatorios desde una distribucion de poisson (lam)\n",
        "np.random.poisson(lam = 2,size = 5)"
      ],
      "metadata": {
        "id": "ZPuW788dIftl"
      },
      "execution_count": null,
      "outputs": []
    },
    {
      "cell_type": "markdown",
      "source": [
        "### Filtrado y enmascarado de datos\n",
        "\n",
        "Numpy permite filtrar o enmascarar datos de un arreglo mediante el uso de la funcion *where*."
      ],
      "metadata": {
        "id": "0q5HTS4qGT9z"
      }
    },
    {
      "cell_type": "code",
      "source": [
        "prices = np.array([0.99, 14.49, 19.99, 20.99, 0.49])\n",
        "#Enmascarar precios menores a 1\n",
        "np.where(prices < 1,True,False)"
      ],
      "metadata": {
        "id": "X3D-6VJ4GbvN"
      },
      "execution_count": null,
      "outputs": []
    },
    {
      "cell_type": "code",
      "source": [
        "#Filtrar datos de precios menores a 1\n",
        "precios_bajos = prices[np.where(prices < 1,True,False)]\n",
        "precios_bajos"
      ],
      "metadata": {
        "id": "JJ5zbluiGseM"
      },
      "execution_count": null,
      "outputs": []
    },
    {
      "cell_type": "markdown",
      "source": [
        "Esto permite además dar un tratamiento a un conjunto de datos. Veamos el siguiente ejemplo:"
      ],
      "metadata": {
        "id": "Ibv1QCxcJsgZ"
      }
    },
    {
      "cell_type": "code",
      "source": [
        "#Modificar valores erroneos con una mascara\n",
        "edades = np.array([45,-5,30,28,np.nan,50,24])\n",
        "print(edades)\n",
        "\n",
        "#Poner como \"nan\" (not a number) valores ilógicos\n",
        "edades_limpio1 = np.where(edades < 0,np.nan,edades)\n",
        "print(edades_limpio1)\n",
        "\n",
        "#Sustituir los \"nan\" por el promedio\n",
        "prom_edades = np.mean(edades_limpio1[np.where(np.isnan(edades_limpio1),False,True)])\n",
        "edades_limpio2 = np.where(np.isnan(edades_limpio1),prom_edades,edades)\n",
        "print(edades_limpio2)"
      ],
      "metadata": {
        "id": "tycxvV9NI3pB"
      },
      "execution_count": null,
      "outputs": []
    },
    {
      "cell_type": "markdown",
      "source": [
        "## Ejercicios"
      ],
      "metadata": {
        "id": "SoFkxpJeLKH7"
      }
    },
    {
      "cell_type": "markdown",
      "source": [
        "\n",
        "1. Escriba una funcion que responda \"Hola, cómo estas?\" cuando reciba como entrada \"Hola\", y que se despida con cualquier mensaje cuando reciba como entrada \"Adios\"."
      ],
      "metadata": {
        "id": "SelWr9vBLoey"
      }
    },
    {
      "cell_type": "code",
      "source": [
        ""
      ],
      "metadata": {
        "id": "vWJalkrLLqmb"
      },
      "execution_count": null,
      "outputs": []
    },
    {
      "cell_type": "markdown",
      "source": [
        "2. Corrija la sintaxis de los siguientes códigos"
      ],
      "metadata": {
        "id": "lsVLR69ILrRQ"
      }
    },
    {
      "cell_type": "code",
      "source": [
        "threshold = 5\n",
        "values = list(range(10))\n",
        "for v in values:\n",
        "    if v > threshold print(v)"
      ],
      "metadata": {
        "id": "btcBmIZLND5K"
      },
      "execution_count": null,
      "outputs": []
    },
    {
      "cell_type": "code",
      "source": [
        "for i : range(5) {\n",
        "    print(i)\n",
        "}"
      ],
      "metadata": {
        "id": "W2ubvkdyNR2G"
      },
      "execution_count": null,
      "outputs": []
    },
    {
      "cell_type": "code",
      "source": [
        "counter = 0\n",
        "while counter < 10:\n",
        "print(counter)\n",
        "counter = counter + 1"
      ],
      "metadata": {
        "id": "CdBj4_EmNUfY"
      },
      "execution_count": null,
      "outputs": []
    },
    {
      "cell_type": "markdown",
      "source": [
        "3. Cree una lista de texto cualquiera y genere un código que imprima todos los elementos que poseen más de 3 caracteres"
      ],
      "metadata": {
        "id": "ggJ8rxp_NfOu"
      }
    },
    {
      "cell_type": "code",
      "source": [
        ""
      ],
      "metadata": {
        "id": "zYppyP-qNYwG"
      },
      "execution_count": null,
      "outputs": []
    },
    {
      "cell_type": "markdown",
      "source": [
        "4. Separar la siguiente lista de tuplas en dos, de forma que todos los números estén en una y los testos en otra"
      ],
      "metadata": {
        "id": "SZtWWXf-Nxqu"
      }
    },
    {
      "cell_type": "code",
      "source": [
        "data = [(1,'banana'),(2,'pear'),(3,'sweet potato'),(4,'melon')]"
      ],
      "metadata": {
        "id": "i2jn5FOgNsGn"
      },
      "execution_count": null,
      "outputs": []
    }
  ]
}