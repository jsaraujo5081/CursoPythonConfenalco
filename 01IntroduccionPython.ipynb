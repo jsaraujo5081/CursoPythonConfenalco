{
  "nbformat": 4,
  "nbformat_minor": 0,
  "metadata": {
    "colab": {
      "name": "01IntroduccionPython.ipynb",
      "provenance": [],
      "collapsed_sections": [
        "ZPocpslYKkmS",
        "hhQaIa0CQIT-",
        "iwIXpvahGDth",
        "kVI_Ahtnfrog"
      ],
      "authorship_tag": "ABX9TyOZ3A1FrIknDg9mmZYRGFeX",
      "include_colab_link": true
    },
    "kernelspec": {
      "name": "python3",
      "display_name": "Python 3"
    },
    "language_info": {
      "name": "python"
    }
  },
  "cells": [
    {
      "cell_type": "markdown",
      "metadata": {
        "id": "view-in-github",
        "colab_type": "text"
      },
      "source": [
        "<a href=\"https://colab.research.google.com/github/jsaraujo5081/CursoPythonConfenalco/blob/notebooks/01IntroduccionPython.ipynb\" target=\"_parent\"><img src=\"https://colab.research.google.com/assets/colab-badge.svg\" alt=\"Open In Colab\"/></a>"
      ]
    },
    {
      "cell_type": "markdown",
      "source": [
        "## **INTRODUCCIÓN AL CURSO**"
      ],
      "metadata": {
        "id": "Ot030N0EGrBO"
      }
    },
    {
      "cell_type": "markdown",
      "source": [
        "## Contenido\n",
        "\n",
        "* El entorno Python\n",
        "* Variables\n",
        "* Operaciones binarias\n",
        "* Objetos\n",
        "* Ejercicios"
      ],
      "metadata": {
        "id": "5eGnPzdoHz7M"
      }
    },
    {
      "cell_type": "markdown",
      "source": [
        "## El entorno Python"
      ],
      "metadata": {
        "id": "ZPocpslYKkmS"
      }
    },
    {
      "cell_type": "markdown",
      "source": [
        "Python es un entorno de aplicaciones diseñadas para la\n",
        "manipulación de datos, el desarrollo de cálculos estadísticos y\n",
        "la visualización gráfica, que funciona bajo el paraguas “open\n",
        "source”.\n",
        "\n",
        "* Su lógica se basa en la utilización combinada de\n",
        "“paquetes” (o “librerías”) desarrollados por investigadores\n",
        "privados, pero validados por una red de pares calificados.\n",
        "* Python es un entorno en el sentido que su desarrollo está planificado\n",
        "y se encuentra dentro de un sistema coherente de nuevos\n",
        "métodos de análisis de datos.\n",
        "* Esto garantiza que sus resultados son confiables desde\n",
        "una perspectiva estadística y computacional.\n",
        "* A diferencia de otros lenguajes de programación estadística\n",
        "basada en objetos, Python tiende a mantener un alto estándar de\n",
        "rigurosidad computacional por sobre lo matemático.\n",
        "* Ha sido desarrollado por Ingenieros y no por matemáticos\n",
        "como es el caso de R."
      ],
      "metadata": {
        "id": "zm-6t094jBcC"
      }
    },
    {
      "cell_type": "markdown",
      "source": [
        "### El mundo del análisis de datos\n",
        "\n",
        "Python es una de muchas herramientas para el\n",
        "análisis de datos en la actualidad que\n",
        "combinan el poder de la computación con\n",
        "la matemática.\n",
        "\n",
        "Mi TOP 5 personal:\n",
        "\n",
        "1. R\n",
        "2. Python\n",
        "3. DAX/Visual\n",
        "4. Javascript\n",
        "5. Google Go\n",
        "\n",
        "En los últimos años, sin embargo, han\n",
        "aparecido herramientas que buscan mayor\n",
        "facilidad para el analista a través del\n",
        "esquema “no code”. Por mencionar algunos casos:\n",
        "\n",
        "* Knime\n",
        "* H20\n",
        "* Alteryx\n",
        "* Datarobot\n"
      ],
      "metadata": {
        "id": "LCf-1Rh7LV7r"
      }
    },
    {
      "cell_type": "markdown",
      "source": [
        "### Contraste entre entornos de análisis estadístico\n",
        "\n",
        "| Parametro | SAS | Python | R |\n",
        "| --- | --- | --- | --- |\n",
        "| Costo / Disponibilidad | 3 | 5 | 5 |\n",
        "| Facilidad de aprendizaje | 4.5 | 3.5 | 2.5 |\n",
        "| Manejo de datos | 4 | 4 | 4 |\n",
        "| Capacidades gráficas | 3 | 4.5 | 4.5 |\n",
        "| Analítica avanzada | 4 | 4.5 | 4.5 |\n",
        "| Habilidad Laboral | 4 | 4.5 | 4.5 |\n",
        "| Servicio técnico | 4.5 | 3 | 3 |\n",
        "| Aprendizaje computacional | 2 | 4.5 | 4 |"
      ],
      "metadata": {
        "id": "6tzwMuXnMCeF"
      }
    },
    {
      "cell_type": "markdown",
      "source": [
        "### Importancia de saber programar con datos\n",
        "\n",
        "Según Linkedin para el año 2020 estas son las 10 habilidades duras más requeridas a nivel mundial:\n",
        "\n",
        "* Blockchain\n",
        "* Computación en la nube\n",
        "* Razonamiento analítico\n",
        "* Inteligencia artificial\n",
        "* Diseño UX\n",
        "* Inteligencia de negocios\n",
        "* Mercadeo\n",
        "* Ventas\n",
        "* Computación científica\n",
        "* Producción audiovisual"
      ],
      "metadata": {
        "id": "5ekqOv4FOc0B"
      }
    },
    {
      "cell_type": "markdown",
      "source": [
        "## Variables"
      ],
      "metadata": {
        "id": "hhQaIa0CQIT-"
      }
    },
    {
      "cell_type": "markdown",
      "source": [
        "Una variable en términos computacionales es similar a una de tipo matemático, pues corresponde a un elemento con la capacidad de guardar un valor, mismo que puede **VARIAR** a través de un proceso.\n",
        "\n",
        "Para asignar un valor a una variable en Python debemos utilizar la siguiente notación:\n",
        "\n",
        "$$ variable = valor $$"
      ],
      "metadata": {
        "id": "4QclWoisjHJ-"
      }
    },
    {
      "cell_type": "markdown",
      "source": [
        "### Tipos fundamentales de variables\n",
        "\n",
        "Una variable solamente puede ser de un tipo o clase específico.\n",
        "\n",
        "Para conocer este tipo vamos a usar la funcion *type*, y vamos a presentar cuáles son las clases más importantes:\n",
        "\n",
        "* Numérica entera\n",
        "\n"
      ],
      "metadata": {
        "id": "o-lrkbBORD5Z"
      }
    },
    {
      "cell_type": "code",
      "execution_count": null,
      "metadata": {
        "colab": {
          "base_uri": "https://localhost:8080/"
        },
        "id": "Lj_usg7UGivj",
        "outputId": "d400ad8d-fb43-4076-c07f-08fca3f2def8"
      },
      "outputs": [
        {
          "output_type": "stream",
          "name": "stdout",
          "text": [
            "5\n",
            "<class 'int'>\n"
          ]
        }
      ],
      "source": [
        "var_entera = 5\n",
        "print(var_entera)\n",
        "print(type(var_entera))"
      ]
    },
    {
      "cell_type": "code",
      "source": [
        "var_entera = 5\n",
        "type(var_entera)\n",
        "var_entera"
      ],
      "metadata": {
        "id": "ap_JTSkCm62b",
        "outputId": "d93028f2-14ae-456a-edfc-b7e56ee1ba42",
        "colab": {
          "base_uri": "https://localhost:8080/"
        }
      },
      "execution_count": null,
      "outputs": [
        {
          "output_type": "execute_result",
          "data": {
            "text/plain": [
              "5"
            ]
          },
          "metadata": {},
          "execution_count": 7
        }
      ]
    },
    {
      "cell_type": "code",
      "source": [
        "variable_ent = 35"
      ],
      "metadata": {
        "id": "4CLZeMnsmIA8"
      },
      "execution_count": null,
      "outputs": []
    },
    {
      "cell_type": "code",
      "source": [
        "print(variable_ent)"
      ],
      "metadata": {
        "id": "jzNY8H_zmdVg",
        "outputId": "a7c46b79-eeda-4280-d18d-a0bf427ea8c8",
        "colab": {
          "base_uri": "https://localhost:8080/"
        }
      },
      "execution_count": null,
      "outputs": [
        {
          "output_type": "stream",
          "name": "stdout",
          "text": [
            "35\n"
          ]
        }
      ]
    },
    {
      "cell_type": "code",
      "source": [
        "print(type(variable_ent))"
      ],
      "metadata": {
        "id": "35NMYD9gmkas",
        "outputId": "a90da3e1-0181-4953-8158-2218df6a5399",
        "colab": {
          "base_uri": "https://localhost:8080/"
        }
      },
      "execution_count": null,
      "outputs": [
        {
          "output_type": "stream",
          "name": "stdout",
          "text": [
            "<class 'int'>\n"
          ]
        }
      ]
    },
    {
      "cell_type": "code",
      "source": [
        "variable_ent"
      ],
      "metadata": {
        "id": "ih-IiSaMmwtV",
        "outputId": "f753e126-5795-4922-dfeb-1e7987dd52b7",
        "colab": {
          "base_uri": "https://localhost:8080/"
        }
      },
      "execution_count": null,
      "outputs": [
        {
          "output_type": "execute_result",
          "data": {
            "text/plain": [
              "35"
            ]
          },
          "metadata": {},
          "execution_count": 4
        }
      ]
    },
    {
      "cell_type": "code",
      "source": [
        "type(variable_ent)"
      ],
      "metadata": {
        "id": "GlqHQZINnaNB",
        "outputId": "fe2ed3b2-9680-4438-8f1c-59d92bcb53de",
        "colab": {
          "base_uri": "https://localhost:8080/"
        }
      },
      "execution_count": null,
      "outputs": [
        {
          "output_type": "execute_result",
          "data": {
            "text/plain": [
              "int"
            ]
          },
          "metadata": {},
          "execution_count": 8
        }
      ]
    },
    {
      "cell_type": "markdown",
      "source": [
        "* Numérica decimal (referida en Python como float)"
      ],
      "metadata": {
        "id": "o87yhDtLRnM2"
      }
    },
    {
      "cell_type": "code",
      "source": [
        "var_decimal = 34.26\n",
        "print(var_decimal)\n",
        "print(type(var_decimal))"
      ],
      "metadata": {
        "colab": {
          "base_uri": "https://localhost:8080/"
        },
        "id": "ArTx43Y5RsKt",
        "outputId": "beba95b3-6bb7-49ad-d3f5-c43885309b2d"
      },
      "execution_count": null,
      "outputs": [
        {
          "output_type": "stream",
          "name": "stdout",
          "text": [
            "34.26\n",
            "<class 'float'>\n"
          ]
        }
      ]
    },
    {
      "cell_type": "code",
      "source": [
        "roetgens = 10546.29546\n",
        "roetgens"
      ],
      "metadata": {
        "id": "R8Hy32gCoUIp",
        "outputId": "31306d2b-86f4-4e41-fc3e-8b1cdc8df5b1",
        "colab": {
          "base_uri": "https://localhost:8080/"
        }
      },
      "execution_count": null,
      "outputs": [
        {
          "output_type": "execute_result",
          "data": {
            "text/plain": [
              "10546.29546"
            ]
          },
          "metadata": {},
          "execution_count": 11
        }
      ]
    },
    {
      "cell_type": "code",
      "source": [
        "type(roetgens)"
      ],
      "metadata": {
        "id": "ULgfJmHSorGd",
        "outputId": "71bd76a2-4a44-4bbb-920a-0a4d6dd2b9e9",
        "colab": {
          "base_uri": "https://localhost:8080/"
        }
      },
      "execution_count": null,
      "outputs": [
        {
          "output_type": "execute_result",
          "data": {
            "text/plain": [
              "float"
            ]
          },
          "metadata": {},
          "execution_count": 12
        }
      ]
    },
    {
      "cell_type": "markdown",
      "source": [
        "* Texto (en inglés denominadas strings, en R se llaman Characters)"
      ],
      "metadata": {
        "id": "h2VYvwxfR3wu"
      }
    },
    {
      "cell_type": "code",
      "source": [
        "var_texto = \"Juan\"\n",
        "print(var_texto)\n",
        "print(type(var_texto))"
      ],
      "metadata": {
        "colab": {
          "base_uri": "https://localhost:8080/"
        },
        "id": "bnM0gg8LSU4w",
        "outputId": "ba8889e9-f5bf-4e4d-c46d-fda0fa993549"
      },
      "execution_count": null,
      "outputs": [
        {
          "output_type": "stream",
          "name": "stdout",
          "text": [
            "Juan\n",
            "<class 'str'>\n"
          ]
        }
      ]
    },
    {
      "cell_type": "code",
      "source": [
        "pais = \"Ecuador\"\n",
        "pais"
      ],
      "metadata": {
        "id": "ClIEoueAo84f",
        "outputId": "50b41c0d-9c86-4257-9b90-0e09a72869ad",
        "colab": {
          "base_uri": "https://localhost:8080/",
          "height": 35
        }
      },
      "execution_count": null,
      "outputs": [
        {
          "output_type": "execute_result",
          "data": {
            "text/plain": [
              "'Ecuador'"
            ],
            "application/vnd.google.colaboratory.intrinsic+json": {
              "type": "string"
            }
          },
          "metadata": {},
          "execution_count": 13
        }
      ]
    },
    {
      "cell_type": "code",
      "source": [
        "pais2 = 'Chile'"
      ],
      "metadata": {
        "id": "J_0Xe5TGpOoW"
      },
      "execution_count": null,
      "outputs": []
    },
    {
      "cell_type": "code",
      "source": [
        "type(pais)"
      ],
      "metadata": {
        "id": "Zb4m1NtkpHCA",
        "outputId": "e5c11e2f-d9ba-4feb-c6ee-e8b4435c8493",
        "colab": {
          "base_uri": "https://localhost:8080/"
        }
      },
      "execution_count": null,
      "outputs": [
        {
          "output_type": "execute_result",
          "data": {
            "text/plain": [
              "str"
            ]
          },
          "metadata": {},
          "execution_count": 14
        }
      ]
    },
    {
      "cell_type": "code",
      "source": [
        "edad_txt = \"35\"\n",
        "type(edad_txt) "
      ],
      "metadata": {
        "id": "NJEFh-JypZ_t",
        "outputId": "c96ec74e-cad3-4f06-e32a-c7067547b7ff",
        "colab": {
          "base_uri": "https://localhost:8080/"
        }
      },
      "execution_count": null,
      "outputs": [
        {
          "output_type": "execute_result",
          "data": {
            "text/plain": [
              "str"
            ]
          },
          "metadata": {},
          "execution_count": 17
        }
      ]
    },
    {
      "cell_type": "markdown",
      "source": [
        "* Buleano o lógico"
      ],
      "metadata": {
        "id": "-LubrEAFTTwt"
      }
    },
    {
      "cell_type": "code",
      "source": [
        "var_buleano = True\n",
        "print(var_buleano)\n",
        "print(type(var_buleano))"
      ],
      "metadata": {
        "colab": {
          "base_uri": "https://localhost:8080/"
        },
        "id": "ay_vilqmTd8e",
        "outputId": "1d5ae60a-c48e-46f9-de24-425ac400d6d5"
      },
      "execution_count": null,
      "outputs": [
        {
          "output_type": "stream",
          "name": "stdout",
          "text": [
            "True\n",
            "<class 'bool'>\n"
          ]
        }
      ]
    },
    {
      "cell_type": "code",
      "source": [
        "soy_hombre = True\n",
        "type(soy_hombre)"
      ],
      "metadata": {
        "id": "VtDh8b2ZqH8V",
        "outputId": "042e573a-8c0a-4f8f-9c95-28b038719456",
        "colab": {
          "base_uri": "https://localhost:8080/"
        }
      },
      "execution_count": null,
      "outputs": [
        {
          "output_type": "execute_result",
          "data": {
            "text/plain": [
              "bool"
            ]
          },
          "metadata": {},
          "execution_count": 18
        }
      ]
    },
    {
      "cell_type": "code",
      "source": [
        "soy_perro = False\n",
        "type(soy_perro)"
      ],
      "metadata": {
        "id": "9_R8InGzqQOb",
        "outputId": "0dc2a5d0-e7a2-4742-f4d7-b4b7882265bf",
        "colab": {
          "base_uri": "https://localhost:8080/"
        }
      },
      "execution_count": null,
      "outputs": [
        {
          "output_type": "execute_result",
          "data": {
            "text/plain": [
              "bool"
            ]
          },
          "metadata": {},
          "execution_count": 19
        }
      ]
    },
    {
      "cell_type": "markdown",
      "source": [
        "Existen además otros tipos de variables como son las categóricas y fechas, mismas que serán revisadas posteriormente en el curso puesto que requieren de un mayor conocimiento y dominio de la herramienta."
      ],
      "metadata": {
        "id": "dtENSVqsUP4K"
      }
    },
    {
      "cell_type": "markdown",
      "source": [
        "### Conversión de tipos\n",
        "\n",
        "En muchas ocasiones podría ser conveniente establecer \"manualmente\" el tipo de una variable. Aquí unos ejemplos de cómo hacerlo:"
      ],
      "metadata": {
        "id": "LBBsruf-ToEh"
      }
    },
    {
      "cell_type": "code",
      "source": [
        "Nombre = \"Juan\"\n",
        "Edad = 35\n",
        "Edad_txt = str(Edad)\n",
        "\n",
        "print(\"Mi nombre es \" + Nombre + \" y mi edad es de \" + Edad_txt + \" años\")"
      ],
      "metadata": {
        "id": "iPyoWFk0tbwU",
        "outputId": "7209a388-9732-4764-ef53-16508cbcbcb3",
        "colab": {
          "base_uri": "https://localhost:8080/"
        }
      },
      "execution_count": null,
      "outputs": [
        {
          "output_type": "stream",
          "name": "stdout",
          "text": [
            "Mi nombre es Juan y mi edad es de 35 años\n"
          ]
        }
      ]
    },
    {
      "cell_type": "code",
      "source": [
        "#Ejemplo 1: Imprimir un mensaje de texto indicando su nombre y su edad\n",
        "Nombre = \"Nicole\"\n",
        "Edad = 33\n",
        "\n",
        "print(\"Mi nombre es \" + Nombre + \", y tengo \" + str(Edad) + \" años.\")"
      ],
      "metadata": {
        "colab": {
          "base_uri": "https://localhost:8080/"
        },
        "id": "zVDeEgWCUyRc",
        "outputId": "c9079457-037d-49db-9a4e-da9d127a2498"
      },
      "execution_count": null,
      "outputs": [
        {
          "output_type": "stream",
          "name": "stdout",
          "text": [
            "Mi nombre es Nicole, y tengo 33 años.\n"
          ]
        }
      ]
    },
    {
      "cell_type": "code",
      "source": [
        "#Me llamo Juan"
      ],
      "metadata": {
        "id": "qRpHhO-9uTZ2"
      },
      "execution_count": null,
      "outputs": []
    },
    {
      "cell_type": "markdown",
      "source": [
        "Nótese dos cosas:\n",
        "\n",
        "* La primera es que para convertir la variable numérica *Edad* a un texto hemos usado la funcion *str*.\n",
        "* La segunda es que hemos usado el símbolo *#* para escribir un texto dentro del código. Estos se llaman Comentarios y son muy útiles para guiar de forma semántica al lector respecto a lo que se hace en un código de programación. \n",
        "\n",
        "Otro ejemplo de conversión de variables:"
      ],
      "metadata": {
        "id": "74PJHbVYVOzc"
      }
    },
    {
      "cell_type": "code",
      "source": [
        "#Ejemplo 2: Asegurarse que todas las variables numéricas sean decimales\n",
        "a = 12.5\n",
        "b = 50\n",
        "c = -29.1\n",
        "\n",
        "print (\"a es de tipo: \" + str(type(a)) + \"\\n\", #La expresión \"\\n\" representa un salto de línea\n",
        "       \"b es de tipo: \" + str(type(b)) + \"\\n\",\n",
        "       \"c es de tipo: \" + str(type(c)) + \"\\n\")"
      ],
      "metadata": {
        "colab": {
          "base_uri": "https://localhost:8080/"
        },
        "id": "I-fa4swpVbD9",
        "outputId": "396f2943-7cc9-4c84-9b25-326cec2fdf02"
      },
      "execution_count": null,
      "outputs": [
        {
          "output_type": "stream",
          "name": "stdout",
          "text": [
            "a es de tipo: <class 'float'>\n",
            " b es de tipo: <class 'int'>\n",
            " c es de tipo: <class 'float'>\n",
            "\n"
          ]
        }
      ]
    },
    {
      "cell_type": "code",
      "source": [
        "b = float(b)\n",
        "\n",
        "print (\"a es de tipo: \" + str(type(a)) + \"\\n\", \n",
        "       \"b es de tipo: \" + str(type(b)) + \"\\n\",\n",
        "       \"c es de tipo: \" + str(type(c)) + \"\\n\")\n",
        "\n",
        "print(b)"
      ],
      "metadata": {
        "colab": {
          "base_uri": "https://localhost:8080/"
        },
        "id": "OmMfb4QFWwQy",
        "outputId": "a3947b69-1f5c-40db-de9c-2a568ce97969"
      },
      "execution_count": null,
      "outputs": [
        {
          "output_type": "stream",
          "name": "stdout",
          "text": [
            "a es de tipo: <class 'float'>\n",
            " b es de tipo: <class 'float'>\n",
            " c es de tipo: <class 'float'>\n",
            "\n",
            "50.0\n"
          ]
        }
      ]
    },
    {
      "cell_type": "markdown",
      "source": [
        "Para cambiar en el tipo de variable, en este caso se ha usado la funcion *float*. Ahora bien, para cambiar una variable a tipo entero usamos la función *int* como en el siguiene ejemplo:"
      ],
      "metadata": {
        "id": "kM0X1vTIW96Y"
      }
    },
    {
      "cell_type": "code",
      "source": [
        "#Ejemplo 3: Cambiar una variable de texto a entero\n",
        "Hijos = \"2\"\n",
        "print(type(Hijos))"
      ],
      "metadata": {
        "colab": {
          "base_uri": "https://localhost:8080/"
        },
        "id": "xocYWjP1FkPP",
        "outputId": "d79a7283-01eb-4490-beeb-08b6a59ab27b"
      },
      "execution_count": null,
      "outputs": [
        {
          "output_type": "stream",
          "name": "stdout",
          "text": [
            "<class 'str'>\n"
          ]
        }
      ]
    },
    {
      "cell_type": "code",
      "source": [
        "Hijos = int(Hijos)\n",
        "print(type(Hijos))"
      ],
      "metadata": {
        "colab": {
          "base_uri": "https://localhost:8080/"
        },
        "id": "vVDke0pJFwS4",
        "outputId": "dc5fee8f-eedb-4e68-899c-d4f71bf9e054"
      },
      "execution_count": null,
      "outputs": [
        {
          "output_type": "stream",
          "name": "stdout",
          "text": [
            "<class 'int'>\n"
          ]
        }
      ]
    },
    {
      "cell_type": "markdown",
      "source": [
        "## Operaciones Binarias"
      ],
      "metadata": {
        "id": "iwIXpvahGDth"
      }
    },
    {
      "cell_type": "markdown",
      "source": [
        "Una operación binaria es toda aquella que involucre la interacción de 2 o más variables. Se las puede dividir en matemáticas y lógicas."
      ],
      "metadata": {
        "id": "7gNHFdBmjdKz"
      }
    },
    {
      "cell_type": "markdown",
      "source": [
        "### Operaciones Matemáticas\n",
        "\n",
        "Las operaciones matemáticas son específicas de las variables de tipo numérico, y más comunes son las siguientes:\n",
        "\n",
        "* Suma y Resta"
      ],
      "metadata": {
        "id": "k71Z--x9GVlJ"
      }
    },
    {
      "cell_type": "code",
      "source": [
        "#Definir dos variables\n",
        "a = 5.4\n",
        "b = 3.1\n",
        "c = -10.4\n",
        "d = 0.57"
      ],
      "metadata": {
        "id": "Cck4aYELGfNt"
      },
      "execution_count": null,
      "outputs": []
    },
    {
      "cell_type": "code",
      "source": [
        "#Suma\n",
        "a + b"
      ],
      "metadata": {
        "colab": {
          "base_uri": "https://localhost:8080/"
        },
        "id": "ncPtbkG7GzHC",
        "outputId": "e80157b2-6e91-4860-ed42-01ce39650114"
      },
      "execution_count": null,
      "outputs": [
        {
          "output_type": "execute_result",
          "data": {
            "text/plain": [
              "8.5"
            ]
          },
          "metadata": {},
          "execution_count": 30
        }
      ]
    },
    {
      "cell_type": "code",
      "source": [
        "#Resta\n",
        "a - c"
      ],
      "metadata": {
        "colab": {
          "base_uri": "https://localhost:8080/"
        },
        "id": "KTkn0MDZG1NN",
        "outputId": "fb711c6d-9e7d-4ab6-bcf3-09cd4b455a7e"
      },
      "execution_count": null,
      "outputs": [
        {
          "output_type": "execute_result",
          "data": {
            "text/plain": [
              "15.8"
            ]
          },
          "metadata": {},
          "execution_count": 31
        }
      ]
    },
    {
      "cell_type": "code",
      "source": [
        "#Combinación de operaciones\n",
        "a + b - c"
      ],
      "metadata": {
        "colab": {
          "base_uri": "https://localhost:8080/"
        },
        "id": "qJb4YQCjG7kW",
        "outputId": "e1b9009e-2d4f-496d-98b5-f576bc50e319"
      },
      "execution_count": null,
      "outputs": [
        {
          "output_type": "execute_result",
          "data": {
            "text/plain": [
              "18.9"
            ]
          },
          "metadata": {},
          "execution_count": 32
        }
      ]
    },
    {
      "cell_type": "markdown",
      "source": [
        "* Multiplicación y División"
      ],
      "metadata": {
        "id": "DZJO757oHDHJ"
      }
    },
    {
      "cell_type": "code",
      "source": [
        "#Multiplicacion\n",
        "b*c"
      ],
      "metadata": {
        "colab": {
          "base_uri": "https://localhost:8080/"
        },
        "id": "m_HEoPwOHFu0",
        "outputId": "365909af-00a5-4480-ae20-338b776ff1a8"
      },
      "execution_count": null,
      "outputs": [
        {
          "output_type": "execute_result",
          "data": {
            "text/plain": [
              "-32.24"
            ]
          },
          "metadata": {},
          "execution_count": 33
        }
      ]
    },
    {
      "cell_type": "code",
      "source": [
        "#División\n",
        "b/a"
      ],
      "metadata": {
        "colab": {
          "base_uri": "https://localhost:8080/"
        },
        "id": "tc1yio6wHMji",
        "outputId": "b5986351-06ec-47fc-d150-5306821081d6"
      },
      "execution_count": null,
      "outputs": [
        {
          "output_type": "execute_result",
          "data": {
            "text/plain": [
              "0.5740740740740741"
            ]
          },
          "metadata": {},
          "execution_count": 34
        }
      ]
    },
    {
      "cell_type": "code",
      "source": [
        "#Combinacion de operaciones\n",
        "a*b - c/d"
      ],
      "metadata": {
        "colab": {
          "base_uri": "https://localhost:8080/"
        },
        "id": "y3vAVJOlHRxO",
        "outputId": "fc935e03-955c-4b81-f8e7-7f1fa62d7b23"
      },
      "execution_count": null,
      "outputs": [
        {
          "output_type": "execute_result",
          "data": {
            "text/plain": [
              "34.98561403508772"
            ]
          },
          "metadata": {},
          "execution_count": 35
        }
      ]
    },
    {
      "cell_type": "markdown",
      "source": [
        "* Potencias"
      ],
      "metadata": {
        "id": "TGS-P0MRHcrA"
      }
    },
    {
      "cell_type": "code",
      "source": [
        "#Cubo de 8\n",
        "8^3"
      ],
      "metadata": {
        "id": "f6Lt7IblwAqi",
        "outputId": "b2157682-c5f9-4b1f-89ab-78371381f50a",
        "colab": {
          "base_uri": "https://localhost:8080/"
        }
      },
      "execution_count": null,
      "outputs": [
        {
          "output_type": "execute_result",
          "data": {
            "text/plain": [
              "11"
            ]
          },
          "metadata": {},
          "execution_count": 36
        }
      ]
    },
    {
      "cell_type": "code",
      "source": [
        "#Potencia 5 de a\n",
        "a**5"
      ],
      "metadata": {
        "id": "R9x7kZzJwJxv",
        "outputId": "646cb18d-9bce-40a9-b8f5-5a98cdb34034",
        "colab": {
          "base_uri": "https://localhost:8080/"
        }
      },
      "execution_count": null,
      "outputs": [
        {
          "output_type": "execute_result",
          "data": {
            "text/plain": [
              "4591.650240000002"
            ]
          },
          "metadata": {},
          "execution_count": 38
        }
      ]
    },
    {
      "cell_type": "code",
      "source": [
        "#Potencia\n",
        "a**2"
      ],
      "metadata": {
        "colab": {
          "base_uri": "https://localhost:8080/"
        },
        "id": "invdN7X4Hfjo",
        "outputId": "8426265a-7aca-4d0a-db94-1c7fae3b027a"
      },
      "execution_count": null,
      "outputs": [
        {
          "output_type": "execute_result",
          "data": {
            "text/plain": [
              "29.160000000000004"
            ]
          },
          "metadata": {},
          "execution_count": 29
        }
      ]
    },
    {
      "cell_type": "code",
      "source": [
        "#Raices\n",
        "b**(1/3) #i.e. Raíz cúbica"
      ],
      "metadata": {
        "colab": {
          "base_uri": "https://localhost:8080/"
        },
        "id": "c6VKrN9sHzNJ",
        "outputId": "000db86c-5a4d-4372-baa0-febd6bf4f180"
      },
      "execution_count": null,
      "outputs": [
        {
          "output_type": "execute_result",
          "data": {
            "text/plain": [
              "1.4580997358267116"
            ]
          },
          "metadata": {},
          "execution_count": 39
        }
      ]
    },
    {
      "cell_type": "markdown",
      "source": [
        "* Modularización"
      ],
      "metadata": {
        "id": "IdRsEIUcIAHS"
      }
    },
    {
      "cell_type": "code",
      "source": [
        "#Ejemplos con números fijos\n",
        "1%2"
      ],
      "metadata": {
        "colab": {
          "base_uri": "https://localhost:8080/"
        },
        "id": "ccWoUKDCH_Jt",
        "outputId": "e79ad94b-f6ac-41ab-d9d9-b2c0b6a1e295"
      },
      "execution_count": null,
      "outputs": [
        {
          "output_type": "execute_result",
          "data": {
            "text/plain": [
              "1"
            ]
          },
          "metadata": {},
          "execution_count": 31
        }
      ]
    },
    {
      "cell_type": "code",
      "source": [
        "2%2"
      ],
      "metadata": {
        "colab": {
          "base_uri": "https://localhost:8080/"
        },
        "id": "pZAw5jATIV3w",
        "outputId": "201b1f99-9966-4dc0-aeb9-912a611c508a"
      },
      "execution_count": null,
      "outputs": [
        {
          "output_type": "execute_result",
          "data": {
            "text/plain": [
              "0"
            ]
          },
          "metadata": {},
          "execution_count": 32
        }
      ]
    },
    {
      "cell_type": "code",
      "source": [
        "3%2"
      ],
      "metadata": {
        "colab": {
          "base_uri": "https://localhost:8080/"
        },
        "id": "5x4oUDyCIcLr",
        "outputId": "f3562ac8-89a1-42e5-e242-407f79b81bea"
      },
      "execution_count": null,
      "outputs": [
        {
          "output_type": "execute_result",
          "data": {
            "text/plain": [
              "1"
            ]
          },
          "metadata": {},
          "execution_count": 33
        }
      ]
    },
    {
      "cell_type": "code",
      "source": [
        "4%2"
      ],
      "metadata": {
        "id": "csQGxwaAwznf",
        "outputId": "6c68b439-18bd-4ec8-dd6b-3a410e3495e9",
        "colab": {
          "base_uri": "https://localhost:8080/"
        }
      },
      "execution_count": null,
      "outputs": [
        {
          "output_type": "execute_result",
          "data": {
            "text/plain": [
              "0"
            ]
          },
          "metadata": {},
          "execution_count": 40
        }
      ]
    },
    {
      "cell_type": "code",
      "source": [
        "5%2"
      ],
      "metadata": {
        "id": "aiPVUZMpw7bv",
        "outputId": "5058bba0-f493-4b27-d080-9ad9557b0048",
        "colab": {
          "base_uri": "https://localhost:8080/"
        }
      },
      "execution_count": null,
      "outputs": [
        {
          "output_type": "execute_result",
          "data": {
            "text/plain": [
              "1"
            ]
          },
          "metadata": {},
          "execution_count": 41
        }
      ]
    },
    {
      "cell_type": "code",
      "source": [
        "6%2"
      ],
      "metadata": {
        "id": "y5gg_O2Uw8_7",
        "outputId": "9f5f58c1-1c0c-4cf9-97f7-5ceb0b748be8",
        "colab": {
          "base_uri": "https://localhost:8080/"
        }
      },
      "execution_count": null,
      "outputs": [
        {
          "output_type": "execute_result",
          "data": {
            "text/plain": [
              "0"
            ]
          },
          "metadata": {},
          "execution_count": 42
        }
      ]
    },
    {
      "cell_type": "code",
      "source": [
        "4354564574564564363563%2 "
      ],
      "metadata": {
        "id": "roLv99RZxLH7",
        "outputId": "12f81b59-8ae8-4d27-e118-20b9c5435cbc",
        "colab": {
          "base_uri": "https://localhost:8080/"
        }
      },
      "execution_count": null,
      "outputs": [
        {
          "output_type": "execute_result",
          "data": {
            "text/plain": [
              "1"
            ]
          },
          "metadata": {},
          "execution_count": 43
        }
      ]
    },
    {
      "cell_type": "code",
      "source": [
        "20%12"
      ],
      "metadata": {
        "id": "cBVI4QP5xW2k",
        "outputId": "96b46d0c-c3fd-4307-a218-d8301cb96427",
        "colab": {
          "base_uri": "https://localhost:8080/"
        }
      },
      "execution_count": null,
      "outputs": [
        {
          "output_type": "execute_result",
          "data": {
            "text/plain": [
              "8"
            ]
          },
          "metadata": {},
          "execution_count": 44
        }
      ]
    },
    {
      "cell_type": "code",
      "source": [
        "14%12"
      ],
      "metadata": {
        "id": "zS7jCyEvxmQ5",
        "outputId": "352bf96e-27f9-4d5b-a860-5e436d907513",
        "colab": {
          "base_uri": "https://localhost:8080/"
        }
      },
      "execution_count": null,
      "outputs": [
        {
          "output_type": "execute_result",
          "data": {
            "text/plain": [
              "2"
            ]
          },
          "metadata": {},
          "execution_count": 45
        }
      ]
    },
    {
      "cell_type": "markdown",
      "source": [
        "El módulo es la forma de computar el residuo de una división, y es una operación muy utilizada diariamente y de forma holística por las personas. ¿Puede dar algunos ejemplos de ella?"
      ],
      "metadata": {
        "id": "Q4s3-n-rIn2z"
      }
    },
    {
      "cell_type": "markdown",
      "source": [
        "### Operaciones lógicas\n",
        "\n",
        "Las operaciones lógicas se caracterizan por arrojar un resultado buleano (True/False) y permiten comparar criterios o definir condiciones a ser utilizadas en un código de programación.\n",
        "\n",
        "* Mayor o menor que: Se utiliza los operadores \"<\", \">\", \"<=\" o \">=\"."
      ],
      "metadata": {
        "id": "1RA8yD3RI38i"
      }
    },
    {
      "cell_type": "code",
      "source": [
        "#Verificar cual variable es mayor a otra\n",
        "print(\"la variable a es: \" + str(a))\n",
        "print(\"la variable b es: \" + str(b))\n",
        "a > b"
      ],
      "metadata": {
        "colab": {
          "base_uri": "https://localhost:8080/"
        },
        "id": "ybbE8VuAJOLD",
        "outputId": "84ea4dec-96ef-4061-9f2e-16d09c574391"
      },
      "execution_count": null,
      "outputs": [
        {
          "output_type": "stream",
          "name": "stdout",
          "text": [
            "la variable a es: 5.4\n",
            "la variable b es: 3.1\n"
          ]
        },
        {
          "output_type": "execute_result",
          "data": {
            "text/plain": [
              "True"
            ]
          },
          "metadata": {},
          "execution_count": 46
        }
      ]
    },
    {
      "cell_type": "code",
      "source": [
        "#Verificar si una variable es menor o igual a otra\n",
        "print(\"la variable c es: \" + str(c))\n",
        "print(\"la variable d es: \" + str(d))\n",
        "d <= c"
      ],
      "metadata": {
        "colab": {
          "base_uri": "https://localhost:8080/"
        },
        "id": "Q6J6WBuUaiBW",
        "outputId": "c46ca2ca-d9a8-4c6e-f1f1-7276e71dd4ae"
      },
      "execution_count": null,
      "outputs": [
        {
          "output_type": "stream",
          "name": "stdout",
          "text": [
            "la variable c es: -10.4\n",
            "la variable d es: 0.57\n"
          ]
        },
        {
          "output_type": "execute_result",
          "data": {
            "text/plain": [
              "False"
            ]
          },
          "metadata": {},
          "execution_count": 47
        }
      ]
    },
    {
      "cell_type": "markdown",
      "source": [
        "* Igualdad: Se utiliza los operadores \"==\" o \"!=\"."
      ],
      "metadata": {
        "id": "tJo_Z4rcbs4z"
      }
    },
    {
      "cell_type": "code",
      "source": [
        "#Definir variable de texto\n",
        "Pais = \"Colombia\"\n",
        "\n",
        "#Verificar que la variable es igual a cierto valor\n",
        "Pais == \"Ecuador\""
      ],
      "metadata": {
        "colab": {
          "base_uri": "https://localhost:8080/"
        },
        "id": "5hxxi5A-bvty",
        "outputId": "6350d786-16b5-4bf3-c610-1e93e9e30da3"
      },
      "execution_count": null,
      "outputs": [
        {
          "output_type": "execute_result",
          "data": {
            "text/plain": [
              "False"
            ]
          },
          "metadata": {},
          "execution_count": 48
        }
      ]
    },
    {
      "cell_type": "code",
      "source": [
        "#Verificar que la variable NO es igual a cierto valor\n",
        "Pais != \"Chile\""
      ],
      "metadata": {
        "colab": {
          "base_uri": "https://localhost:8080/"
        },
        "id": "gBWPxnUucii1",
        "outputId": "d039a152-06f7-47b2-d19a-f0ba4105f291"
      },
      "execution_count": null,
      "outputs": [
        {
          "output_type": "execute_result",
          "data": {
            "text/plain": [
              "True"
            ]
          },
          "metadata": {},
          "execution_count": 37
        }
      ]
    },
    {
      "cell_type": "markdown",
      "source": [
        "OJO: Si yo uso 1 solo = estoy asignado un valor a un objeto, si uso == estoy comparando un objeto a un valor."
      ],
      "metadata": {
        "id": "qN0dKS0Byz8y"
      }
    },
    {
      "cell_type": "markdown",
      "source": [
        "## Objetos\n"
      ],
      "metadata": {
        "id": "kVI_Ahtnfrog"
      }
    },
    {
      "cell_type": "markdown",
      "source": [
        "Los objetos son elementos que agrupan valores, por lo que también se los conoce por el nombre de colecciones. Los principales objetos a revisar por ahora son los siguientes:\n",
        "\n",
        "* Tuplas\n",
        "* Listas\n",
        "* Secuencias\n",
        "* Diccionarios\n",
        "* Conjuntos"
      ],
      "metadata": {
        "id": "oym3BX6hj06U"
      }
    },
    {
      "cell_type": "markdown",
      "source": [
        "### Tuplas\n",
        "\n",
        "Las tuplas son agrupaciones de valores o elementos inmutables, esto es, que una vez que se han creado, ya no es posible modificarlos sino únicamente ejecutar consultas.\n",
        "\n",
        "Una tupla se define mediante el uso de paréntesis, y cada elemento se separa por comas, como se indica a continuación:"
      ],
      "metadata": {
        "id": "Cbnb4EwkiDgz"
      }
    },
    {
      "cell_type": "code",
      "source": [
        "#Crear tupla con informacion de una persona\n",
        "info_JSAD = (\"Juan\",\"Araujo\",\"Casado\",35,1,\"Data Scientist\",10132000)"
      ],
      "metadata": {
        "id": "fqUS17XijBTD"
      },
      "execution_count": null,
      "outputs": []
    },
    {
      "cell_type": "code",
      "source": [
        "info_Alvaro = (\"Alvaro\",\"Vargas\",\"Casado\",52,3,\"Analista de Servicios TI\",14500000)\n",
        "info_Alvaro"
      ],
      "metadata": {
        "id": "1dY5dFeb0Tc8",
        "outputId": "0488cb2a-4692-4bdb-cc58-abc45653489e",
        "colab": {
          "base_uri": "https://localhost:8080/"
        }
      },
      "execution_count": null,
      "outputs": [
        {
          "output_type": "execute_result",
          "data": {
            "text/plain": [
              "('Alvaro', 'Vargas', 'Casado', 52, 3, 'Analista de Servicios TI', 14500000)"
            ]
          },
          "metadata": {},
          "execution_count": 50
        }
      ]
    },
    {
      "cell_type": "code",
      "source": [
        "#Ver el tamaño (o norma) de la tupla\n",
        "len(info_Alvaro)"
      ],
      "metadata": {
        "colab": {
          "base_uri": "https://localhost:8080/"
        },
        "id": "6weVSpbzxCUX",
        "outputId": "6a1495be-5c56-41c0-ddfb-e586647a54da"
      },
      "execution_count": null,
      "outputs": [
        {
          "output_type": "execute_result",
          "data": {
            "text/plain": [
              "7"
            ]
          },
          "metadata": {},
          "execution_count": 51
        }
      ]
    },
    {
      "cell_type": "markdown",
      "source": [
        "Para generar una consulta de un elemento específico de la tupla se utiliza el concepto de indexación, especificando la posición deseada dentro de corchetes."
      ],
      "metadata": {
        "id": "m8oJSQkXxVRV"
      }
    },
    {
      "cell_type": "code",
      "source": [
        "#Ver un elemento específico de la tupla\n",
        "info_Alvaro[5]"
      ],
      "metadata": {
        "colab": {
          "base_uri": "https://localhost:8080/",
          "height": 35
        },
        "id": "rKiKBYnfxQBL",
        "outputId": "ec5e4f1d-6e87-4544-fcf0-03a7277bce70"
      },
      "execution_count": null,
      "outputs": [
        {
          "output_type": "execute_result",
          "data": {
            "text/plain": [
              "'Analista de Servicios TI'"
            ],
            "application/vnd.google.colaboratory.intrinsic+json": {
              "type": "string"
            }
          },
          "metadata": {},
          "execution_count": 52
        }
      ]
    },
    {
      "cell_type": "code",
      "source": [
        "info_Alvaro[0]"
      ],
      "metadata": {
        "id": "QtIdVcNw1vpM",
        "outputId": "c14fd54e-3c86-48cd-c72e-bad5cf193c32",
        "colab": {
          "base_uri": "https://localhost:8080/",
          "height": 35
        }
      },
      "execution_count": null,
      "outputs": [
        {
          "output_type": "execute_result",
          "data": {
            "text/plain": [
              "'Alvaro'"
            ],
            "application/vnd.google.colaboratory.intrinsic+json": {
              "type": "string"
            }
          },
          "metadata": {},
          "execution_count": 53
        }
      ]
    },
    {
      "cell_type": "markdown",
      "source": [
        "Nótese que la posición (o índice) parte desde 0, esto es, el primer elemento tiene un índice de 0, lo cual podemos verificar usando el \"método\" *index*."
      ],
      "metadata": {
        "id": "e3FeMhI-yAIp"
      }
    },
    {
      "cell_type": "markdown",
      "source": [
        "Metodo es específico de un objeto, y una función es gneeral para varios objetos."
      ],
      "metadata": {
        "id": "hsoOiYFQ2R-K"
      }
    },
    {
      "cell_type": "code",
      "source": [
        "info_JSAD.index(\"Juan\")"
      ],
      "metadata": {
        "colab": {
          "base_uri": "https://localhost:8080/"
        },
        "id": "k_tSQJoBySBC",
        "outputId": "ddf1ac04-f9ec-4ab8-8e44-48160b22042d"
      },
      "execution_count": null,
      "outputs": [
        {
          "output_type": "execute_result",
          "data": {
            "text/plain": [
              "0"
            ]
          },
          "metadata": {},
          "execution_count": 41
        }
      ]
    },
    {
      "cell_type": "code",
      "source": [
        "info_Alvaro.index(\"Vargas\")"
      ],
      "metadata": {
        "id": "kG3fKKF32DKB",
        "outputId": "c2f88d58-3294-4e63-a6da-516f979c5037",
        "colab": {
          "base_uri": "https://localhost:8080/"
        }
      },
      "execution_count": null,
      "outputs": [
        {
          "output_type": "execute_result",
          "data": {
            "text/plain": [
              "1"
            ]
          },
          "metadata": {},
          "execution_count": 54
        }
      ]
    },
    {
      "cell_type": "markdown",
      "source": [
        "Ahora bien, es posible verificar que en efecto, una tupla tiene elementos inmutables. Para probar esto, se intentará modificar el primer valor."
      ],
      "metadata": {
        "id": "zmKv92fn6Uzz"
      }
    },
    {
      "cell_type": "code",
      "source": [
        "info_Alvaro[1] = \"Fernandez\""
      ],
      "metadata": {
        "id": "cJpTWNAA2yc-",
        "outputId": "8db9a2e4-96de-438f-cf81-1c0787c37fad",
        "colab": {
          "base_uri": "https://localhost:8080/",
          "height": 165
        }
      },
      "execution_count": null,
      "outputs": [
        {
          "output_type": "error",
          "ename": "TypeError",
          "evalue": "ignored",
          "traceback": [
            "\u001b[0;31m---------------------------------------------------------------------------\u001b[0m",
            "\u001b[0;31mTypeError\u001b[0m                                 Traceback (most recent call last)",
            "\u001b[0;32m<ipython-input-55-5f91f3fd7ead>\u001b[0m in \u001b[0;36m<module>\u001b[0;34m()\u001b[0m\n\u001b[0;32m----> 1\u001b[0;31m \u001b[0minfo_Alvaro\u001b[0m\u001b[0;34m[\u001b[0m\u001b[0;36m1\u001b[0m\u001b[0;34m]\u001b[0m \u001b[0;34m=\u001b[0m \u001b[0;34m\"Fernandez\"\u001b[0m\u001b[0;34m\u001b[0m\u001b[0;34m\u001b[0m\u001b[0m\n\u001b[0m",
            "\u001b[0;31mTypeError\u001b[0m: 'tuple' object does not support item assignment"
          ]
        }
      ]
    },
    {
      "cell_type": "code",
      "source": [
        "info_JSAD[0] = \"Sebastian\""
      ],
      "metadata": {
        "colab": {
          "base_uri": "https://localhost:8080/",
          "height": 165
        },
        "id": "OvS7ebQc5Mkr",
        "outputId": "cb3adfc9-f9aa-4bda-c08b-f017395d3d65"
      },
      "execution_count": null,
      "outputs": [
        {
          "output_type": "error",
          "ename": "TypeError",
          "evalue": "ignored",
          "traceback": [
            "\u001b[0;31m---------------------------------------------------------------------------\u001b[0m",
            "\u001b[0;31mTypeError\u001b[0m                                 Traceback (most recent call last)",
            "\u001b[0;32m<ipython-input-42-9b6aa9913b84>\u001b[0m in \u001b[0;36m<module>\u001b[0;34m()\u001b[0m\n\u001b[0;32m----> 1\u001b[0;31m \u001b[0minfo_JSAD\u001b[0m\u001b[0;34m[\u001b[0m\u001b[0;36m0\u001b[0m\u001b[0;34m]\u001b[0m \u001b[0;34m=\u001b[0m \u001b[0;34m\"Sebastian\"\u001b[0m\u001b[0;34m\u001b[0m\u001b[0;34m\u001b[0m\u001b[0m\n\u001b[0m",
            "\u001b[0;31mTypeError\u001b[0m: 'tuple' object does not support item assignment"
          ]
        }
      ]
    },
    {
      "cell_type": "markdown",
      "source": [
        "### Listas\n",
        "\n",
        "Las listas son objetos similares a las tuplas, solamente que en este caso sus elementos sí son mutables.\n",
        "\n",
        "Para crear una lista se puede utilizar corchetes como se indica a continuación:"
      ],
      "metadata": {
        "id": "sE7jAjrRyjYS"
      }
    },
    {
      "cell_type": "code",
      "source": [
        "#Crear lista de compras del supermercado\n",
        "compras = [\"pan\",\"leche\",\"huevos\",\"agua\",\"servilletas\"]"
      ],
      "metadata": {
        "id": "R-MHWenb5fTv"
      },
      "execution_count": null,
      "outputs": []
    },
    {
      "cell_type": "code",
      "source": [
        "#Ver tamaño (o norma) de una lista\n",
        "len(compras)"
      ],
      "metadata": {
        "id": "iptApKWt5_d3"
      },
      "execution_count": null,
      "outputs": []
    },
    {
      "cell_type": "code",
      "source": [
        "#Ver un elemento específico de la lista\n",
        "compras[4]"
      ],
      "metadata": {
        "id": "AA9lYUQ_6Rdh"
      },
      "execution_count": null,
      "outputs": []
    },
    {
      "cell_type": "markdown",
      "source": [
        "Adicional al método *index* ya presentado, en las listas existen los siguientes que se asocian con la propiedad mutable antes referida:  "
      ],
      "metadata": {
        "id": "sO1AQEbQ-YLk"
      }
    },
    {
      "cell_type": "code",
      "source": [
        "#Insertar elementos al final de la lista\n",
        "compras.append(\"carne\")\n",
        "print(compras)"
      ],
      "metadata": {
        "id": "TBdyCubr6rxp"
      },
      "execution_count": null,
      "outputs": []
    },
    {
      "cell_type": "code",
      "source": [
        "#Insertar elementos en una posicion específica de la lista\n",
        "compras.insert(1,\"pollo\")\n",
        "print(compras)"
      ],
      "metadata": {
        "id": "TvHBz4Ca_Cen"
      },
      "execution_count": null,
      "outputs": []
    },
    {
      "cell_type": "code",
      "source": [
        "#Combinar con otra lista\n",
        "frutas = [\"manzana\",\"piña\",\"banana\"]\n",
        "compras.extend(frutas)\n",
        "print(compras)"
      ],
      "metadata": {
        "id": "mL2N7sXM_Twd"
      },
      "execution_count": null,
      "outputs": []
    },
    {
      "cell_type": "code",
      "source": [
        "#Eliminar elementos de una lista\n",
        "compras.remove(\"leche\")\n",
        "print(compras)"
      ],
      "metadata": {
        "id": "2WgGn8Qc_p6U"
      },
      "execution_count": null,
      "outputs": []
    },
    {
      "cell_type": "code",
      "source": [
        "#Eliminar elementos desde un indice especifico\n",
        "compras.pop(2)\n",
        "print(compras)"
      ],
      "metadata": {
        "id": "NC24O3TYAF66"
      },
      "execution_count": null,
      "outputs": []
    },
    {
      "cell_type": "code",
      "source": [
        "#Ordenar los elementos de una lista\n",
        "compras.sort(reverse = False)\n",
        "print(compras)"
      ],
      "metadata": {
        "id": "19t0KrrcARXC"
      },
      "execution_count": null,
      "outputs": []
    },
    {
      "cell_type": "markdown",
      "source": [
        "### Indexación en listas y Python Comprehension\n",
        "\n",
        "La indexación de listas es más completa cuando se trata de listas, la misma que involucra no solamente la extracción de elementos específicos, sino también la generación de subconjuntos de elementos (también llamados \"recortes\"). Para hacerlo considerar las siguientes líneas de código:"
      ],
      "metadata": {
        "id": "dzse7-zEA6Og"
      }
    },
    {
      "cell_type": "code",
      "source": [
        "#Crear una lista con números seleccionados al azar\n",
        "numeros = [-1.0,0.88,-3.4,5.56,8.6]\n",
        "\n",
        "#Ordenar la lista\n",
        "numeros.sort(reverse = False)\n",
        "\n",
        "print(numeros)"
      ],
      "metadata": {
        "id": "NLrIgSj4BLsp"
      },
      "execution_count": null,
      "outputs": []
    },
    {
      "cell_type": "code",
      "source": [
        "#Subconjunto con los 3 primeros elementos de la lista\n",
        "numeros[0:3]"
      ],
      "metadata": {
        "id": "frc9XUhmCF_5"
      },
      "execution_count": null,
      "outputs": []
    },
    {
      "cell_type": "code",
      "source": [
        "#Otra forma\n",
        "numeros[:3]"
      ],
      "metadata": {
        "id": "Zrpw3sB2CxVQ"
      },
      "execution_count": null,
      "outputs": []
    },
    {
      "cell_type": "code",
      "source": [
        "#Otra forma, pero ahora excluyendo a los dos ultimos valores\n",
        "numeros[:-2]"
      ],
      "metadata": {
        "id": "vODmdIWkCjSY"
      },
      "execution_count": null,
      "outputs": []
    },
    {
      "cell_type": "code",
      "source": [
        "#Seleccionar los números en posiciones impares\n",
        "numeros[0::2]"
      ],
      "metadata": {
        "id": "ntclB3hGDhif"
      },
      "execution_count": null,
      "outputs": []
    },
    {
      "cell_type": "code",
      "source": [
        "#Seleccionar los numeros en posiciones pares\n",
        "numeros[1::2]"
      ],
      "metadata": {
        "id": "5INhgtnzDyUt"
      },
      "execution_count": null,
      "outputs": []
    },
    {
      "cell_type": "markdown",
      "source": [
        "En general podemos definir a la indexación en listas conforme la siguiente expresión:\n",
        "\n",
        "\n",
        "$$ lista[posicion_{inicial}:posicion_{final} + 1:pasos]$$"
      ],
      "metadata": {
        "id": "r1lFZG9wFByc"
      }
    },
    {
      "cell_type": "markdown",
      "source": [
        "De igual manera, para indexar es factible utilizar reglas lógicas mediante expresiones como las siguientes:"
      ],
      "metadata": {
        "id": "sDm22zSpFlDP"
      }
    },
    {
      "cell_type": "code",
      "source": [
        "#Seleccionar solo los números positivos de la lista\n",
        "[i for i in numeros if i > 0]"
      ],
      "metadata": {
        "id": "1aUR1mjgD45r"
      },
      "execution_count": null,
      "outputs": []
    },
    {
      "cell_type": "code",
      "source": [
        "#Seleccionar solamente los numeros pares en una lista de números del 1 al 10\n",
        "numeros_2 = [1,2,3,4,5,6,7,8,9,10] \n",
        "\n",
        "#Usar la operación de modularización\n",
        "[num for num in numeros_2 if num%2 == 0]"
      ],
      "metadata": {
        "id": "XNE2xmL4F65E"
      },
      "execution_count": null,
      "outputs": []
    },
    {
      "cell_type": "markdown",
      "source": [
        "Esta forma de indexar y operar con listas se denomina **Python comprehension** y se la irá utilizando más adelante a fin de seguir practicando, pero por ahora se plantean un ejemplo adicional: "
      ],
      "metadata": {
        "id": "S7a4dEm5HBm0"
      }
    },
    {
      "cell_type": "code",
      "source": [
        "#Elevar al cuadrado los numeros impares y dividir los números pares de la lista numeros_2\n",
        "[j**2 if j%2 == 1 else j/2 for j in numeros_2]"
      ],
      "metadata": {
        "id": "xuVIlH7UH31J"
      },
      "execution_count": null,
      "outputs": []
    },
    {
      "cell_type": "markdown",
      "source": [
        "### Secuencias\n",
        "\n",
        "Las secuencias son conjuntos de valores no materializables, es decir, contienen elementos que no pueden ser operados como en las listas, pero que permiten una referenciación (similar a una indexación).\n",
        "\n",
        "Su forma más usual de construcción se da de acuerdo a la siguiente expresión:\n",
        "\n",
        "$$ secuencia = range(Valor_{inicial},Valor_{final},paso)$$"
      ],
      "metadata": {
        "id": "csgvHFh-I95h"
      }
    },
    {
      "cell_type": "code",
      "source": [
        "#Definir una secuencia de valores\n",
        "secuencia = range(0,20,2)"
      ],
      "metadata": {
        "id": "47zAqZbAJQmD"
      },
      "execution_count": null,
      "outputs": []
    },
    {
      "cell_type": "code",
      "source": [
        "#Imprimir la secuencia para comprender el concepto de \"no materializable\"\n",
        "print(secuencia)"
      ],
      "metadata": {
        "id": "6WNLrhS4wv6j"
      },
      "execution_count": null,
      "outputs": []
    },
    {
      "cell_type": "code",
      "source": [
        "#Tamaño (o norma) del rango\n",
        "len(secuencia)"
      ],
      "metadata": {
        "id": "QohKJIbsxJ1j"
      },
      "execution_count": null,
      "outputs": []
    },
    {
      "cell_type": "markdown",
      "source": [
        "Una secuencia puede convertirse en una lista utilizando la funcion *list*."
      ],
      "metadata": {
        "id": "1I3j4b3Qx7Iu"
      }
    },
    {
      "cell_type": "code",
      "source": [
        "list(secuencia)"
      ],
      "metadata": {
        "id": "YMseCUSixbbe"
      },
      "execution_count": null,
      "outputs": []
    },
    {
      "cell_type": "markdown",
      "source": [
        "Otra forma de crear secuencias es mediante el agrupamiento de elementos con la función *zip*, de tal forma que:\n",
        "\n",
        "$$ secuencia = zip(Lista_1, Lista_2) $$"
      ],
      "metadata": {
        "id": "cJ76xVhpyLGD"
      }
    },
    {
      "cell_type": "code",
      "source": [
        "#Crear listas con los nombres y la edad de una familia\n",
        "nombre = [\"Juan\",\"Nicole\",\"Cayetana\"]\n",
        "edad = [35,33,8]"
      ],
      "metadata": {
        "id": "1uNkH4S1yWDg"
      },
      "execution_count": null,
      "outputs": []
    },
    {
      "cell_type": "code",
      "source": [
        "#Utilizar zip para combinar las listas\n",
        "familia = zip(nombre,edad)"
      ],
      "metadata": {
        "id": "7RMINiKYylGL"
      },
      "execution_count": null,
      "outputs": []
    },
    {
      "cell_type": "code",
      "source": [
        "#Visualizar la secuencia a modo de lista\n",
        "list(familia)"
      ],
      "metadata": {
        "id": "i5Ppe7qNyup9"
      },
      "execution_count": null,
      "outputs": []
    },
    {
      "cell_type": "markdown",
      "source": [
        "Vale señalar que las secuencias son objetos útiles para crear declaraciones iterativas, las cuales se verán mas adelante en este curso. Así también sirven para crear otros objetos como los diccionarios que se verán en la siguiente sección."
      ],
      "metadata": {
        "id": "TxQXZK5FzQmN"
      }
    },
    {
      "cell_type": "markdown",
      "source": [
        "### Diccionarios\n",
        "\n",
        "Los diccionarios son un objeto que se estructura mediante la combinación de parejas *clave: valor*, donde las claves son un objeto inmutable.\n",
        "\n",
        "Para construir un diccionario se utilizan las llaves de la siguiente forma:"
      ],
      "metadata": {
        "id": "dgI_BGsdzmxV"
      }
    },
    {
      "cell_type": "code",
      "source": [
        "#Crear un diccionario de clientes\n",
        "clientes = {\"ID\": [\"0001\",\"0002\",\"0003\"], \"Nombre\": [\"Empresa A\",\"Empresa B\",\"Empresa C\"], \"Tipo\": [1,2,1]}\n",
        "\n",
        "clientes"
      ],
      "metadata": {
        "id": "CFUpPt8Pzikr"
      },
      "execution_count": null,
      "outputs": []
    },
    {
      "cell_type": "markdown",
      "source": [
        "Para generar consultas dentro del diccionario se ejecutan los siguientes métodos:"
      ],
      "metadata": {
        "id": "pBGC4Dn91udl"
      }
    },
    {
      "cell_type": "code",
      "source": [
        "#Averiguar las claves del diccionario\n",
        "clientes.keys()"
      ],
      "metadata": {
        "id": "uCVzqoJT2Bpl"
      },
      "execution_count": null,
      "outputs": []
    },
    {
      "cell_type": "code",
      "source": [
        "#Averiguar los valores del diccionario\n",
        "clientes.values()"
      ],
      "metadata": {
        "id": "2oxYVi0w2SYw"
      },
      "execution_count": null,
      "outputs": []
    },
    {
      "cell_type": "code",
      "source": [
        "#Averiguar las claves y los valores al mismo tiempo\n",
        "clientes.items()"
      ],
      "metadata": {
        "id": "khbPnTf52dCm"
      },
      "execution_count": null,
      "outputs": []
    },
    {
      "cell_type": "markdown",
      "source": [
        "Cada uno de estos métodos genera como resultado una secuencia, la cual por definición no es materializable pero si se la puede referenciar. Para materializar estos resultados se puede usar nuevamente la función *list*."
      ],
      "metadata": {
        "id": "0w0TgyZ-3K_4"
      }
    },
    {
      "cell_type": "code",
      "source": [
        "#Generar una lista con los valores del diccionario\n",
        "valores_clientes = list(clientes.values())"
      ],
      "metadata": {
        "id": "z5RAb-n93VZc"
      },
      "execution_count": null,
      "outputs": []
    },
    {
      "cell_type": "code",
      "source": [
        "#Consultar el segundo elemento\n",
        "valores_clientes[1]"
      ],
      "metadata": {
        "id": "kIkUQAMK3tyq"
      },
      "execution_count": null,
      "outputs": []
    },
    {
      "cell_type": "markdown",
      "source": [
        "Ahora bien, manteniendo la estructura de diccionario igualmente e sposible acceder a los valores de la siguiente forma:"
      ],
      "metadata": {
        "id": "NW8UYK_230hl"
      }
    },
    {
      "cell_type": "code",
      "source": [
        "#Acceder a un valor específico\n",
        "clientes[\"Nombre\"]"
      ],
      "metadata": {
        "id": "3DV3TeLU2xy_"
      },
      "execution_count": null,
      "outputs": []
    },
    {
      "cell_type": "markdown",
      "source": [
        "A continuación, se creará un diccionario con la secuencia de familia que se vio previamente. Para lo cual se usará la función *dict*."
      ],
      "metadata": {
        "id": "QjkB1Sof071s"
      }
    },
    {
      "cell_type": "code",
      "source": [
        "#Utilizar zip para combinar las listas\n",
        "familia = zip(nombre,edad)\n",
        "\n",
        "#Crear diccionario de familia\n",
        "dicc_familia = dict(familia)\n",
        "dicc_familia"
      ],
      "metadata": {
        "id": "yQXKoC5-1Fld"
      },
      "execution_count": null,
      "outputs": []
    },
    {
      "cell_type": "markdown",
      "source": [
        "También es posible agregar un nuevo elemento *clave: valor* al diccionario, de la forma siguiente:"
      ],
      "metadata": {
        "id": "ewPmlNOuhcOi"
      }
    },
    {
      "cell_type": "code",
      "source": [
        "#Agregar nueva clave y valor\n",
        "dicc_familia[\"Lua\"] = 6\n",
        "\n",
        "dicc_familia"
      ],
      "metadata": {
        "id": "eeUN8W3hhlne"
      },
      "execution_count": null,
      "outputs": []
    },
    {
      "cell_type": "markdown",
      "source": [
        "Y en el mismo sentido es posible eliminar elementos con el comando *del*."
      ],
      "metadata": {
        "id": "JLchT1_0iEjy"
      }
    },
    {
      "cell_type": "code",
      "source": [
        "#Quitar un elemento de la lista\n",
        "del dicc_familia[\"Lua\"]\n",
        "\n",
        "dicc_familia"
      ],
      "metadata": {
        "id": "C1oblzxUh8gs"
      },
      "execution_count": null,
      "outputs": []
    },
    {
      "cell_type": "markdown",
      "source": [
        "### Conjuntos\n",
        "\n",
        "Un conjunto es un objeto inmutable de elementos o valores cuya definición es equivalente a la existente en matemáticas.\n",
        "\n",
        "Para definirlo se utilizan llaves (por lo que se puede considerar a un diccionario como un subipo de conjunto) o la funcion *set* de la siguiente forma:"
      ],
      "metadata": {
        "id": "TTl6kZyQkXBP"
      }
    },
    {
      "cell_type": "code",
      "source": [
        "#Crear un conjunto de números primos hasta el 40\n",
        "conj_primos = {1,2,3,5,7,11,13,17,19,23,29,31,37,39}\n",
        "\n",
        "conj_primos"
      ],
      "metadata": {
        "id": "dsXi1R9SkuRZ"
      },
      "execution_count": null,
      "outputs": []
    },
    {
      "cell_type": "code",
      "source": [
        "#Crear un conjunto de los 20 primeros números\n",
        "lista_num = list(range(1,21,1))\n",
        "conj_num = set(lista_num)\n",
        "\n",
        "conj_num"
      ],
      "metadata": {
        "id": "zigH2pN0lCIJ"
      },
      "execution_count": null,
      "outputs": []
    },
    {
      "cell_type": "markdown",
      "source": [
        "Las operaciones binarias en este contexto surgen de la teoría matemática de conjuntos, siendo las más comunes las siguientes:\n",
        "\n",
        "* Unión (OR)\n",
        "* Intersección (AND)\n",
        "* Diferencia (Paso previo para XOR)"
      ],
      "metadata": {
        "id": "Emv8zcNGmaLe"
      }
    },
    {
      "cell_type": "code",
      "source": [
        "# Union de conjuntos\n",
        "conj_num | conj_primos"
      ],
      "metadata": {
        "id": "6yNm-85FH4WU"
      },
      "execution_count": null,
      "outputs": []
    },
    {
      "cell_type": "code",
      "source": [
        "# Intersección de conjuntos\n",
        "conj_num & conj_primos"
      ],
      "metadata": {
        "id": "5ZL6xj3IILUs"
      },
      "execution_count": null,
      "outputs": []
    },
    {
      "cell_type": "code",
      "source": [
        "# Diferencia de conjuntos\n",
        "conj_num - conj_primos"
      ],
      "metadata": {
        "id": "Qus5pakoIiFi"
      },
      "execution_count": null,
      "outputs": []
    },
    {
      "cell_type": "code",
      "source": [
        "# Or exclusivo (XOR) de conjuntos\n",
        "(conj_num - conj_primos) | (conj_primos - conj_num)"
      ],
      "metadata": {
        "id": "0wiHqL_TJBCa"
      },
      "execution_count": null,
      "outputs": []
    },
    {
      "cell_type": "markdown",
      "source": [
        "Para verificar que un elemento es parte de un conjunto es posible usar el operador *in*."
      ],
      "metadata": {
        "id": "Er1C84lbKQxA"
      }
    },
    {
      "cell_type": "code",
      "source": [
        "5 in conj_primos"
      ],
      "metadata": {
        "id": "Hbg0rbB-JwpC"
      },
      "execution_count": null,
      "outputs": []
    },
    {
      "cell_type": "code",
      "source": [
        "25 in conj_num"
      ],
      "metadata": {
        "id": "kiG0KyC0KjZv"
      },
      "execution_count": null,
      "outputs": []
    },
    {
      "cell_type": "markdown",
      "source": [
        "Y para comprobar que un diccionario es un subtipo de conjunto, se puede aplicar igualmente este operador:"
      ],
      "metadata": {
        "id": "Cd6lXoyLKrSB"
      }
    },
    {
      "cell_type": "code",
      "source": [
        "#Verificar que en el diccionario de clientes esté el nombre\n",
        "\"Nombre\" in clientes"
      ],
      "metadata": {
        "id": "zxg7rIZmKztk"
      },
      "execution_count": null,
      "outputs": []
    },
    {
      "cell_type": "markdown",
      "source": [
        "## Ejercicios"
      ],
      "metadata": {
        "id": "7-nKD8OaLDi8"
      }
    },
    {
      "cell_type": "markdown",
      "source": [
        "Sobre la base de lo aprendido resuelva los siguientes problemas:\n",
        "\n",
        "1. Indentifique como comentario y corrija los siguientes errores:"
      ],
      "metadata": {
        "id": "wsoJpC3aLFNq"
      }
    },
    {
      "cell_type": "code",
      "source": [
        "print(variable1)"
      ],
      "metadata": {
        "id": "4bhpYZESLQ8Z"
      },
      "execution_count": null,
      "outputs": []
    },
    {
      "cell_type": "code",
      "source": [
        "var_a = 5\n",
        "var_b = 10\n",
        "print('Mis números son: ' + var_a + var_b)"
      ],
      "metadata": {
        "id": "xkCCDgE-LXbZ"
      },
      "execution_count": null,
      "outputs": []
    },
    {
      "cell_type": "code",
      "source": [
        "tuple = (345123,876587,'Yes')\n",
        "tuple[0] = 1"
      ],
      "metadata": {
        "id": "JPZdMzACLhqY"
      },
      "execution_count": null,
      "outputs": []
    },
    {
      "cell_type": "code",
      "source": [
        "tuple = (1,2,3)\n",
        "tuple.index[1]"
      ],
      "metadata": {
        "id": "JilfOSG-L-_3"
      },
      "execution_count": null,
      "outputs": []
    },
    {
      "cell_type": "code",
      "source": [
        "teams = ['Barcelona','Valencia','Manchester City','Burnley']\n",
        "teams.add('Espanyol')"
      ],
      "metadata": {
        "id": "FRVBtspfL_rr"
      },
      "execution_count": null,
      "outputs": []
    },
    {
      "cell_type": "code",
      "source": [
        "teams = ['Barcelona','Valencia','Manchester City','Burnley']\n",
        "# mostrar los tres primeros equipos\n",
        "teams[;2]"
      ],
      "metadata": {
        "id": "obY9QNJCMHTR"
      },
      "execution_count": null,
      "outputs": []
    },
    {
      "cell_type": "code",
      "source": [
        "dict1 = ['name' : ['Munir','Carles','Dorian'], ages : [9,27,87]]"
      ],
      "metadata": {
        "id": "M_DlwiYqMyOR"
      },
      "execution_count": null,
      "outputs": []
    },
    {
      "cell_type": "code",
      "source": [
        "platforms = ['PS4', 'iOS', 'Android','PC']\n",
        "versions = [1.2,1.2,1.1,1.0]\n",
        "database = dict{platforms : versions}"
      ],
      "metadata": {
        "id": "yB8mUkqSMzR7"
      },
      "execution_count": null,
      "outputs": []
    },
    {
      "cell_type": "code",
      "source": [
        "users = {'ID' : [123321,8976321], 'username': ['lamb018','xix112']}\n",
        "drop users['ID']"
      ],
      "metadata": {
        "id": "zcR6MSMZN_xA"
      },
      "execution_count": null,
      "outputs": []
    },
    {
      "cell_type": "code",
      "source": [
        "integer_numbers = {-5,-4,-3,-2,-1,0,1,2,3,4,5}\n",
        "-5 is in integer_numbers"
      ],
      "metadata": {
        "id": "X0qqL62JOEJv"
      },
      "execution_count": null,
      "outputs": []
    },
    {
      "cell_type": "markdown",
      "source": [
        "2. Cree las siguientes funcionalidades"
      ],
      "metadata": {
        "id": "a4dZtxJeMTWv"
      }
    },
    {
      "cell_type": "code",
      "source": [
        "#Crear una lista que contenga todos los números enteros positivos menores que 100"
      ],
      "metadata": {
        "id": "e6mskNhWMXsj"
      },
      "execution_count": null,
      "outputs": []
    },
    {
      "cell_type": "code",
      "source": [
        "#Genere una nueva lista en la cual si el valor es menor a 50 se mantenga y si es mayor o igual a 50 se divida para 2"
      ],
      "metadata": {
        "id": "IfImykxnNL8i"
      },
      "execution_count": null,
      "outputs": []
    },
    {
      "cell_type": "code",
      "source": [
        "#Genere una lista de variables de texto al azar con al menos 7 valores\n",
        "#Imprima para cada elemento la frase \"Esta palabra tiene xx caracteres\" (pista: utilizar la funcion len)\n",
        "#Cree una nueva lista que solamente incluya los valores con menos de 4 caracteres"
      ],
      "metadata": {
        "id": "vsohRM2SOVqA"
      },
      "execution_count": null,
      "outputs": []
    }
  ]
}