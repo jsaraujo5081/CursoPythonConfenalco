{
  "nbformat": 4,
  "nbformat_minor": 0,
  "metadata": {
    "colab": {
      "name": "01IntroduccionPython.ipynb",
      "provenance": [],
      "collapsed_sections": [
        "ZPocpslYKkmS",
        "hhQaIa0CQIT-",
        "iwIXpvahGDth",
        "kVI_Ahtnfrog"
      ],
      "authorship_tag": "ABX9TyOOcbDYJOA8B2TUgnyqb1gw",
      "include_colab_link": true
    },
    "kernelspec": {
      "name": "python3",
      "display_name": "Python 3"
    },
    "language_info": {
      "name": "python"
    }
  },
  "cells": [
    {
      "cell_type": "markdown",
      "metadata": {
        "id": "view-in-github",
        "colab_type": "text"
      },
      "source": [
        "<a href=\"https://colab.research.google.com/github/jsaraujo5081/CursoPythonConfenalco/blob/notebooks/01IntroduccionPython.ipynb\" target=\"_parent\"><img src=\"https://colab.research.google.com/assets/colab-badge.svg\" alt=\"Open In Colab\"/></a>"
      ]
    },
    {
      "cell_type": "markdown",
      "source": [
        "## **INTRODUCCIÓN AL CURSO**"
      ],
      "metadata": {
        "id": "Ot030N0EGrBO"
      }
    },
    {
      "cell_type": "markdown",
      "source": [
        "## Contenido\n",
        "\n",
        "* El entorno Python\n",
        "* Variables\n",
        "* Operaciones binarias\n",
        "* Objetos\n",
        "* Ejercicios"
      ],
      "metadata": {
        "id": "5eGnPzdoHz7M"
      }
    },
    {
      "cell_type": "markdown",
      "source": [
        "## El entorno Python"
      ],
      "metadata": {
        "id": "ZPocpslYKkmS"
      }
    },
    {
      "cell_type": "markdown",
      "source": [
        "Python es un entorno de aplicaciones diseñadas para la\n",
        "manipulación de datos, el desarrollo de cálculos estadísticos y\n",
        "la visualización gráfica, que funciona bajo el paraguas “open\n",
        "source”.\n",
        "\n",
        "* Su lógica se basa en la utilización combinada de\n",
        "“paquetes” (o “librerías”) desarrollados por investigadores\n",
        "privados, pero validados por una red de pares calificados.\n",
        "* Python es un entorno en el sentido que su desarrollo está planificado\n",
        "y se encuentra dentro de un sistema coherente de nuevos\n",
        "métodos de análisis de datos.\n",
        "* Esto garantiza que sus resultados son confiables desde\n",
        "una perspectiva estadística y computacional.\n",
        "* A diferencia de otros lenguajes de programación estadística\n",
        "basada en objetos, Python tiende a mantener un alto estándar de\n",
        "rigurosidad computacional por sobre lo matemático.\n",
        "* Ha sido desarrollado por Ingenieros y no por matemáticos\n",
        "como es el caso de R."
      ],
      "metadata": {
        "id": "zm-6t094jBcC"
      }
    },
    {
      "cell_type": "markdown",
      "source": [
        "### El mundo del análisis de datos\n",
        "\n",
        "Python es una de muchas herramientas para el\n",
        "análisis de datos en la actualidad que\n",
        "combinan el poder de la computación con\n",
        "la matemática.\n",
        "\n",
        "Mi TOP 5 personal:\n",
        "\n",
        "1. R\n",
        "2. Python\n",
        "3. DAX/Visual\n",
        "4. Javascript\n",
        "5. Google Go\n",
        "\n",
        "En los últimos años, sin embargo, han\n",
        "aparecido herramientas que buscan mayor\n",
        "facilidad para el analista a través del\n",
        "esquema “no code”. Por mencionar algunos casos:\n",
        "\n",
        "* Knime\n",
        "* H20\n",
        "* Alteryx\n",
        "* Datarobot\n"
      ],
      "metadata": {
        "id": "LCf-1Rh7LV7r"
      }
    },
    {
      "cell_type": "markdown",
      "source": [
        "### Contraste entre entornos de análisis estadístico\n",
        "\n",
        "| Parametro | SAS | Python | R |\n",
        "| --- | --- | --- | --- |\n",
        "| Costo / Disponibilidad | 3 | 5 | 5 |\n",
        "| Facilidad de aprendizaje | 4.5 | 3.5 | 2.5 |\n",
        "| Manejo de datos | 4 | 4 | 4 |\n",
        "| Capacidades gráficas | 3 | 4.5 | 4.5 |\n",
        "| Analítica avanzada | 4 | 4.5 | 4.5 |\n",
        "| Habilidad Laboral | 4 | 4.5 | 4.5 |\n",
        "| Servicio técnico | 4.5 | 3 | 3 |\n",
        "| Aprendizaje computacional | 2 | 4.5 | 4 |"
      ],
      "metadata": {
        "id": "6tzwMuXnMCeF"
      }
    },
    {
      "cell_type": "markdown",
      "source": [
        "### Importancia de saber programar con datos\n",
        "\n",
        "Según Linkedin para el año 2020 estas son las 10 habilidades duras más requeridas a nivel mundial:\n",
        "\n",
        "* Blockchain\n",
        "* Computación en la nube\n",
        "* Razonamiento analítico\n",
        "* Inteligencia artificial\n",
        "* Diseño UX\n",
        "* Inteligencia de negocios\n",
        "* Mercadeo\n",
        "* Ventas\n",
        "* Computación científica\n",
        "* Producción audiovisual"
      ],
      "metadata": {
        "id": "5ekqOv4FOc0B"
      }
    },
    {
      "cell_type": "markdown",
      "source": [
        "## Variables"
      ],
      "metadata": {
        "id": "hhQaIa0CQIT-"
      }
    },
    {
      "cell_type": "markdown",
      "source": [
        "Una variable en términos computacionales es similar a una de tipo matemático, pues corresponde a un elemento con la capacidad de guardar un valor, mismo que puede **VARIAR** a través de un proceso.\n",
        "\n",
        "Para asignar un valor a una variable en Python debemos utilizar la siguiente notación:\n",
        "\n",
        "$$ variable = valor $$"
      ],
      "metadata": {
        "id": "4QclWoisjHJ-"
      }
    },
    {
      "cell_type": "markdown",
      "source": [
        "### Tipos fundamentales de variables\n",
        "\n",
        "Una variable solamente puede ser de un tipo o clase específico.\n",
        "\n",
        "Para conocer este tipo vamos a usar la funcion *type*, y vamos a presentar cuáles son las clases más importantes:\n",
        "\n",
        "* Numérica entera\n",
        "\n"
      ],
      "metadata": {
        "id": "o-lrkbBORD5Z"
      }
    },
    {
      "cell_type": "code",
      "execution_count": null,
      "metadata": {
        "colab": {
          "base_uri": "https://localhost:8080/"
        },
        "id": "Lj_usg7UGivj",
        "outputId": "d400ad8d-fb43-4076-c07f-08fca3f2def8"
      },
      "outputs": [
        {
          "output_type": "stream",
          "name": "stdout",
          "text": [
            "5\n",
            "<class 'int'>\n"
          ]
        }
      ],
      "source": [
        "var_entera = 5\n",
        "print(var_entera)\n",
        "print(type(var_entera))"
      ]
    },
    {
      "cell_type": "code",
      "source": [
        "var_entera = 5\n",
        "type(var_entera)\n",
        "var_entera"
      ],
      "metadata": {
        "id": "ap_JTSkCm62b",
        "outputId": "d93028f2-14ae-456a-edfc-b7e56ee1ba42",
        "colab": {
          "base_uri": "https://localhost:8080/"
        }
      },
      "execution_count": null,
      "outputs": [
        {
          "output_type": "execute_result",
          "data": {
            "text/plain": [
              "5"
            ]
          },
          "metadata": {},
          "execution_count": 7
        }
      ]
    },
    {
      "cell_type": "code",
      "source": [
        "variable_ent = 35"
      ],
      "metadata": {
        "id": "4CLZeMnsmIA8"
      },
      "execution_count": null,
      "outputs": []
    },
    {
      "cell_type": "code",
      "source": [
        "print(variable_ent)"
      ],
      "metadata": {
        "id": "jzNY8H_zmdVg",
        "outputId": "a7c46b79-eeda-4280-d18d-a0bf427ea8c8",
        "colab": {
          "base_uri": "https://localhost:8080/"
        }
      },
      "execution_count": null,
      "outputs": [
        {
          "output_type": "stream",
          "name": "stdout",
          "text": [
            "35\n"
          ]
        }
      ]
    },
    {
      "cell_type": "code",
      "source": [
        "print(type(variable_ent))"
      ],
      "metadata": {
        "id": "35NMYD9gmkas",
        "outputId": "a90da3e1-0181-4953-8158-2218df6a5399",
        "colab": {
          "base_uri": "https://localhost:8080/"
        }
      },
      "execution_count": null,
      "outputs": [
        {
          "output_type": "stream",
          "name": "stdout",
          "text": [
            "<class 'int'>\n"
          ]
        }
      ]
    },
    {
      "cell_type": "code",
      "source": [
        "variable_ent"
      ],
      "metadata": {
        "id": "ih-IiSaMmwtV",
        "outputId": "f753e126-5795-4922-dfeb-1e7987dd52b7",
        "colab": {
          "base_uri": "https://localhost:8080/"
        }
      },
      "execution_count": null,
      "outputs": [
        {
          "output_type": "execute_result",
          "data": {
            "text/plain": [
              "35"
            ]
          },
          "metadata": {},
          "execution_count": 4
        }
      ]
    },
    {
      "cell_type": "code",
      "source": [
        "type(variable_ent)"
      ],
      "metadata": {
        "id": "GlqHQZINnaNB",
        "outputId": "fe2ed3b2-9680-4438-8f1c-59d92bcb53de",
        "colab": {
          "base_uri": "https://localhost:8080/"
        }
      },
      "execution_count": null,
      "outputs": [
        {
          "output_type": "execute_result",
          "data": {
            "text/plain": [
              "int"
            ]
          },
          "metadata": {},
          "execution_count": 8
        }
      ]
    },
    {
      "cell_type": "markdown",
      "source": [
        "* Numérica decimal (referida en Python como float)"
      ],
      "metadata": {
        "id": "o87yhDtLRnM2"
      }
    },
    {
      "cell_type": "code",
      "source": [
        "var_decimal = 34.26\n",
        "print(var_decimal)\n",
        "print(type(var_decimal))"
      ],
      "metadata": {
        "colab": {
          "base_uri": "https://localhost:8080/"
        },
        "id": "ArTx43Y5RsKt",
        "outputId": "beba95b3-6bb7-49ad-d3f5-c43885309b2d"
      },
      "execution_count": null,
      "outputs": [
        {
          "output_type": "stream",
          "name": "stdout",
          "text": [
            "34.26\n",
            "<class 'float'>\n"
          ]
        }
      ]
    },
    {
      "cell_type": "code",
      "source": [
        "roetgens = 10546.29546\n",
        "roetgens"
      ],
      "metadata": {
        "id": "R8Hy32gCoUIp",
        "outputId": "31306d2b-86f4-4e41-fc3e-8b1cdc8df5b1",
        "colab": {
          "base_uri": "https://localhost:8080/"
        }
      },
      "execution_count": null,
      "outputs": [
        {
          "output_type": "execute_result",
          "data": {
            "text/plain": [
              "10546.29546"
            ]
          },
          "metadata": {},
          "execution_count": 11
        }
      ]
    },
    {
      "cell_type": "code",
      "source": [
        "type(roetgens)"
      ],
      "metadata": {
        "id": "ULgfJmHSorGd",
        "outputId": "71bd76a2-4a44-4bbb-920a-0a4d6dd2b9e9",
        "colab": {
          "base_uri": "https://localhost:8080/"
        }
      },
      "execution_count": null,
      "outputs": [
        {
          "output_type": "execute_result",
          "data": {
            "text/plain": [
              "float"
            ]
          },
          "metadata": {},
          "execution_count": 12
        }
      ]
    },
    {
      "cell_type": "markdown",
      "source": [
        "* Texto (en inglés denominadas strings, en R se llaman Characters)"
      ],
      "metadata": {
        "id": "h2VYvwxfR3wu"
      }
    },
    {
      "cell_type": "code",
      "source": [
        "var_texto = \"Juan\"\n",
        "print(var_texto)\n",
        "print(type(var_texto))"
      ],
      "metadata": {
        "colab": {
          "base_uri": "https://localhost:8080/"
        },
        "id": "bnM0gg8LSU4w",
        "outputId": "ba8889e9-f5bf-4e4d-c46d-fda0fa993549"
      },
      "execution_count": null,
      "outputs": [
        {
          "output_type": "stream",
          "name": "stdout",
          "text": [
            "Juan\n",
            "<class 'str'>\n"
          ]
        }
      ]
    },
    {
      "cell_type": "code",
      "source": [
        "pais = \"Ecuador\"\n",
        "pais"
      ],
      "metadata": {
        "id": "ClIEoueAo84f",
        "outputId": "50b41c0d-9c86-4257-9b90-0e09a72869ad",
        "colab": {
          "base_uri": "https://localhost:8080/",
          "height": 35
        }
      },
      "execution_count": null,
      "outputs": [
        {
          "output_type": "execute_result",
          "data": {
            "text/plain": [
              "'Ecuador'"
            ],
            "application/vnd.google.colaboratory.intrinsic+json": {
              "type": "string"
            }
          },
          "metadata": {},
          "execution_count": 13
        }
      ]
    },
    {
      "cell_type": "code",
      "source": [
        "pais2 = 'Chile'"
      ],
      "metadata": {
        "id": "J_0Xe5TGpOoW"
      },
      "execution_count": null,
      "outputs": []
    },
    {
      "cell_type": "code",
      "source": [
        "type(pais)"
      ],
      "metadata": {
        "id": "Zb4m1NtkpHCA",
        "outputId": "e5c11e2f-d9ba-4feb-c6ee-e8b4435c8493",
        "colab": {
          "base_uri": "https://localhost:8080/"
        }
      },
      "execution_count": null,
      "outputs": [
        {
          "output_type": "execute_result",
          "data": {
            "text/plain": [
              "str"
            ]
          },
          "metadata": {},
          "execution_count": 14
        }
      ]
    },
    {
      "cell_type": "code",
      "source": [
        "edad_txt = \"35\"\n",
        "type(edad_txt) "
      ],
      "metadata": {
        "id": "NJEFh-JypZ_t",
        "outputId": "c96ec74e-cad3-4f06-e32a-c7067547b7ff",
        "colab": {
          "base_uri": "https://localhost:8080/"
        }
      },
      "execution_count": null,
      "outputs": [
        {
          "output_type": "execute_result",
          "data": {
            "text/plain": [
              "str"
            ]
          },
          "metadata": {},
          "execution_count": 17
        }
      ]
    },
    {
      "cell_type": "markdown",
      "source": [
        "* Buleano o lógico"
      ],
      "metadata": {
        "id": "-LubrEAFTTwt"
      }
    },
    {
      "cell_type": "code",
      "source": [
        "var_buleano = True\n",
        "print(var_buleano)\n",
        "print(type(var_buleano))"
      ],
      "metadata": {
        "colab": {
          "base_uri": "https://localhost:8080/"
        },
        "id": "ay_vilqmTd8e",
        "outputId": "1d5ae60a-c48e-46f9-de24-425ac400d6d5"
      },
      "execution_count": null,
      "outputs": [
        {
          "output_type": "stream",
          "name": "stdout",
          "text": [
            "True\n",
            "<class 'bool'>\n"
          ]
        }
      ]
    },
    {
      "cell_type": "code",
      "source": [
        "soy_hombre = True\n",
        "type(soy_hombre)"
      ],
      "metadata": {
        "id": "VtDh8b2ZqH8V",
        "outputId": "042e573a-8c0a-4f8f-9c95-28b038719456",
        "colab": {
          "base_uri": "https://localhost:8080/"
        }
      },
      "execution_count": null,
      "outputs": [
        {
          "output_type": "execute_result",
          "data": {
            "text/plain": [
              "bool"
            ]
          },
          "metadata": {},
          "execution_count": 18
        }
      ]
    },
    {
      "cell_type": "code",
      "source": [
        "soy_perro = False\n",
        "type(soy_perro)"
      ],
      "metadata": {
        "id": "9_R8InGzqQOb",
        "outputId": "0dc2a5d0-e7a2-4742-f4d7-b4b7882265bf",
        "colab": {
          "base_uri": "https://localhost:8080/"
        }
      },
      "execution_count": null,
      "outputs": [
        {
          "output_type": "execute_result",
          "data": {
            "text/plain": [
              "bool"
            ]
          },
          "metadata": {},
          "execution_count": 19
        }
      ]
    },
    {
      "cell_type": "markdown",
      "source": [
        "Existen además otros tipos de variables como son las categóricas y fechas, mismas que serán revisadas posteriormente en el curso puesto que requieren de un mayor conocimiento y dominio de la herramienta."
      ],
      "metadata": {
        "id": "dtENSVqsUP4K"
      }
    },
    {
      "cell_type": "markdown",
      "source": [
        "### Conversión de tipos\n",
        "\n",
        "En muchas ocasiones podría ser conveniente establecer \"manualmente\" el tipo de una variable. Aquí unos ejemplos de cómo hacerlo:"
      ],
      "metadata": {
        "id": "LBBsruf-ToEh"
      }
    },
    {
      "cell_type": "code",
      "source": [
        "Nombre = \"Juan\"\n",
        "Edad = 35\n",
        "Edad_txt = str(Edad)\n",
        "\n",
        "print(\"Mi nombre es \" + Nombre + \" y mi edad es de \" + Edad_txt + \" años\")"
      ],
      "metadata": {
        "id": "iPyoWFk0tbwU",
        "outputId": "7209a388-9732-4764-ef53-16508cbcbcb3",
        "colab": {
          "base_uri": "https://localhost:8080/"
        }
      },
      "execution_count": null,
      "outputs": [
        {
          "output_type": "stream",
          "name": "stdout",
          "text": [
            "Mi nombre es Juan y mi edad es de 35 años\n"
          ]
        }
      ]
    },
    {
      "cell_type": "code",
      "source": [
        "#Ejemplo 1: Imprimir un mensaje de texto indicando su nombre y su edad\n",
        "Nombre = \"Nicole\"\n",
        "Edad = 33\n",
        "\n",
        "print(\"Mi nombre es \" + Nombre + \", y tengo \" + str(Edad) + \" años.\")"
      ],
      "metadata": {
        "colab": {
          "base_uri": "https://localhost:8080/"
        },
        "id": "zVDeEgWCUyRc",
        "outputId": "c9079457-037d-49db-9a4e-da9d127a2498"
      },
      "execution_count": null,
      "outputs": [
        {
          "output_type": "stream",
          "name": "stdout",
          "text": [
            "Mi nombre es Nicole, y tengo 33 años.\n"
          ]
        }
      ]
    },
    {
      "cell_type": "code",
      "source": [
        "#Me llamo Juan"
      ],
      "metadata": {
        "id": "qRpHhO-9uTZ2"
      },
      "execution_count": null,
      "outputs": []
    },
    {
      "cell_type": "markdown",
      "source": [
        "Nótese dos cosas:\n",
        "\n",
        "* La primera es que para convertir la variable numérica *Edad* a un texto hemos usado la funcion *str*.\n",
        "* La segunda es que hemos usado el símbolo *#* para escribir un texto dentro del código. Estos se llaman Comentarios y son muy útiles para guiar de forma semántica al lector respecto a lo que se hace en un código de programación. \n",
        "\n",
        "Otro ejemplo de conversión de variables:"
      ],
      "metadata": {
        "id": "74PJHbVYVOzc"
      }
    },
    {
      "cell_type": "code",
      "source": [
        "#Ejemplo 2: Asegurarse que todas las variables numéricas sean decimales\n",
        "a = 12.5\n",
        "b = 50\n",
        "c = -29.1\n",
        "\n",
        "print (\"a es de tipo: \" + str(type(a)) + \"\\n\", #La expresión \"\\n\" representa un salto de línea\n",
        "       \"b es de tipo: \" + str(type(b)) + \"\\n\",\n",
        "       \"c es de tipo: \" + str(type(c)) + \"\\n\")"
      ],
      "metadata": {
        "colab": {
          "base_uri": "https://localhost:8080/"
        },
        "id": "I-fa4swpVbD9",
        "outputId": "396f2943-7cc9-4c84-9b25-326cec2fdf02"
      },
      "execution_count": null,
      "outputs": [
        {
          "output_type": "stream",
          "name": "stdout",
          "text": [
            "a es de tipo: <class 'float'>\n",
            " b es de tipo: <class 'int'>\n",
            " c es de tipo: <class 'float'>\n",
            "\n"
          ]
        }
      ]
    },
    {
      "cell_type": "code",
      "source": [
        "b = float(b)\n",
        "\n",
        "print (\"a es de tipo: \" + str(type(a)) + \"\\n\", \n",
        "       \"b es de tipo: \" + str(type(b)) + \"\\n\",\n",
        "       \"c es de tipo: \" + str(type(c)) + \"\\n\")\n",
        "\n",
        "print(b)"
      ],
      "metadata": {
        "colab": {
          "base_uri": "https://localhost:8080/"
        },
        "id": "OmMfb4QFWwQy",
        "outputId": "a3947b69-1f5c-40db-de9c-2a568ce97969"
      },
      "execution_count": null,
      "outputs": [
        {
          "output_type": "stream",
          "name": "stdout",
          "text": [
            "a es de tipo: <class 'float'>\n",
            " b es de tipo: <class 'float'>\n",
            " c es de tipo: <class 'float'>\n",
            "\n",
            "50.0\n"
          ]
        }
      ]
    },
    {
      "cell_type": "markdown",
      "source": [
        "Para cambiar en el tipo de variable, en este caso se ha usado la funcion *float*. Ahora bien, para cambiar una variable a tipo entero usamos la función *int* como en el siguiene ejemplo:"
      ],
      "metadata": {
        "id": "kM0X1vTIW96Y"
      }
    },
    {
      "cell_type": "code",
      "source": [
        "#Ejemplo 3: Cambiar una variable de texto a entero\n",
        "Hijos = \"2\"\n",
        "print(type(Hijos))"
      ],
      "metadata": {
        "colab": {
          "base_uri": "https://localhost:8080/"
        },
        "id": "xocYWjP1FkPP",
        "outputId": "d79a7283-01eb-4490-beeb-08b6a59ab27b"
      },
      "execution_count": null,
      "outputs": [
        {
          "output_type": "stream",
          "name": "stdout",
          "text": [
            "<class 'str'>\n"
          ]
        }
      ]
    },
    {
      "cell_type": "code",
      "source": [
        "Hijos = int(Hijos)\n",
        "print(type(Hijos))"
      ],
      "metadata": {
        "colab": {
          "base_uri": "https://localhost:8080/"
        },
        "id": "vVDke0pJFwS4",
        "outputId": "dc5fee8f-eedb-4e68-899c-d4f71bf9e054"
      },
      "execution_count": null,
      "outputs": [
        {
          "output_type": "stream",
          "name": "stdout",
          "text": [
            "<class 'int'>\n"
          ]
        }
      ]
    },
    {
      "cell_type": "markdown",
      "source": [
        "## Operaciones Binarias"
      ],
      "metadata": {
        "id": "iwIXpvahGDth"
      }
    },
    {
      "cell_type": "markdown",
      "source": [
        "Una operación binaria es toda aquella que involucre la interacción de 2 o más variables. Se las puede dividir en matemáticas y lógicas."
      ],
      "metadata": {
        "id": "7gNHFdBmjdKz"
      }
    },
    {
      "cell_type": "markdown",
      "source": [
        "### Operaciones Matemáticas\n",
        "\n",
        "Las operaciones matemáticas son específicas de las variables de tipo numérico, y más comunes son las siguientes:\n",
        "\n",
        "* Suma y Resta"
      ],
      "metadata": {
        "id": "k71Z--x9GVlJ"
      }
    },
    {
      "cell_type": "code",
      "source": [
        "#Definir dos variables\n",
        "a = 5.4\n",
        "b = 3.1\n",
        "c = -10.4\n",
        "d = 0.57"
      ],
      "metadata": {
        "id": "Cck4aYELGfNt"
      },
      "execution_count": null,
      "outputs": []
    },
    {
      "cell_type": "code",
      "source": [
        "#Suma\n",
        "a + b"
      ],
      "metadata": {
        "colab": {
          "base_uri": "https://localhost:8080/"
        },
        "id": "ncPtbkG7GzHC",
        "outputId": "e80157b2-6e91-4860-ed42-01ce39650114"
      },
      "execution_count": null,
      "outputs": [
        {
          "output_type": "execute_result",
          "data": {
            "text/plain": [
              "8.5"
            ]
          },
          "metadata": {},
          "execution_count": 30
        }
      ]
    },
    {
      "cell_type": "code",
      "source": [
        "#Resta\n",
        "a - c"
      ],
      "metadata": {
        "colab": {
          "base_uri": "https://localhost:8080/"
        },
        "id": "KTkn0MDZG1NN",
        "outputId": "fb711c6d-9e7d-4ab6-bcf3-09cd4b455a7e"
      },
      "execution_count": null,
      "outputs": [
        {
          "output_type": "execute_result",
          "data": {
            "text/plain": [
              "15.8"
            ]
          },
          "metadata": {},
          "execution_count": 31
        }
      ]
    },
    {
      "cell_type": "code",
      "source": [
        "#Combinación de operaciones\n",
        "a + b - c"
      ],
      "metadata": {
        "colab": {
          "base_uri": "https://localhost:8080/"
        },
        "id": "qJb4YQCjG7kW",
        "outputId": "e1b9009e-2d4f-496d-98b5-f576bc50e319"
      },
      "execution_count": null,
      "outputs": [
        {
          "output_type": "execute_result",
          "data": {
            "text/plain": [
              "18.9"
            ]
          },
          "metadata": {},
          "execution_count": 32
        }
      ]
    },
    {
      "cell_type": "markdown",
      "source": [
        "* Multiplicación y División"
      ],
      "metadata": {
        "id": "DZJO757oHDHJ"
      }
    },
    {
      "cell_type": "code",
      "source": [
        "#Multiplicacion\n",
        "b*c"
      ],
      "metadata": {
        "colab": {
          "base_uri": "https://localhost:8080/"
        },
        "id": "m_HEoPwOHFu0",
        "outputId": "365909af-00a5-4480-ae20-338b776ff1a8"
      },
      "execution_count": null,
      "outputs": [
        {
          "output_type": "execute_result",
          "data": {
            "text/plain": [
              "-32.24"
            ]
          },
          "metadata": {},
          "execution_count": 33
        }
      ]
    },
    {
      "cell_type": "code",
      "source": [
        "#División\n",
        "b/a"
      ],
      "metadata": {
        "colab": {
          "base_uri": "https://localhost:8080/"
        },
        "id": "tc1yio6wHMji",
        "outputId": "b5986351-06ec-47fc-d150-5306821081d6"
      },
      "execution_count": null,
      "outputs": [
        {
          "output_type": "execute_result",
          "data": {
            "text/plain": [
              "0.5740740740740741"
            ]
          },
          "metadata": {},
          "execution_count": 34
        }
      ]
    },
    {
      "cell_type": "code",
      "source": [
        "#Combinacion de operaciones\n",
        "a*b - c/d"
      ],
      "metadata": {
        "colab": {
          "base_uri": "https://localhost:8080/"
        },
        "id": "y3vAVJOlHRxO",
        "outputId": "fc935e03-955c-4b81-f8e7-7f1fa62d7b23"
      },
      "execution_count": null,
      "outputs": [
        {
          "output_type": "execute_result",
          "data": {
            "text/plain": [
              "34.98561403508772"
            ]
          },
          "metadata": {},
          "execution_count": 35
        }
      ]
    },
    {
      "cell_type": "markdown",
      "source": [
        "* Potencias"
      ],
      "metadata": {
        "id": "TGS-P0MRHcrA"
      }
    },
    {
      "cell_type": "code",
      "source": [
        "#Cubo de 8\n",
        "8^3"
      ],
      "metadata": {
        "id": "f6Lt7IblwAqi",
        "outputId": "b2157682-c5f9-4b1f-89ab-78371381f50a",
        "colab": {
          "base_uri": "https://localhost:8080/"
        }
      },
      "execution_count": null,
      "outputs": [
        {
          "output_type": "execute_result",
          "data": {
            "text/plain": [
              "11"
            ]
          },
          "metadata": {},
          "execution_count": 36
        }
      ]
    },
    {
      "cell_type": "code",
      "source": [
        "#Potencia 5 de a\n",
        "a**5"
      ],
      "metadata": {
        "id": "R9x7kZzJwJxv",
        "outputId": "646cb18d-9bce-40a9-b8f5-5a98cdb34034",
        "colab": {
          "base_uri": "https://localhost:8080/"
        }
      },
      "execution_count": null,
      "outputs": [
        {
          "output_type": "execute_result",
          "data": {
            "text/plain": [
              "4591.650240000002"
            ]
          },
          "metadata": {},
          "execution_count": 38
        }
      ]
    },
    {
      "cell_type": "code",
      "source": [
        "#Potencia\n",
        "a**2"
      ],
      "metadata": {
        "colab": {
          "base_uri": "https://localhost:8080/"
        },
        "id": "invdN7X4Hfjo",
        "outputId": "8426265a-7aca-4d0a-db94-1c7fae3b027a"
      },
      "execution_count": null,
      "outputs": [
        {
          "output_type": "execute_result",
          "data": {
            "text/plain": [
              "29.160000000000004"
            ]
          },
          "metadata": {},
          "execution_count": 29
        }
      ]
    },
    {
      "cell_type": "code",
      "source": [
        "#Raices\n",
        "b**(1/3) #i.e. Raíz cúbica"
      ],
      "metadata": {
        "colab": {
          "base_uri": "https://localhost:8080/"
        },
        "id": "c6VKrN9sHzNJ",
        "outputId": "000db86c-5a4d-4372-baa0-febd6bf4f180"
      },
      "execution_count": null,
      "outputs": [
        {
          "output_type": "execute_result",
          "data": {
            "text/plain": [
              "1.4580997358267116"
            ]
          },
          "metadata": {},
          "execution_count": 39
        }
      ]
    },
    {
      "cell_type": "markdown",
      "source": [
        "* Modularización"
      ],
      "metadata": {
        "id": "IdRsEIUcIAHS"
      }
    },
    {
      "cell_type": "code",
      "source": [
        "#Ejemplos con números fijos\n",
        "1%2"
      ],
      "metadata": {
        "colab": {
          "base_uri": "https://localhost:8080/"
        },
        "id": "ccWoUKDCH_Jt",
        "outputId": "e79ad94b-f6ac-41ab-d9d9-b2c0b6a1e295"
      },
      "execution_count": null,
      "outputs": [
        {
          "output_type": "execute_result",
          "data": {
            "text/plain": [
              "1"
            ]
          },
          "metadata": {},
          "execution_count": 31
        }
      ]
    },
    {
      "cell_type": "code",
      "source": [
        "2%2"
      ],
      "metadata": {
        "colab": {
          "base_uri": "https://localhost:8080/"
        },
        "id": "pZAw5jATIV3w",
        "outputId": "201b1f99-9966-4dc0-aeb9-912a611c508a"
      },
      "execution_count": null,
      "outputs": [
        {
          "output_type": "execute_result",
          "data": {
            "text/plain": [
              "0"
            ]
          },
          "metadata": {},
          "execution_count": 32
        }
      ]
    },
    {
      "cell_type": "code",
      "source": [
        "3%2"
      ],
      "metadata": {
        "colab": {
          "base_uri": "https://localhost:8080/"
        },
        "id": "5x4oUDyCIcLr",
        "outputId": "f3562ac8-89a1-42e5-e242-407f79b81bea"
      },
      "execution_count": null,
      "outputs": [
        {
          "output_type": "execute_result",
          "data": {
            "text/plain": [
              "1"
            ]
          },
          "metadata": {},
          "execution_count": 33
        }
      ]
    },
    {
      "cell_type": "code",
      "source": [
        "4%2"
      ],
      "metadata": {
        "id": "csQGxwaAwznf",
        "outputId": "6c68b439-18bd-4ec8-dd6b-3a410e3495e9",
        "colab": {
          "base_uri": "https://localhost:8080/"
        }
      },
      "execution_count": null,
      "outputs": [
        {
          "output_type": "execute_result",
          "data": {
            "text/plain": [
              "0"
            ]
          },
          "metadata": {},
          "execution_count": 40
        }
      ]
    },
    {
      "cell_type": "code",
      "source": [
        "5%2"
      ],
      "metadata": {
        "id": "aiPVUZMpw7bv",
        "outputId": "5058bba0-f493-4b27-d080-9ad9557b0048",
        "colab": {
          "base_uri": "https://localhost:8080/"
        }
      },
      "execution_count": null,
      "outputs": [
        {
          "output_type": "execute_result",
          "data": {
            "text/plain": [
              "1"
            ]
          },
          "metadata": {},
          "execution_count": 41
        }
      ]
    },
    {
      "cell_type": "code",
      "source": [
        "6%2"
      ],
      "metadata": {
        "id": "y5gg_O2Uw8_7",
        "outputId": "9f5f58c1-1c0c-4cf9-97f7-5ceb0b748be8",
        "colab": {
          "base_uri": "https://localhost:8080/"
        }
      },
      "execution_count": null,
      "outputs": [
        {
          "output_type": "execute_result",
          "data": {
            "text/plain": [
              "0"
            ]
          },
          "metadata": {},
          "execution_count": 42
        }
      ]
    },
    {
      "cell_type": "code",
      "source": [
        "4354564574564564363563%2 "
      ],
      "metadata": {
        "id": "roLv99RZxLH7",
        "outputId": "12f81b59-8ae8-4d27-e118-20b9c5435cbc",
        "colab": {
          "base_uri": "https://localhost:8080/"
        }
      },
      "execution_count": null,
      "outputs": [
        {
          "output_type": "execute_result",
          "data": {
            "text/plain": [
              "1"
            ]
          },
          "metadata": {},
          "execution_count": 43
        }
      ]
    },
    {
      "cell_type": "code",
      "source": [
        "20%12"
      ],
      "metadata": {
        "id": "cBVI4QP5xW2k",
        "outputId": "96b46d0c-c3fd-4307-a218-d8301cb96427",
        "colab": {
          "base_uri": "https://localhost:8080/"
        }
      },
      "execution_count": null,
      "outputs": [
        {
          "output_type": "execute_result",
          "data": {
            "text/plain": [
              "8"
            ]
          },
          "metadata": {},
          "execution_count": 44
        }
      ]
    },
    {
      "cell_type": "code",
      "source": [
        "14%12"
      ],
      "metadata": {
        "id": "zS7jCyEvxmQ5",
        "outputId": "352bf96e-27f9-4d5b-a860-5e436d907513",
        "colab": {
          "base_uri": "https://localhost:8080/"
        }
      },
      "execution_count": null,
      "outputs": [
        {
          "output_type": "execute_result",
          "data": {
            "text/plain": [
              "2"
            ]
          },
          "metadata": {},
          "execution_count": 45
        }
      ]
    },
    {
      "cell_type": "markdown",
      "source": [
        "El módulo es la forma de computar el residuo de una división, y es una operación muy utilizada diariamente y de forma holística por las personas. ¿Puede dar algunos ejemplos de ella?"
      ],
      "metadata": {
        "id": "Q4s3-n-rIn2z"
      }
    },
    {
      "cell_type": "markdown",
      "source": [
        "### Operaciones lógicas\n",
        "\n",
        "Las operaciones lógicas se caracterizan por arrojar un resultado buleano (True/False) y permiten comparar criterios o definir condiciones a ser utilizadas en un código de programación.\n",
        "\n",
        "* Mayor o menor que: Se utiliza los operadores \"<\", \">\", \"<=\" o \">=\"."
      ],
      "metadata": {
        "id": "1RA8yD3RI38i"
      }
    },
    {
      "cell_type": "code",
      "source": [
        "#Verificar cual variable es mayor a otra\n",
        "print(\"la variable a es: \" + str(a))\n",
        "print(\"la variable b es: \" + str(b))\n",
        "a > b"
      ],
      "metadata": {
        "colab": {
          "base_uri": "https://localhost:8080/"
        },
        "id": "ybbE8VuAJOLD",
        "outputId": "84ea4dec-96ef-4061-9f2e-16d09c574391"
      },
      "execution_count": null,
      "outputs": [
        {
          "output_type": "stream",
          "name": "stdout",
          "text": [
            "la variable a es: 5.4\n",
            "la variable b es: 3.1\n"
          ]
        },
        {
          "output_type": "execute_result",
          "data": {
            "text/plain": [
              "True"
            ]
          },
          "metadata": {},
          "execution_count": 46
        }
      ]
    },
    {
      "cell_type": "code",
      "source": [
        "#Verificar si una variable es menor o igual a otra\n",
        "print(\"la variable c es: \" + str(c))\n",
        "print(\"la variable d es: \" + str(d))\n",
        "d <= c"
      ],
      "metadata": {
        "colab": {
          "base_uri": "https://localhost:8080/"
        },
        "id": "Q6J6WBuUaiBW",
        "outputId": "c46ca2ca-d9a8-4c6e-f1f1-7276e71dd4ae"
      },
      "execution_count": null,
      "outputs": [
        {
          "output_type": "stream",
          "name": "stdout",
          "text": [
            "la variable c es: -10.4\n",
            "la variable d es: 0.57\n"
          ]
        },
        {
          "output_type": "execute_result",
          "data": {
            "text/plain": [
              "False"
            ]
          },
          "metadata": {},
          "execution_count": 47
        }
      ]
    },
    {
      "cell_type": "markdown",
      "source": [
        "* Igualdad: Se utiliza los operadores \"==\" o \"!=\"."
      ],
      "metadata": {
        "id": "tJo_Z4rcbs4z"
      }
    },
    {
      "cell_type": "code",
      "source": [
        "#Definir variable de texto\n",
        "Pais = \"Colombia\"\n",
        "\n",
        "#Verificar que la variable es igual a cierto valor\n",
        "Pais == \"Ecuador\""
      ],
      "metadata": {
        "colab": {
          "base_uri": "https://localhost:8080/"
        },
        "id": "5hxxi5A-bvty",
        "outputId": "6350d786-16b5-4bf3-c610-1e93e9e30da3"
      },
      "execution_count": null,
      "outputs": [
        {
          "output_type": "execute_result",
          "data": {
            "text/plain": [
              "False"
            ]
          },
          "metadata": {},
          "execution_count": 48
        }
      ]
    },
    {
      "cell_type": "code",
      "source": [
        "#Verificar que la variable NO es igual a cierto valor\n",
        "Pais != \"Chile\""
      ],
      "metadata": {
        "colab": {
          "base_uri": "https://localhost:8080/"
        },
        "id": "gBWPxnUucii1",
        "outputId": "d039a152-06f7-47b2-d19a-f0ba4105f291"
      },
      "execution_count": null,
      "outputs": [
        {
          "output_type": "execute_result",
          "data": {
            "text/plain": [
              "True"
            ]
          },
          "metadata": {},
          "execution_count": 37
        }
      ]
    },
    {
      "cell_type": "markdown",
      "source": [
        "OJO: Si yo uso 1 solo = estoy asignado un valor a un objeto, si uso == estoy comparando un objeto a un valor."
      ],
      "metadata": {
        "id": "qN0dKS0Byz8y"
      }
    },
    {
      "cell_type": "markdown",
      "source": [
        "## Objetos\n"
      ],
      "metadata": {
        "id": "kVI_Ahtnfrog"
      }
    },
    {
      "cell_type": "markdown",
      "source": [
        "Los objetos son elementos que agrupan valores, por lo que también se los conoce por el nombre de colecciones. Los principales objetos a revisar por ahora son los siguientes:\n",
        "\n",
        "* Tuplas\n",
        "* Listas\n",
        "* Secuencias\n",
        "* Diccionarios\n",
        "* Conjuntos"
      ],
      "metadata": {
        "id": "oym3BX6hj06U"
      }
    },
    {
      "cell_type": "markdown",
      "source": [
        "### Tuplas\n",
        "\n",
        "Las tuplas son agrupaciones de valores o elementos inmutables, esto es, que una vez que se han creado, ya no es posible modificarlos sino únicamente ejecutar consultas.\n",
        "\n",
        "Una tupla se define mediante el uso de paréntesis, y cada elemento se separa por comas, como se indica a continuación:"
      ],
      "metadata": {
        "id": "Cbnb4EwkiDgz"
      }
    },
    {
      "cell_type": "code",
      "source": [
        "#Crear tupla con informacion de una persona\n",
        "info_JSAD = (\"Juan\",\"Araujo\",\"Casado\",35,1,\"Data Scientist\",10132000)"
      ],
      "metadata": {
        "id": "fqUS17XijBTD"
      },
      "execution_count": null,
      "outputs": []
    },
    {
      "cell_type": "code",
      "source": [
        "info_Alvaro = (\"Alvaro\",\"Vargas\",\"Casado\",52,3,\"Analista de Servicios TI\",14500000)\n",
        "info_Alvaro"
      ],
      "metadata": {
        "id": "1dY5dFeb0Tc8",
        "outputId": "0488cb2a-4692-4bdb-cc58-abc45653489e",
        "colab": {
          "base_uri": "https://localhost:8080/"
        }
      },
      "execution_count": null,
      "outputs": [
        {
          "output_type": "execute_result",
          "data": {
            "text/plain": [
              "('Alvaro', 'Vargas', 'Casado', 52, 3, 'Analista de Servicios TI', 14500000)"
            ]
          },
          "metadata": {},
          "execution_count": 50
        }
      ]
    },
    {
      "cell_type": "code",
      "source": [
        "#Ver el tamaño (o norma) de la tupla\n",
        "len(info_Alvaro)"
      ],
      "metadata": {
        "colab": {
          "base_uri": "https://localhost:8080/"
        },
        "id": "6weVSpbzxCUX",
        "outputId": "6a1495be-5c56-41c0-ddfb-e586647a54da"
      },
      "execution_count": null,
      "outputs": [
        {
          "output_type": "execute_result",
          "data": {
            "text/plain": [
              "7"
            ]
          },
          "metadata": {},
          "execution_count": 51
        }
      ]
    },
    {
      "cell_type": "markdown",
      "source": [
        "Para generar una consulta de un elemento específico de la tupla se utiliza el concepto de indexación, especificando la posición deseada dentro de corchetes."
      ],
      "metadata": {
        "id": "m8oJSQkXxVRV"
      }
    },
    {
      "cell_type": "code",
      "source": [
        "#Ver un elemento específico de la tupla\n",
        "info_Alvaro[5]"
      ],
      "metadata": {
        "colab": {
          "base_uri": "https://localhost:8080/",
          "height": 35
        },
        "id": "rKiKBYnfxQBL",
        "outputId": "ec5e4f1d-6e87-4544-fcf0-03a7277bce70"
      },
      "execution_count": null,
      "outputs": [
        {
          "output_type": "execute_result",
          "data": {
            "text/plain": [
              "'Analista de Servicios TI'"
            ],
            "application/vnd.google.colaboratory.intrinsic+json": {
              "type": "string"
            }
          },
          "metadata": {},
          "execution_count": 52
        }
      ]
    },
    {
      "cell_type": "code",
      "source": [
        "info_Alvaro[0]"
      ],
      "metadata": {
        "id": "QtIdVcNw1vpM",
        "outputId": "c14fd54e-3c86-48cd-c72e-bad5cf193c32",
        "colab": {
          "base_uri": "https://localhost:8080/",
          "height": 35
        }
      },
      "execution_count": null,
      "outputs": [
        {
          "output_type": "execute_result",
          "data": {
            "text/plain": [
              "'Alvaro'"
            ],
            "application/vnd.google.colaboratory.intrinsic+json": {
              "type": "string"
            }
          },
          "metadata": {},
          "execution_count": 53
        }
      ]
    },
    {
      "cell_type": "markdown",
      "source": [
        "Nótese que la posición (o índice) parte desde 0, esto es, el primer elemento tiene un índice de 0, lo cual podemos verificar usando el \"método\" *index*."
      ],
      "metadata": {
        "id": "e3FeMhI-yAIp"
      }
    },
    {
      "cell_type": "markdown",
      "source": [
        "Metodo es específico de un objeto, y una función es gneeral para varios objetos."
      ],
      "metadata": {
        "id": "hsoOiYFQ2R-K"
      }
    },
    {
      "cell_type": "code",
      "source": [
        "info_JSAD.index(\"Juan\")"
      ],
      "metadata": {
        "colab": {
          "base_uri": "https://localhost:8080/"
        },
        "id": "k_tSQJoBySBC",
        "outputId": "ddf1ac04-f9ec-4ab8-8e44-48160b22042d"
      },
      "execution_count": null,
      "outputs": [
        {
          "output_type": "execute_result",
          "data": {
            "text/plain": [
              "0"
            ]
          },
          "metadata": {},
          "execution_count": 41
        }
      ]
    },
    {
      "cell_type": "code",
      "source": [
        "info_Alvaro.index(\"Vargas\")"
      ],
      "metadata": {
        "id": "kG3fKKF32DKB",
        "outputId": "c2f88d58-3294-4e63-a6da-516f979c5037",
        "colab": {
          "base_uri": "https://localhost:8080/"
        }
      },
      "execution_count": null,
      "outputs": [
        {
          "output_type": "execute_result",
          "data": {
            "text/plain": [
              "1"
            ]
          },
          "metadata": {},
          "execution_count": 54
        }
      ]
    },
    {
      "cell_type": "markdown",
      "source": [
        "Ahora bien, es posible verificar que en efecto, una tupla tiene elementos inmutables. Para probar esto, se intentará modificar el primer valor."
      ],
      "metadata": {
        "id": "zmKv92fn6Uzz"
      }
    },
    {
      "cell_type": "code",
      "source": [
        "info_Alvaro[1] = \"Fernandez\""
      ],
      "metadata": {
        "id": "cJpTWNAA2yc-",
        "outputId": "8db9a2e4-96de-438f-cf81-1c0787c37fad",
        "colab": {
          "base_uri": "https://localhost:8080/",
          "height": 165
        }
      },
      "execution_count": null,
      "outputs": [
        {
          "output_type": "error",
          "ename": "TypeError",
          "evalue": "ignored",
          "traceback": [
            "\u001b[0;31m---------------------------------------------------------------------------\u001b[0m",
            "\u001b[0;31mTypeError\u001b[0m                                 Traceback (most recent call last)",
            "\u001b[0;32m<ipython-input-55-5f91f3fd7ead>\u001b[0m in \u001b[0;36m<module>\u001b[0;34m()\u001b[0m\n\u001b[0;32m----> 1\u001b[0;31m \u001b[0minfo_Alvaro\u001b[0m\u001b[0;34m[\u001b[0m\u001b[0;36m1\u001b[0m\u001b[0;34m]\u001b[0m \u001b[0;34m=\u001b[0m \u001b[0;34m\"Fernandez\"\u001b[0m\u001b[0;34m\u001b[0m\u001b[0;34m\u001b[0m\u001b[0m\n\u001b[0m",
            "\u001b[0;31mTypeError\u001b[0m: 'tuple' object does not support item assignment"
          ]
        }
      ]
    },
    {
      "cell_type": "code",
      "source": [
        "info_JSAD[0] = \"Sebastian\""
      ],
      "metadata": {
        "colab": {
          "base_uri": "https://localhost:8080/",
          "height": 165
        },
        "id": "OvS7ebQc5Mkr",
        "outputId": "cb3adfc9-f9aa-4bda-c08b-f017395d3d65"
      },
      "execution_count": null,
      "outputs": [
        {
          "output_type": "error",
          "ename": "TypeError",
          "evalue": "ignored",
          "traceback": [
            "\u001b[0;31m---------------------------------------------------------------------------\u001b[0m",
            "\u001b[0;31mTypeError\u001b[0m                                 Traceback (most recent call last)",
            "\u001b[0;32m<ipython-input-42-9b6aa9913b84>\u001b[0m in \u001b[0;36m<module>\u001b[0;34m()\u001b[0m\n\u001b[0;32m----> 1\u001b[0;31m \u001b[0minfo_JSAD\u001b[0m\u001b[0;34m[\u001b[0m\u001b[0;36m0\u001b[0m\u001b[0;34m]\u001b[0m \u001b[0;34m=\u001b[0m \u001b[0;34m\"Sebastian\"\u001b[0m\u001b[0;34m\u001b[0m\u001b[0;34m\u001b[0m\u001b[0m\n\u001b[0m",
            "\u001b[0;31mTypeError\u001b[0m: 'tuple' object does not support item assignment"
          ]
        }
      ]
    },
    {
      "cell_type": "markdown",
      "source": [
        "### Listas\n",
        "\n",
        "Las listas son objetos similares a las tuplas, solamente que en este caso sus elementos sí son mutables.\n",
        "\n",
        "Para crear una lista se puede utilizar corchetes como se indica a continuación:"
      ],
      "metadata": {
        "id": "sE7jAjrRyjYS"
      }
    },
    {
      "cell_type": "code",
      "source": [
        "#Crear lista de compras del supermercado\n",
        "compras = [\"pan\",\"leche\",\"huevos\",\"agua\",\"servilletas\"]"
      ],
      "metadata": {
        "id": "R-MHWenb5fTv"
      },
      "execution_count": 1,
      "outputs": []
    },
    {
      "cell_type": "code",
      "source": [
        "print(compras)\n",
        "print(type(compras))"
      ],
      "metadata": {
        "id": "0MYnY43wXQmd",
        "outputId": "84fd1f7c-3635-4119-cf9b-f9c63a2b0f61",
        "colab": {
          "base_uri": "https://localhost:8080/"
        }
      },
      "execution_count": 3,
      "outputs": [
        {
          "output_type": "stream",
          "name": "stdout",
          "text": [
            "['pan', 'leche', 'huevos', 'agua', 'servilletas']\n",
            "<class 'list'>\n"
          ]
        }
      ]
    },
    {
      "cell_type": "code",
      "source": [
        "#Ver tamaño (o norma) de una lista\n",
        "len(compras)"
      ],
      "metadata": {
        "colab": {
          "base_uri": "https://localhost:8080/"
        },
        "id": "iptApKWt5_d3",
        "outputId": "4ab7486b-4233-4903-97b8-f01bdad4d846"
      },
      "execution_count": 4,
      "outputs": [
        {
          "output_type": "execute_result",
          "data": {
            "text/plain": [
              "5"
            ]
          },
          "metadata": {},
          "execution_count": 4
        }
      ]
    },
    {
      "cell_type": "code",
      "source": [
        "#Ver un elemento específico de la lista\n",
        "compras[4]"
      ],
      "metadata": {
        "colab": {
          "base_uri": "https://localhost:8080/",
          "height": 35
        },
        "id": "AA9lYUQ_6Rdh",
        "outputId": "acf55167-0b0d-42ec-81bc-3a4abbb678fc"
      },
      "execution_count": 5,
      "outputs": [
        {
          "output_type": "execute_result",
          "data": {
            "text/plain": [
              "'servilletas'"
            ],
            "application/vnd.google.colaboratory.intrinsic+json": {
              "type": "string"
            }
          },
          "metadata": {},
          "execution_count": 5
        }
      ]
    },
    {
      "cell_type": "markdown",
      "source": [
        "Adicional al método *index* ya presentado, en las listas existen los siguientes que se asocian con la propiedad mutable antes referida:  "
      ],
      "metadata": {
        "id": "sO1AQEbQ-YLk"
      }
    },
    {
      "cell_type": "code",
      "source": [
        "#Insertar elementos al final de la lista\n",
        "compras.append(\"carne\")\n",
        "print(compras)"
      ],
      "metadata": {
        "colab": {
          "base_uri": "https://localhost:8080/"
        },
        "id": "TBdyCubr6rxp",
        "outputId": "85fdf55c-3646-4056-acd0-7c73eafd00f4"
      },
      "execution_count": 6,
      "outputs": [
        {
          "output_type": "stream",
          "name": "stdout",
          "text": [
            "['pan', 'leche', 'huevos', 'agua', 'servilletas', 'carne']\n"
          ]
        }
      ]
    },
    {
      "cell_type": "code",
      "source": [
        "compras.append(\"tocino\")"
      ],
      "metadata": {
        "id": "ZcqHk4rOX22i"
      },
      "execution_count": 7,
      "outputs": []
    },
    {
      "cell_type": "code",
      "source": [
        "compras"
      ],
      "metadata": {
        "id": "NAKTFHBdX7NO",
        "outputId": "a1ac696c-a49f-4deb-93f9-406ef0d0f8e6",
        "colab": {
          "base_uri": "https://localhost:8080/"
        }
      },
      "execution_count": 8,
      "outputs": [
        {
          "output_type": "execute_result",
          "data": {
            "text/plain": [
              "['pan', 'leche', 'huevos', 'agua', 'servilletas', 'carne', 'tocino']"
            ]
          },
          "metadata": {},
          "execution_count": 8
        }
      ]
    },
    {
      "cell_type": "code",
      "source": [
        "#Insertar elementos en una posicion específica de la lista\n",
        "compras.insert(1,\"pollo\")\n",
        "print(compras)"
      ],
      "metadata": {
        "colab": {
          "base_uri": "https://localhost:8080/"
        },
        "id": "TvHBz4Ca_Cen",
        "outputId": "c7ce6f96-6435-4200-c72a-3be6159093d8"
      },
      "execution_count": 9,
      "outputs": [
        {
          "output_type": "stream",
          "name": "stdout",
          "text": [
            "['pan', 'pollo', 'leche', 'huevos', 'agua', 'servilletas', 'carne', 'tocino']\n"
          ]
        }
      ]
    },
    {
      "cell_type": "code",
      "source": [
        "#Combinar con otra lista\n",
        "frutas = [\"manzana\",\"piña\",\"banana\"]\n",
        "compras.extend(frutas)\n",
        "print(compras)"
      ],
      "metadata": {
        "colab": {
          "base_uri": "https://localhost:8080/"
        },
        "id": "mL2N7sXM_Twd",
        "outputId": "61f29f15-f186-43d2-9f3b-fc56e7512d27"
      },
      "execution_count": 10,
      "outputs": [
        {
          "output_type": "stream",
          "name": "stdout",
          "text": [
            "['pan', 'pollo', 'leche', 'huevos', 'agua', 'servilletas', 'carne', 'tocino', 'manzana', 'piña', 'banana']\n"
          ]
        }
      ]
    },
    {
      "cell_type": "code",
      "source": [
        "#Eliminar elementos de una lista\n",
        "compras.remove(\"leche\")\n",
        "print(compras)"
      ],
      "metadata": {
        "colab": {
          "base_uri": "https://localhost:8080/"
        },
        "id": "2WgGn8Qc_p6U",
        "outputId": "91f37403-f6e0-4bb5-bf95-0e0c2ff4a5d4"
      },
      "execution_count": 11,
      "outputs": [
        {
          "output_type": "stream",
          "name": "stdout",
          "text": [
            "['pan', 'pollo', 'huevos', 'agua', 'servilletas', 'carne', 'tocino', 'manzana', 'piña', 'banana']\n"
          ]
        }
      ]
    },
    {
      "cell_type": "code",
      "source": [
        "#Eliminar elementos desde un indice especifico\n",
        "compras.pop(2)\n",
        "print(compras)"
      ],
      "metadata": {
        "colab": {
          "base_uri": "https://localhost:8080/"
        },
        "id": "NC24O3TYAF66",
        "outputId": "05e4e814-a266-4258-d649-e8d65ce9d0b5"
      },
      "execution_count": 12,
      "outputs": [
        {
          "output_type": "stream",
          "name": "stdout",
          "text": [
            "['pan', 'pollo', 'agua', 'servilletas', 'carne', 'tocino', 'manzana', 'piña', 'banana']\n"
          ]
        }
      ]
    },
    {
      "cell_type": "code",
      "source": [
        "#Ordenar los elementos de una lista\n",
        "compras.sort(reverse = True)\n",
        "print(compras)"
      ],
      "metadata": {
        "colab": {
          "base_uri": "https://localhost:8080/"
        },
        "id": "19t0KrrcARXC",
        "outputId": "e2cd3673-aeab-4788-da0b-ccef6c230c11"
      },
      "execution_count": 14,
      "outputs": [
        {
          "output_type": "stream",
          "name": "stdout",
          "text": [
            "['tocino', 'servilletas', 'pollo', 'piña', 'pan', 'manzana', 'carne', 'banana', 'agua']\n"
          ]
        }
      ]
    },
    {
      "cell_type": "code",
      "source": [
        "#Lista de numeros\n",
        "edades = [35,52,42,41,15,33,28]\n",
        "edades"
      ],
      "metadata": {
        "id": "zOXG77ZCZDLw",
        "outputId": "1f2dbd89-1616-4647-f0e5-9a9cc6792838",
        "colab": {
          "base_uri": "https://localhost:8080/"
        }
      },
      "execution_count": 15,
      "outputs": [
        {
          "output_type": "execute_result",
          "data": {
            "text/plain": [
              "[35, 52, 42, 41, 15, 33, 28]"
            ]
          },
          "metadata": {},
          "execution_count": 15
        }
      ]
    },
    {
      "cell_type": "code",
      "source": [
        "edades.sort(reverse = True)\n",
        "edades"
      ],
      "metadata": {
        "id": "gKDx3GkSZTzb",
        "outputId": "36e9e133-9600-498d-cab9-d598ac539102",
        "colab": {
          "base_uri": "https://localhost:8080/"
        }
      },
      "execution_count": 18,
      "outputs": [
        {
          "output_type": "execute_result",
          "data": {
            "text/plain": [
              "[52, 42, 41, 35, 33, 28, 15]"
            ]
          },
          "metadata": {},
          "execution_count": 18
        }
      ]
    },
    {
      "cell_type": "markdown",
      "source": [
        "### Indexación en listas y Python Comprehension\n",
        "\n",
        "La indexación de listas es más completa cuando se trata de listas, la misma que involucra no solamente la extracción de elementos específicos, sino también la generación de subconjuntos de elementos (también llamados \"recortes\"). Para hacerlo considerar las siguientes líneas de código:"
      ],
      "metadata": {
        "id": "dzse7-zEA6Og"
      }
    },
    {
      "cell_type": "code",
      "source": [
        "#Crear una lista con números seleccionados al azar\n",
        "numeros = [-1.0,0.88,-3.4,5.56,8.6]\n",
        "\n",
        "#Ordenar la lista\n",
        "numeros.sort(reverse = False)\n",
        "\n",
        "print(numeros)"
      ],
      "metadata": {
        "colab": {
          "base_uri": "https://localhost:8080/"
        },
        "id": "NLrIgSj4BLsp",
        "outputId": "47930e9b-5221-4b3b-f3c5-81d33855ec9e"
      },
      "execution_count": 19,
      "outputs": [
        {
          "output_type": "stream",
          "name": "stdout",
          "text": [
            "[-3.4, -1.0, 0.88, 5.56, 8.6]\n"
          ]
        }
      ]
    },
    {
      "cell_type": "code",
      "source": [
        "#Subconjunto con los 3 primeros elementos de la lista\n",
        "numeros[0:3]"
      ],
      "metadata": {
        "colab": {
          "base_uri": "https://localhost:8080/"
        },
        "id": "frc9XUhmCF_5",
        "outputId": "d3da443d-7d94-4ff5-8364-bef0910a85b4"
      },
      "execution_count": 20,
      "outputs": [
        {
          "output_type": "execute_result",
          "data": {
            "text/plain": [
              "[-3.4, -1.0, 0.88]"
            ]
          },
          "metadata": {},
          "execution_count": 20
        }
      ]
    },
    {
      "cell_type": "code",
      "source": [
        "#Otra forma\n",
        "numeros[:3]"
      ],
      "metadata": {
        "colab": {
          "base_uri": "https://localhost:8080/"
        },
        "id": "Zrpw3sB2CxVQ",
        "outputId": "4981d711-7a25-49cf-ae73-860bfff485ae"
      },
      "execution_count": 21,
      "outputs": [
        {
          "output_type": "execute_result",
          "data": {
            "text/plain": [
              "[-3.4, -1.0, 0.88]"
            ]
          },
          "metadata": {},
          "execution_count": 21
        }
      ]
    },
    {
      "cell_type": "code",
      "source": [
        "#Otra forma, pero ahora excluyendo a los dos ultimos valores\n",
        "numeros[:-2]"
      ],
      "metadata": {
        "colab": {
          "base_uri": "https://localhost:8080/"
        },
        "id": "vODmdIWkCjSY",
        "outputId": "f7f8ba2e-bd03-4343-c3d0-b254d8dd5afa"
      },
      "execution_count": 22,
      "outputs": [
        {
          "output_type": "execute_result",
          "data": {
            "text/plain": [
              "[-3.4, -1.0, 0.88]"
            ]
          },
          "metadata": {},
          "execution_count": 22
        }
      ]
    },
    {
      "cell_type": "code",
      "source": [
        "#Seleccionar los números en posiciones impares\n",
        "numeros[0::2]"
      ],
      "metadata": {
        "colab": {
          "base_uri": "https://localhost:8080/"
        },
        "id": "ntclB3hGDhif",
        "outputId": "d50e68ff-3809-4a89-cbe5-984b42849509"
      },
      "execution_count": 23,
      "outputs": [
        {
          "output_type": "execute_result",
          "data": {
            "text/plain": [
              "[-3.4, 0.88, 8.6]"
            ]
          },
          "metadata": {},
          "execution_count": 23
        }
      ]
    },
    {
      "cell_type": "code",
      "source": [
        "#Seleccionar los numeros en posiciones pares\n",
        "numeros[1::2]"
      ],
      "metadata": {
        "colab": {
          "base_uri": "https://localhost:8080/"
        },
        "id": "5INhgtnzDyUt",
        "outputId": "6627f1be-378c-42a4-fc60-0b3bf732fe8d"
      },
      "execution_count": 24,
      "outputs": [
        {
          "output_type": "execute_result",
          "data": {
            "text/plain": [
              "[-1.0, 5.56]"
            ]
          },
          "metadata": {},
          "execution_count": 24
        }
      ]
    },
    {
      "cell_type": "markdown",
      "source": [
        "En general podemos definir a la indexación en listas conforme la siguiente expresión:\n",
        "\n",
        "\n",
        "$$ lista[posicion_{inicial}:posicion_{final} + 1:pasos]$$"
      ],
      "metadata": {
        "id": "r1lFZG9wFByc"
      }
    },
    {
      "cell_type": "code",
      "source": [
        "compras"
      ],
      "metadata": {
        "id": "IeD61OxTbiSf",
        "outputId": "f188e0c5-3abe-421d-c514-4f5927818369",
        "colab": {
          "base_uri": "https://localhost:8080/"
        }
      },
      "execution_count": 25,
      "outputs": [
        {
          "output_type": "execute_result",
          "data": {
            "text/plain": [
              "['tocino',\n",
              " 'servilletas',\n",
              " 'pollo',\n",
              " 'piña',\n",
              " 'pan',\n",
              " 'manzana',\n",
              " 'carne',\n",
              " 'banana',\n",
              " 'agua']"
            ]
          },
          "metadata": {},
          "execution_count": 25
        }
      ]
    },
    {
      "cell_type": "code",
      "source": [
        "#Extraer los elementos de compras que están entre la posición \"python\" 3 y la 5\n",
        "compras[3:6]"
      ],
      "metadata": {
        "id": "jGI7tpn-bMMu",
        "outputId": "e7a1171d-043c-46c8-e934-729b76101028",
        "colab": {
          "base_uri": "https://localhost:8080/"
        }
      },
      "execution_count": 27,
      "outputs": [
        {
          "output_type": "execute_result",
          "data": {
            "text/plain": [
              "['piña', 'pan', 'manzana']"
            ]
          },
          "metadata": {},
          "execution_count": 27
        }
      ]
    },
    {
      "cell_type": "code",
      "source": [
        "#Extraer los elementos de compras que están entre la posición semántica 3 y la 5\n",
        "compras[2:5]"
      ],
      "metadata": {
        "id": "lSVPUKhIcXbG",
        "outputId": "8041451b-83f2-4ac6-c76c-06727caef305",
        "colab": {
          "base_uri": "https://localhost:8080/"
        }
      },
      "execution_count": 28,
      "outputs": [
        {
          "output_type": "execute_result",
          "data": {
            "text/plain": [
              "['pollo', 'piña', 'pan']"
            ]
          },
          "metadata": {},
          "execution_count": 28
        }
      ]
    },
    {
      "cell_type": "markdown",
      "source": [
        "De igual manera, para indexar es factible utilizar reglas lógicas mediante expresiones como las siguientes:"
      ],
      "metadata": {
        "id": "sDm22zSpFlDP"
      }
    },
    {
      "cell_type": "code",
      "source": [
        "numeros"
      ],
      "metadata": {
        "id": "oPo4A1D1d5kN",
        "outputId": "733bdbf3-7b8d-4632-8843-5c3888205ebe",
        "colab": {
          "base_uri": "https://localhost:8080/"
        }
      },
      "execution_count": 29,
      "outputs": [
        {
          "output_type": "execute_result",
          "data": {
            "text/plain": [
              "[-3.4, -1.0, 0.88, 5.56, 8.6]"
            ]
          },
          "metadata": {},
          "execution_count": 29
        }
      ]
    },
    {
      "cell_type": "code",
      "source": [
        "#Seleccionar solo los números positivos de la lista\n",
        "[x for x in numeros if x > 0]"
      ],
      "metadata": {
        "colab": {
          "base_uri": "https://localhost:8080/"
        },
        "id": "1aUR1mjgD45r",
        "outputId": "a471dd94-5d03-46fb-b292-1489fe64d29a"
      },
      "execution_count": 30,
      "outputs": [
        {
          "output_type": "execute_result",
          "data": {
            "text/plain": [
              "[0.88, 5.56, 8.6]"
            ]
          },
          "metadata": {},
          "execution_count": 30
        }
      ]
    },
    {
      "cell_type": "code",
      "source": [
        "#Seleccionar solamente los numeros pares en una lista de números del 1 al 10\n",
        "numeros_2 = [1,2,3,4,5,6,7,8,9,10] \n",
        "\n",
        "#Usar la operación de modularización\n",
        "[num for num in numeros_2 if num%2 == 0]"
      ],
      "metadata": {
        "colab": {
          "base_uri": "https://localhost:8080/"
        },
        "id": "XNE2xmL4F65E",
        "outputId": "38564091-0436-45d1-bd8b-2c4c918d9980"
      },
      "execution_count": 31,
      "outputs": [
        {
          "output_type": "execute_result",
          "data": {
            "text/plain": [
              "[2, 4, 6, 8, 10]"
            ]
          },
          "metadata": {},
          "execution_count": 31
        }
      ]
    },
    {
      "cell_type": "markdown",
      "source": [
        "Esta forma de indexar y operar con listas se denomina **Python comprehension** y se la irá utilizando más adelante a fin de seguir practicando, pero por ahora se plantean un ejemplo adicional: "
      ],
      "metadata": {
        "id": "S7a4dEm5HBm0"
      }
    },
    {
      "cell_type": "code",
      "source": [
        "#Elevar al cuadrado los numeros impares y dividir por 2 los números pares de la lista numeros_2\n",
        "[v**2 if v%2 == 1 else v/2 for v in numeros_2]"
      ],
      "metadata": {
        "colab": {
          "base_uri": "https://localhost:8080/"
        },
        "id": "xuVIlH7UH31J",
        "outputId": "79df91b4-6e32-4ad7-b3c8-accfd08d8ca6"
      },
      "execution_count": 32,
      "outputs": [
        {
          "output_type": "execute_result",
          "data": {
            "text/plain": [
              "[1, 1.0, 9, 2.0, 25, 3.0, 49, 4.0, 81, 5.0]"
            ]
          },
          "metadata": {},
          "execution_count": 32
        }
      ]
    },
    {
      "cell_type": "markdown",
      "source": [
        "### Secuencias\n",
        "\n",
        "Las secuencias son conjuntos de valores no materializables, es decir, contienen elementos que no pueden ser operados como en las listas, pero que permiten una referenciación (similar a una indexación).\n",
        "\n",
        "Su forma más usual de construcción se da de acuerdo a la siguiente expresión:\n",
        "\n",
        "$$ secuencia = range(Valor_{inicial},Valor_{final},paso)$$"
      ],
      "metadata": {
        "id": "csgvHFh-I95h"
      }
    },
    {
      "cell_type": "code",
      "source": [
        "#La lista es materailizable\n",
        "numeros_2"
      ],
      "metadata": {
        "id": "p_kt1SDZfq8F",
        "outputId": "17082a2d-ea89-4baa-dbac-5f425d67b1a6",
        "colab": {
          "base_uri": "https://localhost:8080/"
        }
      },
      "execution_count": 33,
      "outputs": [
        {
          "output_type": "execute_result",
          "data": {
            "text/plain": [
              "[1, 2, 3, 4, 5, 6, 7, 8, 9, 10]"
            ]
          },
          "metadata": {},
          "execution_count": 33
        }
      ]
    },
    {
      "cell_type": "code",
      "source": [
        "#Definir una secuencia de valores\n",
        "secuencia = range(0,20,2)"
      ],
      "metadata": {
        "id": "47zAqZbAJQmD"
      },
      "execution_count": 34,
      "outputs": []
    },
    {
      "cell_type": "code",
      "source": [
        "#Imprimir la secuencia para comprender el concepto de \"no materializable\"\n",
        "print(secuencia)"
      ],
      "metadata": {
        "colab": {
          "base_uri": "https://localhost:8080/"
        },
        "id": "6WNLrhS4wv6j",
        "outputId": "5b043853-4065-4bc8-ba26-971b1d3ab531"
      },
      "execution_count": 35,
      "outputs": [
        {
          "output_type": "stream",
          "name": "stdout",
          "text": [
            "range(0, 20, 2)\n"
          ]
        }
      ]
    },
    {
      "cell_type": "code",
      "source": [
        "#Tamaño (o norma) del rango\n",
        "len(secuencia)"
      ],
      "metadata": {
        "colab": {
          "base_uri": "https://localhost:8080/"
        },
        "id": "QohKJIbsxJ1j",
        "outputId": "a545122f-80e1-4e1d-c3a1-9481806bade0"
      },
      "execution_count": 36,
      "outputs": [
        {
          "output_type": "execute_result",
          "data": {
            "text/plain": [
              "10"
            ]
          },
          "metadata": {},
          "execution_count": 36
        }
      ]
    },
    {
      "cell_type": "markdown",
      "source": [
        "Una secuencia puede convertirse en una lista utilizando la funcion *list*."
      ],
      "metadata": {
        "id": "1I3j4b3Qx7Iu"
      }
    },
    {
      "cell_type": "code",
      "source": [
        "list(secuencia)"
      ],
      "metadata": {
        "colab": {
          "base_uri": "https://localhost:8080/"
        },
        "id": "YMseCUSixbbe",
        "outputId": "8a22fd3d-528f-49a1-c30f-de8ad03a549b"
      },
      "execution_count": 37,
      "outputs": [
        {
          "output_type": "execute_result",
          "data": {
            "text/plain": [
              "[0, 2, 4, 6, 8, 10, 12, 14, 16, 18]"
            ]
          },
          "metadata": {},
          "execution_count": 37
        }
      ]
    },
    {
      "cell_type": "code",
      "source": [
        "#Construir una lista con los primeros 1000 numeros enteros positivos\n",
        "#lista_1000 = [1,2,3,4,5,6,7,8,9,10,11,...]\n",
        "lista_1000 = list(range(1,1000,1))\n",
        "lista_1000"
      ],
      "metadata": {
        "id": "ZyAsUXtHgcWG",
        "outputId": "3882269b-ba78-44a5-d7e9-2d84c3a61388",
        "colab": {
          "base_uri": "https://localhost:8080/"
        }
      },
      "execution_count": 40,
      "outputs": [
        {
          "output_type": "execute_result",
          "data": {
            "text/plain": [
              "[1,\n",
              " 2,\n",
              " 3,\n",
              " 4,\n",
              " 5,\n",
              " 6,\n",
              " 7,\n",
              " 8,\n",
              " 9,\n",
              " 10,\n",
              " 11,\n",
              " 12,\n",
              " 13,\n",
              " 14,\n",
              " 15,\n",
              " 16,\n",
              " 17,\n",
              " 18,\n",
              " 19,\n",
              " 20,\n",
              " 21,\n",
              " 22,\n",
              " 23,\n",
              " 24,\n",
              " 25,\n",
              " 26,\n",
              " 27,\n",
              " 28,\n",
              " 29,\n",
              " 30,\n",
              " 31,\n",
              " 32,\n",
              " 33,\n",
              " 34,\n",
              " 35,\n",
              " 36,\n",
              " 37,\n",
              " 38,\n",
              " 39,\n",
              " 40,\n",
              " 41,\n",
              " 42,\n",
              " 43,\n",
              " 44,\n",
              " 45,\n",
              " 46,\n",
              " 47,\n",
              " 48,\n",
              " 49,\n",
              " 50,\n",
              " 51,\n",
              " 52,\n",
              " 53,\n",
              " 54,\n",
              " 55,\n",
              " 56,\n",
              " 57,\n",
              " 58,\n",
              " 59,\n",
              " 60,\n",
              " 61,\n",
              " 62,\n",
              " 63,\n",
              " 64,\n",
              " 65,\n",
              " 66,\n",
              " 67,\n",
              " 68,\n",
              " 69,\n",
              " 70,\n",
              " 71,\n",
              " 72,\n",
              " 73,\n",
              " 74,\n",
              " 75,\n",
              " 76,\n",
              " 77,\n",
              " 78,\n",
              " 79,\n",
              " 80,\n",
              " 81,\n",
              " 82,\n",
              " 83,\n",
              " 84,\n",
              " 85,\n",
              " 86,\n",
              " 87,\n",
              " 88,\n",
              " 89,\n",
              " 90,\n",
              " 91,\n",
              " 92,\n",
              " 93,\n",
              " 94,\n",
              " 95,\n",
              " 96,\n",
              " 97,\n",
              " 98,\n",
              " 99,\n",
              " 100,\n",
              " 101,\n",
              " 102,\n",
              " 103,\n",
              " 104,\n",
              " 105,\n",
              " 106,\n",
              " 107,\n",
              " 108,\n",
              " 109,\n",
              " 110,\n",
              " 111,\n",
              " 112,\n",
              " 113,\n",
              " 114,\n",
              " 115,\n",
              " 116,\n",
              " 117,\n",
              " 118,\n",
              " 119,\n",
              " 120,\n",
              " 121,\n",
              " 122,\n",
              " 123,\n",
              " 124,\n",
              " 125,\n",
              " 126,\n",
              " 127,\n",
              " 128,\n",
              " 129,\n",
              " 130,\n",
              " 131,\n",
              " 132,\n",
              " 133,\n",
              " 134,\n",
              " 135,\n",
              " 136,\n",
              " 137,\n",
              " 138,\n",
              " 139,\n",
              " 140,\n",
              " 141,\n",
              " 142,\n",
              " 143,\n",
              " 144,\n",
              " 145,\n",
              " 146,\n",
              " 147,\n",
              " 148,\n",
              " 149,\n",
              " 150,\n",
              " 151,\n",
              " 152,\n",
              " 153,\n",
              " 154,\n",
              " 155,\n",
              " 156,\n",
              " 157,\n",
              " 158,\n",
              " 159,\n",
              " 160,\n",
              " 161,\n",
              " 162,\n",
              " 163,\n",
              " 164,\n",
              " 165,\n",
              " 166,\n",
              " 167,\n",
              " 168,\n",
              " 169,\n",
              " 170,\n",
              " 171,\n",
              " 172,\n",
              " 173,\n",
              " 174,\n",
              " 175,\n",
              " 176,\n",
              " 177,\n",
              " 178,\n",
              " 179,\n",
              " 180,\n",
              " 181,\n",
              " 182,\n",
              " 183,\n",
              " 184,\n",
              " 185,\n",
              " 186,\n",
              " 187,\n",
              " 188,\n",
              " 189,\n",
              " 190,\n",
              " 191,\n",
              " 192,\n",
              " 193,\n",
              " 194,\n",
              " 195,\n",
              " 196,\n",
              " 197,\n",
              " 198,\n",
              " 199,\n",
              " 200,\n",
              " 201,\n",
              " 202,\n",
              " 203,\n",
              " 204,\n",
              " 205,\n",
              " 206,\n",
              " 207,\n",
              " 208,\n",
              " 209,\n",
              " 210,\n",
              " 211,\n",
              " 212,\n",
              " 213,\n",
              " 214,\n",
              " 215,\n",
              " 216,\n",
              " 217,\n",
              " 218,\n",
              " 219,\n",
              " 220,\n",
              " 221,\n",
              " 222,\n",
              " 223,\n",
              " 224,\n",
              " 225,\n",
              " 226,\n",
              " 227,\n",
              " 228,\n",
              " 229,\n",
              " 230,\n",
              " 231,\n",
              " 232,\n",
              " 233,\n",
              " 234,\n",
              " 235,\n",
              " 236,\n",
              " 237,\n",
              " 238,\n",
              " 239,\n",
              " 240,\n",
              " 241,\n",
              " 242,\n",
              " 243,\n",
              " 244,\n",
              " 245,\n",
              " 246,\n",
              " 247,\n",
              " 248,\n",
              " 249,\n",
              " 250,\n",
              " 251,\n",
              " 252,\n",
              " 253,\n",
              " 254,\n",
              " 255,\n",
              " 256,\n",
              " 257,\n",
              " 258,\n",
              " 259,\n",
              " 260,\n",
              " 261,\n",
              " 262,\n",
              " 263,\n",
              " 264,\n",
              " 265,\n",
              " 266,\n",
              " 267,\n",
              " 268,\n",
              " 269,\n",
              " 270,\n",
              " 271,\n",
              " 272,\n",
              " 273,\n",
              " 274,\n",
              " 275,\n",
              " 276,\n",
              " 277,\n",
              " 278,\n",
              " 279,\n",
              " 280,\n",
              " 281,\n",
              " 282,\n",
              " 283,\n",
              " 284,\n",
              " 285,\n",
              " 286,\n",
              " 287,\n",
              " 288,\n",
              " 289,\n",
              " 290,\n",
              " 291,\n",
              " 292,\n",
              " 293,\n",
              " 294,\n",
              " 295,\n",
              " 296,\n",
              " 297,\n",
              " 298,\n",
              " 299,\n",
              " 300,\n",
              " 301,\n",
              " 302,\n",
              " 303,\n",
              " 304,\n",
              " 305,\n",
              " 306,\n",
              " 307,\n",
              " 308,\n",
              " 309,\n",
              " 310,\n",
              " 311,\n",
              " 312,\n",
              " 313,\n",
              " 314,\n",
              " 315,\n",
              " 316,\n",
              " 317,\n",
              " 318,\n",
              " 319,\n",
              " 320,\n",
              " 321,\n",
              " 322,\n",
              " 323,\n",
              " 324,\n",
              " 325,\n",
              " 326,\n",
              " 327,\n",
              " 328,\n",
              " 329,\n",
              " 330,\n",
              " 331,\n",
              " 332,\n",
              " 333,\n",
              " 334,\n",
              " 335,\n",
              " 336,\n",
              " 337,\n",
              " 338,\n",
              " 339,\n",
              " 340,\n",
              " 341,\n",
              " 342,\n",
              " 343,\n",
              " 344,\n",
              " 345,\n",
              " 346,\n",
              " 347,\n",
              " 348,\n",
              " 349,\n",
              " 350,\n",
              " 351,\n",
              " 352,\n",
              " 353,\n",
              " 354,\n",
              " 355,\n",
              " 356,\n",
              " 357,\n",
              " 358,\n",
              " 359,\n",
              " 360,\n",
              " 361,\n",
              " 362,\n",
              " 363,\n",
              " 364,\n",
              " 365,\n",
              " 366,\n",
              " 367,\n",
              " 368,\n",
              " 369,\n",
              " 370,\n",
              " 371,\n",
              " 372,\n",
              " 373,\n",
              " 374,\n",
              " 375,\n",
              " 376,\n",
              " 377,\n",
              " 378,\n",
              " 379,\n",
              " 380,\n",
              " 381,\n",
              " 382,\n",
              " 383,\n",
              " 384,\n",
              " 385,\n",
              " 386,\n",
              " 387,\n",
              " 388,\n",
              " 389,\n",
              " 390,\n",
              " 391,\n",
              " 392,\n",
              " 393,\n",
              " 394,\n",
              " 395,\n",
              " 396,\n",
              " 397,\n",
              " 398,\n",
              " 399,\n",
              " 400,\n",
              " 401,\n",
              " 402,\n",
              " 403,\n",
              " 404,\n",
              " 405,\n",
              " 406,\n",
              " 407,\n",
              " 408,\n",
              " 409,\n",
              " 410,\n",
              " 411,\n",
              " 412,\n",
              " 413,\n",
              " 414,\n",
              " 415,\n",
              " 416,\n",
              " 417,\n",
              " 418,\n",
              " 419,\n",
              " 420,\n",
              " 421,\n",
              " 422,\n",
              " 423,\n",
              " 424,\n",
              " 425,\n",
              " 426,\n",
              " 427,\n",
              " 428,\n",
              " 429,\n",
              " 430,\n",
              " 431,\n",
              " 432,\n",
              " 433,\n",
              " 434,\n",
              " 435,\n",
              " 436,\n",
              " 437,\n",
              " 438,\n",
              " 439,\n",
              " 440,\n",
              " 441,\n",
              " 442,\n",
              " 443,\n",
              " 444,\n",
              " 445,\n",
              " 446,\n",
              " 447,\n",
              " 448,\n",
              " 449,\n",
              " 450,\n",
              " 451,\n",
              " 452,\n",
              " 453,\n",
              " 454,\n",
              " 455,\n",
              " 456,\n",
              " 457,\n",
              " 458,\n",
              " 459,\n",
              " 460,\n",
              " 461,\n",
              " 462,\n",
              " 463,\n",
              " 464,\n",
              " 465,\n",
              " 466,\n",
              " 467,\n",
              " 468,\n",
              " 469,\n",
              " 470,\n",
              " 471,\n",
              " 472,\n",
              " 473,\n",
              " 474,\n",
              " 475,\n",
              " 476,\n",
              " 477,\n",
              " 478,\n",
              " 479,\n",
              " 480,\n",
              " 481,\n",
              " 482,\n",
              " 483,\n",
              " 484,\n",
              " 485,\n",
              " 486,\n",
              " 487,\n",
              " 488,\n",
              " 489,\n",
              " 490,\n",
              " 491,\n",
              " 492,\n",
              " 493,\n",
              " 494,\n",
              " 495,\n",
              " 496,\n",
              " 497,\n",
              " 498,\n",
              " 499,\n",
              " 500,\n",
              " 501,\n",
              " 502,\n",
              " 503,\n",
              " 504,\n",
              " 505,\n",
              " 506,\n",
              " 507,\n",
              " 508,\n",
              " 509,\n",
              " 510,\n",
              " 511,\n",
              " 512,\n",
              " 513,\n",
              " 514,\n",
              " 515,\n",
              " 516,\n",
              " 517,\n",
              " 518,\n",
              " 519,\n",
              " 520,\n",
              " 521,\n",
              " 522,\n",
              " 523,\n",
              " 524,\n",
              " 525,\n",
              " 526,\n",
              " 527,\n",
              " 528,\n",
              " 529,\n",
              " 530,\n",
              " 531,\n",
              " 532,\n",
              " 533,\n",
              " 534,\n",
              " 535,\n",
              " 536,\n",
              " 537,\n",
              " 538,\n",
              " 539,\n",
              " 540,\n",
              " 541,\n",
              " 542,\n",
              " 543,\n",
              " 544,\n",
              " 545,\n",
              " 546,\n",
              " 547,\n",
              " 548,\n",
              " 549,\n",
              " 550,\n",
              " 551,\n",
              " 552,\n",
              " 553,\n",
              " 554,\n",
              " 555,\n",
              " 556,\n",
              " 557,\n",
              " 558,\n",
              " 559,\n",
              " 560,\n",
              " 561,\n",
              " 562,\n",
              " 563,\n",
              " 564,\n",
              " 565,\n",
              " 566,\n",
              " 567,\n",
              " 568,\n",
              " 569,\n",
              " 570,\n",
              " 571,\n",
              " 572,\n",
              " 573,\n",
              " 574,\n",
              " 575,\n",
              " 576,\n",
              " 577,\n",
              " 578,\n",
              " 579,\n",
              " 580,\n",
              " 581,\n",
              " 582,\n",
              " 583,\n",
              " 584,\n",
              " 585,\n",
              " 586,\n",
              " 587,\n",
              " 588,\n",
              " 589,\n",
              " 590,\n",
              " 591,\n",
              " 592,\n",
              " 593,\n",
              " 594,\n",
              " 595,\n",
              " 596,\n",
              " 597,\n",
              " 598,\n",
              " 599,\n",
              " 600,\n",
              " 601,\n",
              " 602,\n",
              " 603,\n",
              " 604,\n",
              " 605,\n",
              " 606,\n",
              " 607,\n",
              " 608,\n",
              " 609,\n",
              " 610,\n",
              " 611,\n",
              " 612,\n",
              " 613,\n",
              " 614,\n",
              " 615,\n",
              " 616,\n",
              " 617,\n",
              " 618,\n",
              " 619,\n",
              " 620,\n",
              " 621,\n",
              " 622,\n",
              " 623,\n",
              " 624,\n",
              " 625,\n",
              " 626,\n",
              " 627,\n",
              " 628,\n",
              " 629,\n",
              " 630,\n",
              " 631,\n",
              " 632,\n",
              " 633,\n",
              " 634,\n",
              " 635,\n",
              " 636,\n",
              " 637,\n",
              " 638,\n",
              " 639,\n",
              " 640,\n",
              " 641,\n",
              " 642,\n",
              " 643,\n",
              " 644,\n",
              " 645,\n",
              " 646,\n",
              " 647,\n",
              " 648,\n",
              " 649,\n",
              " 650,\n",
              " 651,\n",
              " 652,\n",
              " 653,\n",
              " 654,\n",
              " 655,\n",
              " 656,\n",
              " 657,\n",
              " 658,\n",
              " 659,\n",
              " 660,\n",
              " 661,\n",
              " 662,\n",
              " 663,\n",
              " 664,\n",
              " 665,\n",
              " 666,\n",
              " 667,\n",
              " 668,\n",
              " 669,\n",
              " 670,\n",
              " 671,\n",
              " 672,\n",
              " 673,\n",
              " 674,\n",
              " 675,\n",
              " 676,\n",
              " 677,\n",
              " 678,\n",
              " 679,\n",
              " 680,\n",
              " 681,\n",
              " 682,\n",
              " 683,\n",
              " 684,\n",
              " 685,\n",
              " 686,\n",
              " 687,\n",
              " 688,\n",
              " 689,\n",
              " 690,\n",
              " 691,\n",
              " 692,\n",
              " 693,\n",
              " 694,\n",
              " 695,\n",
              " 696,\n",
              " 697,\n",
              " 698,\n",
              " 699,\n",
              " 700,\n",
              " 701,\n",
              " 702,\n",
              " 703,\n",
              " 704,\n",
              " 705,\n",
              " 706,\n",
              " 707,\n",
              " 708,\n",
              " 709,\n",
              " 710,\n",
              " 711,\n",
              " 712,\n",
              " 713,\n",
              " 714,\n",
              " 715,\n",
              " 716,\n",
              " 717,\n",
              " 718,\n",
              " 719,\n",
              " 720,\n",
              " 721,\n",
              " 722,\n",
              " 723,\n",
              " 724,\n",
              " 725,\n",
              " 726,\n",
              " 727,\n",
              " 728,\n",
              " 729,\n",
              " 730,\n",
              " 731,\n",
              " 732,\n",
              " 733,\n",
              " 734,\n",
              " 735,\n",
              " 736,\n",
              " 737,\n",
              " 738,\n",
              " 739,\n",
              " 740,\n",
              " 741,\n",
              " 742,\n",
              " 743,\n",
              " 744,\n",
              " 745,\n",
              " 746,\n",
              " 747,\n",
              " 748,\n",
              " 749,\n",
              " 750,\n",
              " 751,\n",
              " 752,\n",
              " 753,\n",
              " 754,\n",
              " 755,\n",
              " 756,\n",
              " 757,\n",
              " 758,\n",
              " 759,\n",
              " 760,\n",
              " 761,\n",
              " 762,\n",
              " 763,\n",
              " 764,\n",
              " 765,\n",
              " 766,\n",
              " 767,\n",
              " 768,\n",
              " 769,\n",
              " 770,\n",
              " 771,\n",
              " 772,\n",
              " 773,\n",
              " 774,\n",
              " 775,\n",
              " 776,\n",
              " 777,\n",
              " 778,\n",
              " 779,\n",
              " 780,\n",
              " 781,\n",
              " 782,\n",
              " 783,\n",
              " 784,\n",
              " 785,\n",
              " 786,\n",
              " 787,\n",
              " 788,\n",
              " 789,\n",
              " 790,\n",
              " 791,\n",
              " 792,\n",
              " 793,\n",
              " 794,\n",
              " 795,\n",
              " 796,\n",
              " 797,\n",
              " 798,\n",
              " 799,\n",
              " 800,\n",
              " 801,\n",
              " 802,\n",
              " 803,\n",
              " 804,\n",
              " 805,\n",
              " 806,\n",
              " 807,\n",
              " 808,\n",
              " 809,\n",
              " 810,\n",
              " 811,\n",
              " 812,\n",
              " 813,\n",
              " 814,\n",
              " 815,\n",
              " 816,\n",
              " 817,\n",
              " 818,\n",
              " 819,\n",
              " 820,\n",
              " 821,\n",
              " 822,\n",
              " 823,\n",
              " 824,\n",
              " 825,\n",
              " 826,\n",
              " 827,\n",
              " 828,\n",
              " 829,\n",
              " 830,\n",
              " 831,\n",
              " 832,\n",
              " 833,\n",
              " 834,\n",
              " 835,\n",
              " 836,\n",
              " 837,\n",
              " 838,\n",
              " 839,\n",
              " 840,\n",
              " 841,\n",
              " 842,\n",
              " 843,\n",
              " 844,\n",
              " 845,\n",
              " 846,\n",
              " 847,\n",
              " 848,\n",
              " 849,\n",
              " 850,\n",
              " 851,\n",
              " 852,\n",
              " 853,\n",
              " 854,\n",
              " 855,\n",
              " 856,\n",
              " 857,\n",
              " 858,\n",
              " 859,\n",
              " 860,\n",
              " 861,\n",
              " 862,\n",
              " 863,\n",
              " 864,\n",
              " 865,\n",
              " 866,\n",
              " 867,\n",
              " 868,\n",
              " 869,\n",
              " 870,\n",
              " 871,\n",
              " 872,\n",
              " 873,\n",
              " 874,\n",
              " 875,\n",
              " 876,\n",
              " 877,\n",
              " 878,\n",
              " 879,\n",
              " 880,\n",
              " 881,\n",
              " 882,\n",
              " 883,\n",
              " 884,\n",
              " 885,\n",
              " 886,\n",
              " 887,\n",
              " 888,\n",
              " 889,\n",
              " 890,\n",
              " 891,\n",
              " 892,\n",
              " 893,\n",
              " 894,\n",
              " 895,\n",
              " 896,\n",
              " 897,\n",
              " 898,\n",
              " 899,\n",
              " 900,\n",
              " 901,\n",
              " 902,\n",
              " 903,\n",
              " 904,\n",
              " 905,\n",
              " 906,\n",
              " 907,\n",
              " 908,\n",
              " 909,\n",
              " 910,\n",
              " 911,\n",
              " 912,\n",
              " 913,\n",
              " 914,\n",
              " 915,\n",
              " 916,\n",
              " 917,\n",
              " 918,\n",
              " 919,\n",
              " 920,\n",
              " 921,\n",
              " 922,\n",
              " 923,\n",
              " 924,\n",
              " 925,\n",
              " 926,\n",
              " 927,\n",
              " 928,\n",
              " 929,\n",
              " 930,\n",
              " 931,\n",
              " 932,\n",
              " 933,\n",
              " 934,\n",
              " 935,\n",
              " 936,\n",
              " 937,\n",
              " 938,\n",
              " 939,\n",
              " 940,\n",
              " 941,\n",
              " 942,\n",
              " 943,\n",
              " 944,\n",
              " 945,\n",
              " 946,\n",
              " 947,\n",
              " 948,\n",
              " 949,\n",
              " 950,\n",
              " 951,\n",
              " 952,\n",
              " 953,\n",
              " 954,\n",
              " 955,\n",
              " 956,\n",
              " 957,\n",
              " 958,\n",
              " 959,\n",
              " 960,\n",
              " 961,\n",
              " 962,\n",
              " 963,\n",
              " 964,\n",
              " 965,\n",
              " 966,\n",
              " 967,\n",
              " 968,\n",
              " 969,\n",
              " 970,\n",
              " 971,\n",
              " 972,\n",
              " 973,\n",
              " 974,\n",
              " 975,\n",
              " 976,\n",
              " 977,\n",
              " 978,\n",
              " 979,\n",
              " 980,\n",
              " 981,\n",
              " 982,\n",
              " 983,\n",
              " 984,\n",
              " 985,\n",
              " 986,\n",
              " 987,\n",
              " 988,\n",
              " 989,\n",
              " 990,\n",
              " 991,\n",
              " 992,\n",
              " 993,\n",
              " 994,\n",
              " 995,\n",
              " 996,\n",
              " 997,\n",
              " 998,\n",
              " 999]"
            ]
          },
          "metadata": {},
          "execution_count": 40
        }
      ]
    },
    {
      "cell_type": "markdown",
      "source": [
        "Otra forma de crear \"secuencias\" es mediante el agrupamiento de elementos con la función *zip*, de tal forma que:\n",
        "\n",
        "$$ secuencia = zip(Lista_1, Lista_2) $$"
      ],
      "metadata": {
        "id": "cJ76xVhpyLGD"
      }
    },
    {
      "cell_type": "code",
      "source": [
        "#Crear listas con los nombres y la edad de una familia\n",
        "nombre = [\"Juan\",\"Nicole\",\"Cayetana\"]\n",
        "edad = [35,33,8]"
      ],
      "metadata": {
        "id": "1uNkH4S1yWDg"
      },
      "execution_count": 46,
      "outputs": []
    },
    {
      "cell_type": "code",
      "source": [
        "#Utilizar zip para combinar las listas\n",
        "familia = zip(nombre,edad)\n",
        "familia"
      ],
      "metadata": {
        "id": "7RMINiKYylGL",
        "colab": {
          "base_uri": "https://localhost:8080/"
        },
        "outputId": "9b63420f-0a04-499b-c24a-8a5a28677df0"
      },
      "execution_count": 50,
      "outputs": [
        {
          "output_type": "execute_result",
          "data": {
            "text/plain": [
              "<zip at 0x7f127bdf1c80>"
            ]
          },
          "metadata": {},
          "execution_count": 50
        }
      ]
    },
    {
      "cell_type": "code",
      "source": [
        "#Visualizar la secuencia a modo de lista\n",
        "list(familia)"
      ],
      "metadata": {
        "colab": {
          "base_uri": "https://localhost:8080/"
        },
        "id": "i5Ppe7qNyup9",
        "outputId": "b0bb86cc-8f8b-46c3-ab47-0553e9d2ddc6"
      },
      "execution_count": 43,
      "outputs": [
        {
          "output_type": "execute_result",
          "data": {
            "text/plain": [
              "[('Juan', 35), ('Nicole', 33), ('Cayetana', 8)]"
            ]
          },
          "metadata": {},
          "execution_count": 43
        }
      ]
    },
    {
      "cell_type": "code",
      "source": [
        "#Verificar que cada elemento de la lista es una tupla\n",
        "lista_fam = list(familia)\n",
        "lista_fam\n",
        "type(lista_fam[1])"
      ],
      "metadata": {
        "id": "0n6TCM5EiVCA",
        "outputId": "1c1cb9f0-00be-4246-9c0a-370681b40657",
        "colab": {
          "base_uri": "https://localhost:8080/"
        }
      },
      "execution_count": 51,
      "outputs": [
        {
          "output_type": "execute_result",
          "data": {
            "text/plain": [
              "tuple"
            ]
          },
          "metadata": {},
          "execution_count": 51
        }
      ]
    },
    {
      "cell_type": "markdown",
      "source": [
        "Vale señalar que las secuencias son objetos útiles para crear declaraciones iterativas, las cuales se verán mas adelante en este curso. Así también sirven para crear otros objetos como los diccionarios que se verán en la siguiente sección."
      ],
      "metadata": {
        "id": "TxQXZK5FzQmN"
      }
    },
    {
      "cell_type": "markdown",
      "source": [
        "### Diccionarios\n",
        "\n",
        "Los diccionarios son un objeto que se estructura mediante la combinación de parejas *clave: valor*, donde las claves son un objeto inmutable.\n",
        "\n",
        "Para construir un diccionario se utilizan las llaves de la siguiente forma:"
      ],
      "metadata": {
        "id": "dgI_BGsdzmxV"
      }
    },
    {
      "cell_type": "code",
      "source": [
        "#Crear un diccionario de clientes\n",
        "clientes = {\"ID\": [\"0001\",\"0002\",\"0003\"], \"Nombre\": [\"Empresa A\",\"Empresa B\",\"Empresa C\"], \"Tipo\": [1,2,1]}\n",
        "\n",
        "clientes"
      ],
      "metadata": {
        "colab": {
          "base_uri": "https://localhost:8080/"
        },
        "id": "CFUpPt8Pzikr",
        "outputId": "77ca6dfd-10dc-4d64-b392-0fee607c3827"
      },
      "execution_count": 52,
      "outputs": [
        {
          "output_type": "execute_result",
          "data": {
            "text/plain": [
              "{'ID': ['0001', '0002', '0003'],\n",
              " 'Nombre': ['Empresa A', 'Empresa B', 'Empresa C'],\n",
              " 'Tipo': [1, 2, 1]}"
            ]
          },
          "metadata": {},
          "execution_count": 52
        }
      ]
    },
    {
      "cell_type": "markdown",
      "source": [
        "Para generar consultas dentro del diccionario se ejecutan los siguientes métodos:"
      ],
      "metadata": {
        "id": "pBGC4Dn91udl"
      }
    },
    {
      "cell_type": "code",
      "source": [
        "#Averiguar las claves del diccionario\n",
        "clientes.keys()"
      ],
      "metadata": {
        "colab": {
          "base_uri": "https://localhost:8080/"
        },
        "id": "uCVzqoJT2Bpl",
        "outputId": "f05cd6b4-0325-4023-9596-7878b7e888d4"
      },
      "execution_count": 53,
      "outputs": [
        {
          "output_type": "execute_result",
          "data": {
            "text/plain": [
              "dict_keys(['ID', 'Nombre', 'Tipo'])"
            ]
          },
          "metadata": {},
          "execution_count": 53
        }
      ]
    },
    {
      "cell_type": "code",
      "source": [
        "#Averiguar los valores del diccionario\n",
        "clientes.values()"
      ],
      "metadata": {
        "colab": {
          "base_uri": "https://localhost:8080/"
        },
        "id": "2oxYVi0w2SYw",
        "outputId": "c3d8d2ab-ff85-4eca-dfd9-637fc869516c"
      },
      "execution_count": 54,
      "outputs": [
        {
          "output_type": "execute_result",
          "data": {
            "text/plain": [
              "dict_values([['0001', '0002', '0003'], ['Empresa A', 'Empresa B', 'Empresa C'], [1, 2, 1]])"
            ]
          },
          "metadata": {},
          "execution_count": 54
        }
      ]
    },
    {
      "cell_type": "code",
      "source": [
        "#Averiguar las claves y los valores al mismo tiempo\n",
        "clientes.items()"
      ],
      "metadata": {
        "colab": {
          "base_uri": "https://localhost:8080/"
        },
        "id": "khbPnTf52dCm",
        "outputId": "274d1990-5e1a-43a2-9101-2a841a77d2cd"
      },
      "execution_count": 55,
      "outputs": [
        {
          "output_type": "execute_result",
          "data": {
            "text/plain": [
              "dict_items([('ID', ['0001', '0002', '0003']), ('Nombre', ['Empresa A', 'Empresa B', 'Empresa C']), ('Tipo', [1, 2, 1])])"
            ]
          },
          "metadata": {},
          "execution_count": 55
        }
      ]
    },
    {
      "cell_type": "markdown",
      "source": [
        "Cada uno de estos métodos genera como resultado una secuencia, la cual por definición no es materializable pero si se la puede referenciar. Para materializar estos resultados se puede usar nuevamente la función *list*."
      ],
      "metadata": {
        "id": "0w0TgyZ-3K_4"
      }
    },
    {
      "cell_type": "code",
      "source": [
        "#Generar una lista con los valores del diccionario\n",
        "valores_clientes = list(clientes.values())"
      ],
      "metadata": {
        "id": "z5RAb-n93VZc"
      },
      "execution_count": 56,
      "outputs": []
    },
    {
      "cell_type": "code",
      "source": [
        "valores_clientes"
      ],
      "metadata": {
        "id": "wWKF0es8lkGc",
        "outputId": "c91943f8-b6e3-4f76-93e5-b61c4c993eae",
        "colab": {
          "base_uri": "https://localhost:8080/"
        }
      },
      "execution_count": 58,
      "outputs": [
        {
          "output_type": "execute_result",
          "data": {
            "text/plain": [
              "[['0001', '0002', '0003'], ['Empresa A', 'Empresa B', 'Empresa C'], [1, 2, 1]]"
            ]
          },
          "metadata": {},
          "execution_count": 58
        }
      ]
    },
    {
      "cell_type": "code",
      "source": [
        "#Consultar el segundo elemento\n",
        "valores_clientes[1]"
      ],
      "metadata": {
        "colab": {
          "base_uri": "https://localhost:8080/"
        },
        "id": "kIkUQAMK3tyq",
        "outputId": "14e7eefb-93fa-42ca-98bd-9101da1ce3f8"
      },
      "execution_count": 57,
      "outputs": [
        {
          "output_type": "execute_result",
          "data": {
            "text/plain": [
              "['Empresa A', 'Empresa B', 'Empresa C']"
            ]
          },
          "metadata": {},
          "execution_count": 57
        }
      ]
    },
    {
      "cell_type": "markdown",
      "source": [
        "Ahora bien, manteniendo la estructura de diccionario igualmente e sposible acceder a los valores de la siguiente forma:"
      ],
      "metadata": {
        "id": "NW8UYK_230hl"
      }
    },
    {
      "cell_type": "code",
      "source": [
        "#Acceder a un valor específico\n",
        "clientes[\"Nombre\"]"
      ],
      "metadata": {
        "colab": {
          "base_uri": "https://localhost:8080/"
        },
        "id": "3DV3TeLU2xy_",
        "outputId": "a3827c14-4199-48b5-fb93-228d436c0f66"
      },
      "execution_count": 59,
      "outputs": [
        {
          "output_type": "execute_result",
          "data": {
            "text/plain": [
              "['Empresa A', 'Empresa B', 'Empresa C']"
            ]
          },
          "metadata": {},
          "execution_count": 59
        }
      ]
    },
    {
      "cell_type": "code",
      "source": [
        "clientes[\"Tipo\"]"
      ],
      "metadata": {
        "id": "wk9UQUCol3NK",
        "outputId": "1263a6c7-097a-45ce-ea2a-1648bb21e1e7",
        "colab": {
          "base_uri": "https://localhost:8080/"
        }
      },
      "execution_count": 60,
      "outputs": [
        {
          "output_type": "execute_result",
          "data": {
            "text/plain": [
              "[1, 2, 1]"
            ]
          },
          "metadata": {},
          "execution_count": 60
        }
      ]
    },
    {
      "cell_type": "markdown",
      "source": [
        "A continuación, se creará un diccionario con la secuencia de familia que se vio previamente. Para lo cual se usará la función *dict*."
      ],
      "metadata": {
        "id": "QjkB1Sof071s"
      }
    },
    {
      "cell_type": "code",
      "source": [
        "#Utilizar zip para combinar las listas\n",
        "familia = zip(nombre,edad)\n",
        "\n",
        "#Crear diccionario de familia\n",
        "dicc_familia = dict(familia)\n",
        "dicc_familia"
      ],
      "metadata": {
        "colab": {
          "base_uri": "https://localhost:8080/"
        },
        "id": "yQXKoC5-1Fld",
        "outputId": "6852f514-4421-408e-b221-67dae7aee578"
      },
      "execution_count": 61,
      "outputs": [
        {
          "output_type": "execute_result",
          "data": {
            "text/plain": [
              "{'Cayetana': 8, 'Juan': 35, 'Nicole': 33}"
            ]
          },
          "metadata": {},
          "execution_count": 61
        }
      ]
    },
    {
      "cell_type": "markdown",
      "source": [
        "También es posible agregar un nuevo elemento *clave: valor* al diccionario, de la forma siguiente:"
      ],
      "metadata": {
        "id": "ewPmlNOuhcOi"
      }
    },
    {
      "cell_type": "code",
      "source": [
        "#Agregar nueva clave y valor\n",
        "dicc_familia[\"Lua\"] = 6\n",
        "\n",
        "dicc_familia"
      ],
      "metadata": {
        "colab": {
          "base_uri": "https://localhost:8080/"
        },
        "id": "eeUN8W3hhlne",
        "outputId": "206f2751-26cd-454d-8a06-199f166d7b61"
      },
      "execution_count": 62,
      "outputs": [
        {
          "output_type": "execute_result",
          "data": {
            "text/plain": [
              "{'Cayetana': 8, 'Juan': 35, 'Lua': 6, 'Nicole': 33}"
            ]
          },
          "metadata": {},
          "execution_count": 62
        }
      ]
    },
    {
      "cell_type": "markdown",
      "source": [
        "Y en el mismo sentido es posible eliminar elementos con el comando *del*."
      ],
      "metadata": {
        "id": "JLchT1_0iEjy"
      }
    },
    {
      "cell_type": "code",
      "source": [
        "#Quitar un elemento de la lista\n",
        "del dicc_familia[\"Lua\"]\n",
        "\n",
        "dicc_familia"
      ],
      "metadata": {
        "colab": {
          "base_uri": "https://localhost:8080/"
        },
        "id": "C1oblzxUh8gs",
        "outputId": "c9d10a23-0759-4591-e04c-5f9a0d365668"
      },
      "execution_count": 63,
      "outputs": [
        {
          "output_type": "execute_result",
          "data": {
            "text/plain": [
              "{'Cayetana': 8, 'Juan': 35, 'Nicole': 33}"
            ]
          },
          "metadata": {},
          "execution_count": 63
        }
      ]
    },
    {
      "cell_type": "markdown",
      "source": [
        "### Conjuntos\n",
        "\n",
        "Un conjunto es un objeto inmutable de elementos o valores cuya definición es equivalente a la existente en matemáticas.\n",
        "\n",
        "Para definirlo se utilizan llaves (por lo que se puede considerar a un diccionario como un subipo de conjunto) o la funcion *set* de la siguiente forma:"
      ],
      "metadata": {
        "id": "TTl6kZyQkXBP"
      }
    },
    {
      "cell_type": "code",
      "source": [
        "#Crear un conjunto de números primos hasta el 40\n",
        "conj_primos = {1,2,3,5,7,11,13,17,19,23,29,31,37,39}\n",
        "\n",
        "conj_primos"
      ],
      "metadata": {
        "colab": {
          "base_uri": "https://localhost:8080/"
        },
        "id": "dsXi1R9SkuRZ",
        "outputId": "72d16854-ce2d-4116-c18b-2c7f1808b5c5"
      },
      "execution_count": 64,
      "outputs": [
        {
          "output_type": "execute_result",
          "data": {
            "text/plain": [
              "{1, 2, 3, 5, 7, 11, 13, 17, 19, 23, 29, 31, 37, 39}"
            ]
          },
          "metadata": {},
          "execution_count": 64
        }
      ]
    },
    {
      "cell_type": "code",
      "source": [
        "#Crear un conjunto de los 20 primeros números\n",
        "lista_num = list(range(1,21,1))\n",
        "conj_num = set(lista_num)\n",
        "\n",
        "conj_num"
      ],
      "metadata": {
        "colab": {
          "base_uri": "https://localhost:8080/"
        },
        "id": "zigH2pN0lCIJ",
        "outputId": "e9552ded-c947-47c7-bb1d-578f9c866263"
      },
      "execution_count": 65,
      "outputs": [
        {
          "output_type": "execute_result",
          "data": {
            "text/plain": [
              "{1, 2, 3, 4, 5, 6, 7, 8, 9, 10, 11, 12, 13, 14, 15, 16, 17, 18, 19, 20}"
            ]
          },
          "metadata": {},
          "execution_count": 65
        }
      ]
    },
    {
      "cell_type": "markdown",
      "source": [
        "Las operaciones binarias en este contexto surgen de la teoría matemática de conjuntos, siendo las más comunes las siguientes:\n",
        "\n",
        "* Unión (OR)\n",
        "* Intersección (AND)\n",
        "* Diferencia (Paso previo para XOR)"
      ],
      "metadata": {
        "id": "Emv8zcNGmaLe"
      }
    },
    {
      "cell_type": "code",
      "source": [
        "# Union de conjuntos\n",
        "conj_num | conj_primos"
      ],
      "metadata": {
        "colab": {
          "base_uri": "https://localhost:8080/"
        },
        "id": "6yNm-85FH4WU",
        "outputId": "1cd67795-6ad2-4f7a-c7b3-b1ae40399c87"
      },
      "execution_count": 66,
      "outputs": [
        {
          "output_type": "execute_result",
          "data": {
            "text/plain": [
              "{1,\n",
              " 2,\n",
              " 3,\n",
              " 4,\n",
              " 5,\n",
              " 6,\n",
              " 7,\n",
              " 8,\n",
              " 9,\n",
              " 10,\n",
              " 11,\n",
              " 12,\n",
              " 13,\n",
              " 14,\n",
              " 15,\n",
              " 16,\n",
              " 17,\n",
              " 18,\n",
              " 19,\n",
              " 20,\n",
              " 23,\n",
              " 29,\n",
              " 31,\n",
              " 37,\n",
              " 39}"
            ]
          },
          "metadata": {},
          "execution_count": 66
        }
      ]
    },
    {
      "cell_type": "code",
      "source": [
        "# Intersección de conjuntos\n",
        "conj_num & conj_primos"
      ],
      "metadata": {
        "colab": {
          "base_uri": "https://localhost:8080/"
        },
        "id": "5ZL6xj3IILUs",
        "outputId": "96268b9d-a08f-4289-af54-f13ab24896e5"
      },
      "execution_count": 67,
      "outputs": [
        {
          "output_type": "execute_result",
          "data": {
            "text/plain": [
              "{1, 2, 3, 5, 7, 11, 13, 17, 19}"
            ]
          },
          "metadata": {},
          "execution_count": 67
        }
      ]
    },
    {
      "cell_type": "code",
      "source": [
        "# Diferencia de conjuntos\n",
        "conj_num - conj_primos"
      ],
      "metadata": {
        "colab": {
          "base_uri": "https://localhost:8080/"
        },
        "id": "Qus5pakoIiFi",
        "outputId": "bd149fa1-b9d1-499e-ad83-73100618bd0e"
      },
      "execution_count": 68,
      "outputs": [
        {
          "output_type": "execute_result",
          "data": {
            "text/plain": [
              "{4, 6, 8, 9, 10, 12, 14, 15, 16, 18, 20}"
            ]
          },
          "metadata": {},
          "execution_count": 68
        }
      ]
    },
    {
      "cell_type": "code",
      "source": [
        "# Or exclusivo (XOR) de conjuntos\n",
        "(conj_num - conj_primos) | (conj_primos - conj_num)"
      ],
      "metadata": {
        "colab": {
          "base_uri": "https://localhost:8080/"
        },
        "id": "0wiHqL_TJBCa",
        "outputId": "7464a3f3-5dcb-4034-c7b4-cc978925d71f"
      },
      "execution_count": 69,
      "outputs": [
        {
          "output_type": "execute_result",
          "data": {
            "text/plain": [
              "{4, 6, 8, 9, 10, 12, 14, 15, 16, 18, 20, 23, 29, 31, 37, 39}"
            ]
          },
          "metadata": {},
          "execution_count": 69
        }
      ]
    },
    {
      "cell_type": "markdown",
      "source": [
        "Para verificar que un elemento es parte de un conjunto es posible usar el operador *in*."
      ],
      "metadata": {
        "id": "Er1C84lbKQxA"
      }
    },
    {
      "cell_type": "code",
      "source": [
        "5 in conj_primos"
      ],
      "metadata": {
        "colab": {
          "base_uri": "https://localhost:8080/"
        },
        "id": "Hbg0rbB-JwpC",
        "outputId": "bf66942b-bb19-4676-86c5-b227c575f4de"
      },
      "execution_count": 70,
      "outputs": [
        {
          "output_type": "execute_result",
          "data": {
            "text/plain": [
              "True"
            ]
          },
          "metadata": {},
          "execution_count": 70
        }
      ]
    },
    {
      "cell_type": "code",
      "source": [
        "25 in conj_num"
      ],
      "metadata": {
        "colab": {
          "base_uri": "https://localhost:8080/"
        },
        "id": "kiG0KyC0KjZv",
        "outputId": "f69b10a9-f095-42ca-b366-cc86245b2dd4"
      },
      "execution_count": 71,
      "outputs": [
        {
          "output_type": "execute_result",
          "data": {
            "text/plain": [
              "False"
            ]
          },
          "metadata": {},
          "execution_count": 71
        }
      ]
    },
    {
      "cell_type": "markdown",
      "source": [
        "Y para comprobar que un diccionario es un subtipo de conjunto, se puede aplicar igualmente este operador:"
      ],
      "metadata": {
        "id": "Cd6lXoyLKrSB"
      }
    },
    {
      "cell_type": "code",
      "source": [
        "#Verificar que en el diccionario de clientes esté el nombre\n",
        "\"Nombre\" in clientes"
      ],
      "metadata": {
        "colab": {
          "base_uri": "https://localhost:8080/"
        },
        "id": "zxg7rIZmKztk",
        "outputId": "1b2502ce-68db-41e9-a85e-07ef55b9bf50"
      },
      "execution_count": 72,
      "outputs": [
        {
          "output_type": "execute_result",
          "data": {
            "text/plain": [
              "True"
            ]
          },
          "metadata": {},
          "execution_count": 72
        }
      ]
    },
    {
      "cell_type": "code",
      "source": [
        "\"Lua\" in dicc_familia"
      ],
      "metadata": {
        "id": "GfrmZZkGpM2M",
        "outputId": "ba05446f-20fd-43e3-d0a4-4e6eddfc347d",
        "colab": {
          "base_uri": "https://localhost:8080/"
        }
      },
      "execution_count": 73,
      "outputs": [
        {
          "output_type": "execute_result",
          "data": {
            "text/plain": [
              "False"
            ]
          },
          "metadata": {},
          "execution_count": 73
        }
      ]
    },
    {
      "cell_type": "markdown",
      "source": [
        "## Ejercicios"
      ],
      "metadata": {
        "id": "7-nKD8OaLDi8"
      }
    },
    {
      "cell_type": "markdown",
      "source": [
        "Sobre la base de lo aprendido resuelva los siguientes problemas:\n",
        "\n",
        "1. Indentifique como comentario y corrija los siguientes errores:"
      ],
      "metadata": {
        "id": "wsoJpC3aLFNq"
      }
    },
    {
      "cell_type": "code",
      "source": [
        "print(variable1)"
      ],
      "metadata": {
        "id": "4bhpYZESLQ8Z"
      },
      "execution_count": null,
      "outputs": []
    },
    {
      "cell_type": "code",
      "source": [
        "var_a = 5\n",
        "var_b = 10\n",
        "print('Mis números son: ' + var_a + var_b)"
      ],
      "metadata": {
        "id": "xkCCDgE-LXbZ"
      },
      "execution_count": null,
      "outputs": []
    },
    {
      "cell_type": "code",
      "source": [
        "tuple = (345123,876587,'Yes')\n",
        "tuple[0] = 1"
      ],
      "metadata": {
        "id": "JPZdMzACLhqY"
      },
      "execution_count": null,
      "outputs": []
    },
    {
      "cell_type": "code",
      "source": [
        "tuple = (1,2,3)\n",
        "tuple.index[1]"
      ],
      "metadata": {
        "id": "JilfOSG-L-_3"
      },
      "execution_count": null,
      "outputs": []
    },
    {
      "cell_type": "code",
      "source": [
        "teams = ['Barcelona','Valencia','Manchester City','Burnley']\n",
        "teams.add('Espanyol')"
      ],
      "metadata": {
        "id": "FRVBtspfL_rr"
      },
      "execution_count": null,
      "outputs": []
    },
    {
      "cell_type": "code",
      "source": [
        "teams = ['Barcelona','Valencia','Manchester City','Burnley']\n",
        "# mostrar los tres primeros equipos\n",
        "teams[;2]"
      ],
      "metadata": {
        "id": "obY9QNJCMHTR"
      },
      "execution_count": null,
      "outputs": []
    },
    {
      "cell_type": "code",
      "source": [
        "dict1 = ['name' : ['Munir','Carles','Dorian'], ages : [9,27,87]]"
      ],
      "metadata": {
        "id": "M_DlwiYqMyOR"
      },
      "execution_count": null,
      "outputs": []
    },
    {
      "cell_type": "code",
      "source": [
        "platforms = ['PS4', 'iOS', 'Android','PC']\n",
        "versions = [1.2,1.2,1.1,1.0]\n",
        "database = dict{platforms : versions}"
      ],
      "metadata": {
        "id": "yB8mUkqSMzR7"
      },
      "execution_count": null,
      "outputs": []
    },
    {
      "cell_type": "code",
      "source": [
        "users = {'ID' : [123321,8976321], 'username': ['lamb018','xix112']}\n",
        "drop users['ID']"
      ],
      "metadata": {
        "id": "zcR6MSMZN_xA"
      },
      "execution_count": null,
      "outputs": []
    },
    {
      "cell_type": "code",
      "source": [
        "integer_numbers = {-5,-4,-3,-2,-1,0,1,2,3,4,5}\n",
        "-5 is in integer_numbers"
      ],
      "metadata": {
        "id": "X0qqL62JOEJv"
      },
      "execution_count": null,
      "outputs": []
    },
    {
      "cell_type": "markdown",
      "source": [
        "2. Cree las siguientes funcionalidades"
      ],
      "metadata": {
        "id": "a4dZtxJeMTWv"
      }
    },
    {
      "cell_type": "code",
      "source": [
        "#Crear una lista que contenga todos los números enteros positivos menores que 100"
      ],
      "metadata": {
        "id": "e6mskNhWMXsj"
      },
      "execution_count": null,
      "outputs": []
    },
    {
      "cell_type": "code",
      "source": [
        "#Genere una nueva lista en la cual si el valor es menor a 50 se mantenga y si es mayor o igual a 50 se divida para 2"
      ],
      "metadata": {
        "id": "IfImykxnNL8i"
      },
      "execution_count": null,
      "outputs": []
    },
    {
      "cell_type": "code",
      "source": [
        "#Genere una lista de variables de texto al azar con al menos 7 valores\n",
        "#Imprima para cada elemento la frase \"Esta palabra tiene xx caracteres\" (pista: utilizar la funcion len)\n",
        "#Cree una nueva lista que solamente incluya los valores con menos de 4 caracteres"
      ],
      "metadata": {
        "id": "vsohRM2SOVqA"
      },
      "execution_count": null,
      "outputs": []
    }
  ]
}