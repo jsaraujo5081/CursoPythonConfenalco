{
  "nbformat": 4,
  "nbformat_minor": 0,
  "metadata": {
    "colab": {
      "name": "01IntroduccionPython.ipynb",
      "provenance": [],
      "collapsed_sections": [],
      "authorship_tag": "ABX9TyMvV5WthwP51rd4pC6IzYUF",
      "include_colab_link": true
    },
    "kernelspec": {
      "name": "python3",
      "display_name": "Python 3"
    },
    "language_info": {
      "name": "python"
    }
  },
  "cells": [
    {
      "cell_type": "markdown",
      "metadata": {
        "id": "view-in-github",
        "colab_type": "text"
      },
      "source": [
        "<a href=\"https://colab.research.google.com/github/jsaraujo5081/CursoPythonConfenalco/blob/notebooks/01IntroduccionPython.ipynb\" target=\"_parent\"><img src=\"https://colab.research.google.com/assets/colab-badge.svg\" alt=\"Open In Colab\"/></a>"
      ]
    },
    {
      "cell_type": "markdown",
      "source": [
        ""
      ],
      "metadata": {
        "id": "uRhGwskNGkug"
      }
    },
    {
      "cell_type": "markdown",
      "source": [
        "## **INTRODUCCIÓN AL CURSO**"
      ],
      "metadata": {
        "id": "Ot030N0EGrBO"
      }
    },
    {
      "cell_type": "markdown",
      "source": [
        "### Contenido\n",
        "\n",
        "* El entorno Python\n",
        "* Variables en Python\n",
        "* Objetos\n",
        "* Funciones\n",
        "* Nuestra primera función"
      ],
      "metadata": {
        "id": "5eGnPzdoHz7M"
      }
    },
    {
      "cell_type": "markdown",
      "source": [
        "### El entorno Python\n",
        "\n",
        "Python es un entorno de aplicaciones diseñadas para la\n",
        "manipulación de datos, el desarrollo de cálculos estadísticos y\n",
        "la visualización gráfica, que funciona bajo el paraguas “open\n",
        "source”.\n",
        "\n",
        "* Su lógica se basa en la utilización combinada de\n",
        "“paquetes” (o “librerías”) desarrollados por investigadores\n",
        "privados, pero validados por una red de pares calificados.\n",
        "* Python es un entorno en el sentido que su desarrollo está planificado\n",
        "y se encuentra dentro de un sistema coherente de nuevos\n",
        "métodos de análisis de datos.\n",
        "* Esto garantiza que sus resultados son confiables desde\n",
        "una perspectiva estadística y computacional.\n",
        "* A diferencia de otros lenguajes de programación estadística\n",
        "basada en objetos, Python tiende a mantener un alto estándar de\n",
        "rigurosidad computacional por sobre lo matemático.\n",
        "* Ha sido desarrollado por Ingenieros y no por matemáticos\n",
        "como es el caso de R."
      ],
      "metadata": {
        "id": "ZPocpslYKkmS"
      }
    },
    {
      "cell_type": "markdown",
      "source": [
        "### El mundo del análisis de datos\n",
        "\n",
        "Python es una de muchas herramientas para el\n",
        "análisis de datos en la actualidad que\n",
        "combinan el poder de la computación con\n",
        "la matemática.\n",
        "\n",
        "Mi TOP 5 personal:\n",
        "\n",
        "1. R\n",
        "2. Python\n",
        "3. DAX/Visual\n",
        "4. Javascript\n",
        "5. Google Go\n",
        "\n",
        "En los últimos años, sin embargo, han\n",
        "aparecido herramientas que buscan mayor\n",
        "facilidad para el analista a través del\n",
        "esquema “no code”. Por mencionar algunos casos:\n",
        "\n",
        "* Knime\n",
        "* H20\n",
        "* Alteryx\n",
        "* Datarobot\n"
      ],
      "metadata": {
        "id": "LCf-1Rh7LV7r"
      }
    },
    {
      "cell_type": "markdown",
      "source": [
        "### Contraste entre entornos de análisis estadístico\n",
        "\n",
        "| Parametro | SAS | Python | R |\n",
        "| --- | --- | --- | --- |\n",
        "| Costo / Disponibilidad | 3 | 5 | 5 |\n",
        "| Facilidad de aprendizaje | 4.5 | 3.5 | 2.5 |\n",
        "| Manejo de datos | 4 | 4 | 4 |\n",
        "| Capacidades gráficas | 3 | 4.5 | 4.5 |\n",
        "| Analítica avanzada | 4 | 4.5 | 4.5 |\n",
        "| Habilidad Laboral | 4 | 4.5 | 4.5 |\n",
        "| Servicio técnico | 4.5 | 3 | 3 |\n",
        "| Aprendizaje computacional | 2 | 4.5 | 4 |"
      ],
      "metadata": {
        "id": "6tzwMuXnMCeF"
      }
    },
    {
      "cell_type": "markdown",
      "source": [
        "### Importancia de saber programar con datos\n",
        "\n",
        "Según Linkedin para el año 2020 estas son las 10 habilidades duras más requeridas a nivel mundial:\n",
        "\n",
        "* Blockchain\n",
        "* Computación en la nube\n",
        "* Razonamiento analítico\n",
        "* Inteligencia artificial\n",
        "* Diseño UX\n",
        "* Inteligencia de negocios\n",
        "* Mercadeo\n",
        "* Ventas\n",
        "* Computación científica\n",
        "* Producción audiovisual"
      ],
      "metadata": {
        "id": "5ekqOv4FOc0B"
      }
    },
    {
      "cell_type": "markdown",
      "source": [
        "### Variables en Python\n",
        "\n",
        "Una variable en términos computacionales es similar a una de tipo matemático, pues corresponde a un elemento con la capacidad de guardar un valor, mismo que puede **VARIAR** a través de un proceso.\n",
        "\n",
        "Para asignar un valor a una variable en Python debemos utilizar la siguiente notación:\n",
        "\n",
        "$$ variable = valor $$"
      ],
      "metadata": {
        "id": "hhQaIa0CQIT-"
      }
    },
    {
      "cell_type": "markdown",
      "source": [
        "### Tipos fundamentales de variables\n",
        "\n",
        "Una variable solamente puede ser de un tipo o clase específico.\n",
        "\n",
        "Para conocer este tipo vamos a usar la funcion *type*, y vamos a presentar cuáles son las clases más importantes:\n",
        "\n",
        "* Numérica entera\n",
        "\n"
      ],
      "metadata": {
        "id": "o-lrkbBORD5Z"
      }
    },
    {
      "cell_type": "code",
      "execution_count": 3,
      "metadata": {
        "colab": {
          "base_uri": "https://localhost:8080/"
        },
        "id": "Lj_usg7UGivj",
        "outputId": "1c18e6fe-745d-4b61-e0f4-e4e34c0cf5b1"
      },
      "outputs": [
        {
          "output_type": "stream",
          "name": "stdout",
          "text": [
            "5\n",
            "<class 'int'>\n"
          ]
        }
      ],
      "source": [
        "var_entera = 5\n",
        "print(var_entera)\n",
        "print(type(var_entera))"
      ]
    },
    {
      "cell_type": "markdown",
      "source": [
        "* Numérica decimal (referida en Python como float)"
      ],
      "metadata": {
        "id": "o87yhDtLRnM2"
      }
    },
    {
      "cell_type": "code",
      "source": [
        "var_decimal = 34.26\n",
        "print(var_decimal)\n",
        "print(type(var_decimal))"
      ],
      "metadata": {
        "colab": {
          "base_uri": "https://localhost:8080/"
        },
        "id": "ArTx43Y5RsKt",
        "outputId": "6e7292af-dd39-4a5a-c95c-b68ee612cd2b"
      },
      "execution_count": 4,
      "outputs": [
        {
          "output_type": "stream",
          "name": "stdout",
          "text": [
            "34.26\n",
            "<class 'float'>\n"
          ]
        }
      ]
    },
    {
      "cell_type": "markdown",
      "source": [
        "* Texto"
      ],
      "metadata": {
        "id": "h2VYvwxfR3wu"
      }
    },
    {
      "cell_type": "code",
      "source": [
        "var_texto = \"Juan\"\n",
        "print(var_texto)\n",
        "print(type(var_texto))"
      ],
      "metadata": {
        "colab": {
          "base_uri": "https://localhost:8080/"
        },
        "id": "bnM0gg8LSU4w",
        "outputId": "8a019382-1308-4fa6-b765-a2d00d95f9c8"
      },
      "execution_count": 5,
      "outputs": [
        {
          "output_type": "stream",
          "name": "stdout",
          "text": [
            "Juan\n",
            "<class 'str'>\n"
          ]
        }
      ]
    },
    {
      "cell_type": "markdown",
      "source": [
        "* Buleano"
      ],
      "metadata": {
        "id": "-LubrEAFTTwt"
      }
    },
    {
      "cell_type": "code",
      "source": [
        "var_buleano = True\n",
        "print(var_buleano)\n",
        "print(type(var_buleano))"
      ],
      "metadata": {
        "colab": {
          "base_uri": "https://localhost:8080/"
        },
        "id": "ay_vilqmTd8e",
        "outputId": "230747cb-cc72-4afc-f776-0dd1c4544aad"
      },
      "execution_count": 6,
      "outputs": [
        {
          "output_type": "stream",
          "name": "stdout",
          "text": [
            "True\n",
            "<class 'bool'>\n"
          ]
        }
      ]
    },
    {
      "cell_type": "markdown",
      "source": [
        "Existen además otros tipos de variables como son las categóricas y fechas, mismas que serán revisadas posteriormente en el curso puesto que requieren de un mayor conocimiento y dominio de la herramienta."
      ],
      "metadata": {
        "id": "dtENSVqsUP4K"
      }
    },
    {
      "cell_type": "markdown",
      "source": [
        "### Conversión de tipos\n",
        "\n",
        "En muchas ocasiones podría ser conveniente establecer \"manualmente\" el tipo de una variable. Aquí unos ejemplos de cómo hacerlo:"
      ],
      "metadata": {
        "id": "LBBsruf-ToEh"
      }
    },
    {
      "cell_type": "code",
      "source": [
        "#Ejemplo 1: Imprimir un mensaje de texto indicando su nombre y su edad\n",
        "Nombre = \"Nicole\"\n",
        "Edad = 33\n",
        "\n",
        "print(\"Mi nombre es \" + Nombre + \", y tengo \" + str(Edad) + \"años.\")"
      ],
      "metadata": {
        "colab": {
          "base_uri": "https://localhost:8080/"
        },
        "id": "zVDeEgWCUyRc",
        "outputId": "aae5d49f-467f-4bdb-c91f-effc2acd39b1"
      },
      "execution_count": 7,
      "outputs": [
        {
          "output_type": "stream",
          "name": "stdout",
          "text": [
            "Mi nombre es Nicole, y tengo 33años.\n"
          ]
        }
      ]
    },
    {
      "cell_type": "markdown",
      "source": [
        "Nótese dos cosas:\n",
        "\n",
        "* La primera es que para convertir la variable numérica *Edad* a un texto hemos usado la funcion *str*.\n",
        "* La segunda es que hemos usado el símbolo *#* para escribir un texto dentro del código. Estos se llaman Comentarios y son muy útiles para guiar de forma semántica al lector respecto a lo que se hace en un código de programación. \n",
        "\n",
        "Otro ejemplo de conversión de variables:"
      ],
      "metadata": {
        "id": "74PJHbVYVOzc"
      }
    },
    {
      "cell_type": "code",
      "source": [
        "#Ejemplo 2: Asegurarse que todas las variables numéricas sean decimales\n",
        "a = 12.5\n",
        "b = 50\n",
        "c = -29.1\n",
        "\n",
        "print (\"a es de tipo: \" + str(type(a)) + \"\\n\", #La expresión \"\\n\" representa un salto de línea\n",
        "       \"b es de tipo: \" + str(type(b)) + \"\\n\",\n",
        "       \"c es de tipo: \" + str(type(c)) + \"\\n\")"
      ],
      "metadata": {
        "colab": {
          "base_uri": "https://localhost:8080/"
        },
        "id": "I-fa4swpVbD9",
        "outputId": "65151bc5-2723-487c-e6a8-982de2fa607c"
      },
      "execution_count": 16,
      "outputs": [
        {
          "output_type": "stream",
          "name": "stdout",
          "text": [
            "a es de tipo: <class 'float'>\n",
            " b es de tipo: <class 'int'>\n",
            " c es de tipo: <class 'float'>\n",
            "\n"
          ]
        }
      ]
    },
    {
      "cell_type": "code",
      "source": [
        "b = float(b)\n",
        "\n",
        "print (\"a es de tipo: \" + str(type(a)) + \"\\n\", \n",
        "       \"b es de tipo: \" + str(type(b)) + \"\\n\",\n",
        "       \"c es de tipo: \" + str(type(c)) + \"\\n\")\n",
        "\n",
        "print(b)"
      ],
      "metadata": {
        "colab": {
          "base_uri": "https://localhost:8080/"
        },
        "id": "OmMfb4QFWwQy",
        "outputId": "717ed979-88c7-4ddb-b60d-f76d92a6a48d"
      },
      "execution_count": 19,
      "outputs": [
        {
          "output_type": "stream",
          "name": "stdout",
          "text": [
            "a es de tipo: <class 'float'>\n",
            " b es de tipo: <class 'float'>\n",
            " c es de tipo: <class 'float'>\n",
            "\n",
            "50.0\n"
          ]
        }
      ]
    },
    {
      "cell_type": "markdown",
      "source": [
        "Para cambiar en el tipo de variable, en este caso se ha usado la funcion *float*."
      ],
      "metadata": {
        "id": "kM0X1vTIW96Y"
      }
    }
  ]
}