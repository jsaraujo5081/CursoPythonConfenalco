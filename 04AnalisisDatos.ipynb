{
  "nbformat": 4,
  "nbformat_minor": 0,
  "metadata": {
    "colab": {
      "name": "04AnalisisDatos.ipynb",
      "provenance": [],
      "collapsed_sections": [
        "O1QGgWK4rT6P",
        "KrIR-po4xbiQ",
        "2I1dcbPmuSAL",
        "x45hj5-z69Yq"
      ],
      "authorship_tag": "ABX9TyPlxIIqpuBCZ6q3JbvzX5wx",
      "include_colab_link": true
    },
    "kernelspec": {
      "name": "python3",
      "display_name": "Python 3"
    },
    "language_info": {
      "name": "python"
    }
  },
  "cells": [
    {
      "cell_type": "markdown",
      "metadata": {
        "id": "view-in-github",
        "colab_type": "text"
      },
      "source": [
        "<a href=\"https://colab.research.google.com/github/jsaraujo5081/CursoPythonConfenalco/blob/notebooks/04AnalisisDatos.ipynb\" target=\"_parent\"><img src=\"https://colab.research.google.com/assets/colab-badge.svg\" alt=\"Open In Colab\"/></a>"
      ]
    },
    {
      "cell_type": "markdown",
      "source": [
        "# ANÁLISIS DE DATOS EN PYTHON"
      ],
      "metadata": {
        "id": "RQncbwgorH6N"
      }
    },
    {
      "cell_type": "markdown",
      "source": [
        "## Contenido\n",
        "\n",
        "* Importar data frame\n",
        "* Ajuste preliminar de variables\n",
        "* Análisis estadístico y agregación\n",
        "* Ingeniería de variables"
      ],
      "metadata": {
        "id": "e6Xc-cmwrOlh"
      }
    },
    {
      "cell_type": "markdown",
      "source": [
        "## Importar data frame "
      ],
      "metadata": {
        "id": "O1QGgWK4rT6P"
      }
    },
    {
      "cell_type": "code",
      "execution_count": 2,
      "metadata": {
        "id": "pQnEtW7Sotm3"
      },
      "outputs": [],
      "source": [
        "#Cargar librerias para análisis de datos\n",
        "import pandas as pd\n",
        "import numpy as np"
      ]
    },
    {
      "cell_type": "code",
      "source": [
        "#Importar data frame\n",
        "filepath = \"https://raw.githubusercontent.com/jsaraujo5081/CursoPythonConfenalco/data/Data_Matriculacion.csv\"\n",
        "df_autos = pd.read_table(filepath, header = 0, sep = \",\")"
      ],
      "metadata": {
        "id": "D3WOiJLmrgDd"
      },
      "execution_count": 26,
      "outputs": []
    },
    {
      "cell_type": "code",
      "source": [
        "df_autos.head(5)"
      ],
      "metadata": {
        "id": "5QJgvLJVrzK3"
      },
      "execution_count": null,
      "outputs": []
    },
    {
      "cell_type": "code",
      "source": [
        "#Estructura del data frame\n",
        "df_autos.info()"
      ],
      "metadata": {
        "id": "lijl9QOsr6lf"
      },
      "execution_count": null,
      "outputs": []
    },
    {
      "cell_type": "markdown",
      "source": [
        "## Ajuste preliminar de variables"
      ],
      "metadata": {
        "id": "KrIR-po4xbiQ"
      }
    },
    {
      "cell_type": "code",
      "source": [
        "#Cambiar tipos de variables (Forma 1)\n",
        "df_autos[\"Cod_Vehiculo\"] = str(df_autos[\"Cod_Vehiculo\"])"
      ],
      "metadata": {
        "id": "FXqqfUCHv5Ad"
      },
      "execution_count": 27,
      "outputs": []
    },
    {
      "cell_type": "code",
      "source": [
        "#Forma 2\n",
        "df_autos[\"Canton\"] = df_autos[\"Canton\"].astype(\"category\")\n",
        "df_autos[\"Provincia\"] = df_autos[\"Provincia\"].astype(\"category\")\n",
        "df_autos[\"Marca\"] = df_autos[\"Marca\"].astype(\"category\")\n",
        "df_autos[\"Clase\"] = df_autos[\"Clase\"].astype(\"category\")\n",
        "df_autos[\"Sub_Clase\"] = df_autos[\"Sub_Clase\"].astype(\"category\")\n",
        "df_autos[\"Combustible\"] = df_autos[\"Combustible\"].astype(\"category\")\n",
        "df_autos[\"Servicio\"] = df_autos[\"Servicio\"].astype(\"category\")"
      ],
      "metadata": {
        "id": "oQoduCZjwrxj"
      },
      "execution_count": 28,
      "outputs": []
    },
    {
      "cell_type": "code",
      "source": [
        "#Estructura del data frame\n",
        "df_autos.info()"
      ],
      "metadata": {
        "id": "Fh4vacUlwEqP"
      },
      "execution_count": null,
      "outputs": []
    },
    {
      "cell_type": "markdown",
      "source": [
        "## Analisis estadístico y agregación"
      ],
      "metadata": {
        "id": "2I1dcbPmuSAL"
      }
    },
    {
      "cell_type": "code",
      "source": [
        "# Resumen estadístico (Variables numéricas)\n",
        "df_autos.describe(include = np.number)"
      ],
      "metadata": {
        "id": "ZZSlUEQkto07"
      },
      "execution_count": null,
      "outputs": []
    },
    {
      "cell_type": "code",
      "source": [
        "#Correlacion entre Cilindraje y Avaluo\n",
        "df_cilaval = df_autos[[\"Cilindraje\",\"Valor_Avaluo\"]]\n",
        "df_cilaval.corr()"
      ],
      "metadata": {
        "id": "PeUEh_ajukLF"
      },
      "execution_count": null,
      "outputs": []
    },
    {
      "cell_type": "code",
      "source": [
        "#Resumen estadístico (Variables no numéricas)\n",
        "df_autos.describe(include = [object,\"category\"])"
      ],
      "metadata": {
        "id": "Wp4NlLLDr_ve"
      },
      "execution_count": null,
      "outputs": []
    },
    {
      "cell_type": "code",
      "source": [
        "#Serie con conteo por cantón\n",
        "frec_canton = df_autos[\"Canton\"].value_counts()\n",
        "\n",
        "#Transformar serie a data frame creando primero un diccionario\n",
        "d_frec_canton = {\"Canton\":frec_canton.index,\"Frecuencia\":frec_canton}\n",
        "df_frec_canton = pd.DataFrame(d_frec_canton)\n",
        "df_frec_canton.index = range(0,len(frec_canton))\n",
        "\n",
        "#Incorporar frecuencia relativa\n",
        "df_frec_canton[\"Frec_Relativa\"] = np.round(100*df_frec_canton.Frecuencia/np.sum(df_frec_canton.Frecuencia),2)\n",
        "\n",
        "#Ver resultado\n",
        "df_frec_canton"
      ],
      "metadata": {
        "id": "WcBROfT17dL0"
      },
      "execution_count": null,
      "outputs": []
    },
    {
      "cell_type": "code",
      "source": [
        "#Conteos o tablas de frecuencia por provincia\n",
        "frec_provincia = df_autos[\"Provincia\"].value_counts()\n",
        "d_frec_provincia = {\"Provincia\":frec_provincia.index,\"Frecuencia\":frec_provincia}\n",
        "df_frec_provincia = pd.DataFrame(d_frec_provincia)\n",
        "df_frec_provincia.index = range(0,len(frec_provincia))\n",
        "df_frec_provincia[\"Frec_Relativa\"] = np.round(100*df_frec_provincia.Frecuencia/np.sum(df_frec_provincia.Frecuencia),2)\n",
        "df_frec_provincia"
      ],
      "metadata": {
        "id": "OxbOMgGA8SxY"
      },
      "execution_count": null,
      "outputs": []
    },
    {
      "cell_type": "code",
      "source": [
        "#Otras tablas de frecuencia que desee para variables categóricas"
      ],
      "metadata": {
        "id": "CCV7viK1-jkJ"
      },
      "execution_count": 84,
      "outputs": []
    },
    {
      "cell_type": "code",
      "source": [
        "#Obtener el avalúo promedio por año y mes\n",
        "df_autos.groupby([\"Periodo\",\"Mes\"], as_index=False)[\"Valor_Avaluo\"].mean()"
      ],
      "metadata": {
        "id": "kXR2rt2GBVUi"
      },
      "execution_count": null,
      "outputs": []
    },
    {
      "cell_type": "code",
      "source": [
        "#Obtener para cada periodo y mes el promedio del avaluo y el conteo de vehículos\n",
        "df_autos.groupby([\"Periodo\",\"Mes\"], as_index=False).agg({\"Valor_Avaluo\":\"mean\",\"Cod_Vehiculo\":\"count\"})"
      ],
      "metadata": {
        "id": "1dO-EHAGC8Nm"
      },
      "execution_count": null,
      "outputs": []
    },
    {
      "cell_type": "code",
      "source": [
        "#Crear tabla pivote entre paises y clase que cuente casos\n",
        "df_pais_clase = df_autos.pivot_table(\"Cod_Vehiculo\", index = \"Pais_Origen\", columns = \"Clase\", aggfunc = \"count\")\n",
        "df_pais_clase"
      ],
      "metadata": {
        "id": "eY899qZR_8-b"
      },
      "execution_count": null,
      "outputs": []
    },
    {
      "cell_type": "code",
      "source": [
        "#Construir tabla pivote por clase y combustible pero con el promedio de avalúo\n",
        "df_clase_comb = df_autos.pivot_table(\"Valor_Avaluo\", index = \"Clase\", columns = \"Combustible\", aggfunc = \"mean\")\n",
        "df_clase_comb"
      ],
      "metadata": {
        "id": "iRyeKbkMA4u_"
      },
      "execution_count": null,
      "outputs": []
    },
    {
      "cell_type": "markdown",
      "source": [
        "## Ingeniería de variables\n"
      ],
      "metadata": {
        "id": "x45hj5-z69Yq"
      }
    },
    {
      "cell_type": "code",
      "source": [
        "# Crear variable que se llama \"Grupo_Origen\" tal que: \n",
        "#Si Pais es Ecuador sea \"Nacional\", si es Colombia, Perú sea \"CAN\", Caso Contrario sea \"Exterior\"\n",
        "lista_aux = []\n",
        "for i in range(0,len(df_autos)):\n",
        "  if df_autos[\"Pais_Origen\"][i] == \"ECUADOR\":\n",
        "    lista_aux.append(\"Nacional\")\n",
        "  elif df_autos[\"Pais_Origen\"][i] == \"COLOMBIA\" or df_autos[\"Pais_Origen\"][i] == \"PERU\":\n",
        "    lista_aux.append(\"CAN\")\n",
        "  else:\n",
        "    lista_aux.append(\"Exterior\")\n",
        "\n",
        "df_autos[\"Grupo_Origen\"] = lista_aux"
      ],
      "metadata": {
        "id": "uWSAQH087TKn"
      },
      "execution_count": 91,
      "outputs": []
    },
    {
      "cell_type": "code",
      "source": [
        "#Ver un conteo de frecuencias de esta variable creada\n",
        "frec_origen = df_autos[\"Grupo_Origen\"].value_counts()\n",
        "d_frec_origen = {\"Grupo_Origen\":frec_origen.index,\"Frecuencia\":frec_origen}\n",
        "df_frec_origen = pd.DataFrame(d_frec_origen)\n",
        "df_frec_origen.index = range(0,len(frec_origen))\n",
        "df_frec_origen[\"Frec_Relativa\"] = np.round(100*df_frec_origen.Frecuencia/np.sum(df_frec_origen.Frecuencia),2)\n",
        "df_frec_origen"
      ],
      "metadata": {
        "id": "g4Z-FHryF6H0"
      },
      "execution_count": null,
      "outputs": []
    },
    {
      "cell_type": "code",
      "source": [
        "#Crear variable \"Rango_Avaluo\" que contenga 3 rangos de avaluo tal que:\n",
        "#Si clase es Automovil, Camioneta o Jeep:\n",
        "#Si Avaluo es menor a 15000 sea \"Bajo\", Si esta entre 15000 y 40000 sea \"Medio\", Caso contrario sea \"Alto\"\n",
        "#Para cualquier otra clase el Rango es \"No Aplica\"\n",
        "\n",
        "#Construir tabla de frecuencias de esta variable creada"
      ],
      "metadata": {
        "id": "RlFYsaJEGgIb"
      },
      "execution_count": null,
      "outputs": []
    },
    {
      "cell_type": "code",
      "source": [
        "#Identificar casos atipicos de avaluo en automóviles\n",
        "\n",
        "#Tabla auxiliar filtrando solamente automóviles en Clase\n",
        "df_auxiliar = df_autos[df_autos[\"Clase\"] == \"AUTOMOVIL\"]\n",
        "df_auxiliar.head()\n",
        "\n",
        "#Obtener límites para identificar casos atípicos\n",
        "iqr = df_auxiliar[\"Valor_Avaluo\"].quantile(0.75) - df_auxiliar[\"Valor_Avaluo\"].quantile(0.25)\n",
        "lim_sup = df_auxiliar[\"Valor_Avaluo\"].quantile(0.75) + 1.5*iqr\n",
        "lim_inf = df_auxiliar[\"Valor_Avaluo\"].quantile(0.25) - 1.5*iqr\n",
        "print(lim_sup)\n",
        "print(lim_inf)"
      ],
      "metadata": {
        "id": "9-43tVFaMkD4"
      },
      "execution_count": null,
      "outputs": []
    },
    {
      "cell_type": "code",
      "source": [
        "#Crear columna que identifique casos atípicos\n",
        "lista_aux = []\n",
        "for i in range(0,len(df_autos)):\n",
        "  if df_autos[\"Clase\"][i] == \"AUTOMOVIL\":\n",
        "    if df_autos[\"Valor_Avaluo\"][i] > lim_sup or  df_autos[\"Valor_Avaluo\"][i] < lim_inf:\n",
        "      lista_aux.append(\"ATIPICO\")\n",
        "    else:\n",
        "      lista_aux.append(\"OK\")\n",
        "  else:\n",
        "    lista_aux.append(\"OK\")\n",
        "\n",
        "df_autos[\"Caso\"] = lista_aux"
      ],
      "metadata": {
        "id": "2Mba0QVaQIyl"
      },
      "execution_count": 116,
      "outputs": []
    },
    {
      "cell_type": "code",
      "source": [
        "#Contar y promedio avaluo por caso\n",
        "df_autos.groupby([\"Caso\"], as_index = False).agg({\"Cod_Vehiculo\":\"count\",\"Valor_Avaluo\":\"mean\"})"
      ],
      "metadata": {
        "id": "DIsgmAWsRRJH"
      },
      "execution_count": null,
      "outputs": []
    },
    {
      "cell_type": "code",
      "source": [
        "#Sustituir casos atipicos por un valor de avaluo mediano\n",
        "avaluo_ref = df_auxiliar[\"Valor_Avaluo\"].median()\n",
        "\n",
        "for i in range(0,len(df_autos)):\n",
        "  if df_autos[\"Caso\"][i] == \"ATIPICO\":\n",
        "    df_autos[\"Valor_Avaluo\"][i] = avaluo_ref\n",
        "  else:\n",
        "    continue"
      ],
      "metadata": {
        "id": "YtjRb1XfSo8F"
      },
      "execution_count": null,
      "outputs": []
    },
    {
      "cell_type": "code",
      "source": [
        "#Contar y promedio avaluo por caso\n",
        "df_autos.groupby([\"Caso\"], as_index = False).agg({\"Cod_Vehiculo\":\"count\",\"Valor_Avaluo\":\"mean\"})"
      ],
      "metadata": {
        "id": "mjbX0htlUY7L"
      },
      "execution_count": null,
      "outputs": []
    }
  ]
}